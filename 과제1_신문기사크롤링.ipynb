{
 "cells": [
  {
   "cell_type": "markdown",
   "metadata": {
    "id": "mH7_SrlLjb_F"
   },
   "source": [
    "# 1.신문기사 크롤링 샘플"
   ]
  },
  {
   "cell_type": "code",
   "execution_count": null,
   "metadata": {
    "colab": {
     "base_uri": "https://localhost:8080/"
    },
    "id": "lfFH7ZMUyFH7",
    "outputId": "dd84eff8-bebd-474f-ea07-cbe6e6d170c7"
   },
   "outputs": [
    {
     "data": {
      "text/plain": [
       "['https://www.mk.co.kr/news/society/10673179',\n",
       " 'https://www.mk.co.kr/news/society/10670877',\n",
       " 'https://www.mk.co.kr/news/society/10670387']"
      ]
     },
     "execution_count": 15,
     "metadata": {},
     "output_type": "execute_result"
    }
   ],
   "source": [
    "# 매일경제 신문의 '빅데이터 인공지능' 관련 크롤링 대상 기사 URL 리스트 \n",
    "url_list=list()\n",
    "url_list.insert(0,'https://www.mk.co.kr/news/society/10673179')\n",
    "url_list.insert(1,'https://www.mk.co.kr/news/society/10670877')\n",
    "url_list.insert(2,'https://www.mk.co.kr/news/society/10670387')\n",
    "url_list"
   ]
  },
  {
   "cell_type": "code",
   "execution_count": null,
   "metadata": {
    "colab": {
     "base_uri": "https://localhost:8080/",
     "height": 143
    },
    "id": "_T0gKA2KyeXq",
    "outputId": "8a9fffb7-6404-40c6-96cd-30403d5ccdfc"
   },
   "outputs": [
    {
     "data": {
      "text/html": [
       "\n",
       "  <div id=\"df-d797c41c-1b79-4331-86eb-8831efa8ec09\">\n",
       "    <div class=\"colab-df-container\">\n",
       "      <div>\n",
       "<style scoped>\n",
       "    .dataframe tbody tr th:only-of-type {\n",
       "        vertical-align: middle;\n",
       "    }\n",
       "\n",
       "    .dataframe tbody tr th {\n",
       "        vertical-align: top;\n",
       "    }\n",
       "\n",
       "    .dataframe thead th {\n",
       "        text-align: right;\n",
       "    }\n",
       "</style>\n",
       "<table border=\"1\" class=\"dataframe\">\n",
       "  <thead>\n",
       "    <tr style=\"text-align: right;\">\n",
       "      <th></th>\n",
       "      <th>기사 제목</th>\n",
       "      <th>기사 내용</th>\n",
       "    </tr>\n",
       "  </thead>\n",
       "  <tbody>\n",
       "    <tr>\n",
       "      <th>0</th>\n",
       "      <td>광양제철소, AI·빅데이터 활용 소결시스템 개발…“스마트 팩토리 전환”</td>\n",
       "      <td>전 소결공정 도입·확대        사진 확대    광양제철소가 개발한 스마트 소결...</td>\n",
       "    </tr>\n",
       "    <tr>\n",
       "      <th>1</th>\n",
       "      <td>김현숙 여가부 장관 “여성들 과학·공학 분야 진출 적극 지원”</td>\n",
       "      <td>뉴욕서 유엔여성지위위원회 회의 참석“여성 STEM 진출에 정책 초점저출산 문제 다각...</td>\n",
       "    </tr>\n",
       "    <tr>\n",
       "      <th>2</th>\n",
       "      <td>\"英단어 문제좀 내줘\"…교육계도 챗GPT 붐</td>\n",
       "      <td>학원가 레벨테스트할 때챗GPT활용해 문제 출제영어 관련 지문 입력하면어휘 뜻과 예문...</td>\n",
       "    </tr>\n",
       "  </tbody>\n",
       "</table>\n",
       "</div>\n",
       "      <button class=\"colab-df-convert\" onclick=\"convertToInteractive('df-d797c41c-1b79-4331-86eb-8831efa8ec09')\"\n",
       "              title=\"Convert this dataframe to an interactive table.\"\n",
       "              style=\"display:none;\">\n",
       "        \n",
       "  <svg xmlns=\"http://www.w3.org/2000/svg\" height=\"24px\"viewBox=\"0 0 24 24\"\n",
       "       width=\"24px\">\n",
       "    <path d=\"M0 0h24v24H0V0z\" fill=\"none\"/>\n",
       "    <path d=\"M18.56 5.44l.94 2.06.94-2.06 2.06-.94-2.06-.94-.94-2.06-.94 2.06-2.06.94zm-11 1L8.5 8.5l.94-2.06 2.06-.94-2.06-.94L8.5 2.5l-.94 2.06-2.06.94zm10 10l.94 2.06.94-2.06 2.06-.94-2.06-.94-.94-2.06-.94 2.06-2.06.94z\"/><path d=\"M17.41 7.96l-1.37-1.37c-.4-.4-.92-.59-1.43-.59-.52 0-1.04.2-1.43.59L10.3 9.45l-7.72 7.72c-.78.78-.78 2.05 0 2.83L4 21.41c.39.39.9.59 1.41.59.51 0 1.02-.2 1.41-.59l7.78-7.78 2.81-2.81c.8-.78.8-2.07 0-2.86zM5.41 20L4 18.59l7.72-7.72 1.47 1.35L5.41 20z\"/>\n",
       "  </svg>\n",
       "      </button>\n",
       "      \n",
       "  <style>\n",
       "    .colab-df-container {\n",
       "      display:flex;\n",
       "      flex-wrap:wrap;\n",
       "      gap: 12px;\n",
       "    }\n",
       "\n",
       "    .colab-df-convert {\n",
       "      background-color: #E8F0FE;\n",
       "      border: none;\n",
       "      border-radius: 50%;\n",
       "      cursor: pointer;\n",
       "      display: none;\n",
       "      fill: #1967D2;\n",
       "      height: 32px;\n",
       "      padding: 0 0 0 0;\n",
       "      width: 32px;\n",
       "    }\n",
       "\n",
       "    .colab-df-convert:hover {\n",
       "      background-color: #E2EBFA;\n",
       "      box-shadow: 0px 1px 2px rgba(60, 64, 67, 0.3), 0px 1px 3px 1px rgba(60, 64, 67, 0.15);\n",
       "      fill: #174EA6;\n",
       "    }\n",
       "\n",
       "    [theme=dark] .colab-df-convert {\n",
       "      background-color: #3B4455;\n",
       "      fill: #D2E3FC;\n",
       "    }\n",
       "\n",
       "    [theme=dark] .colab-df-convert:hover {\n",
       "      background-color: #434B5C;\n",
       "      box-shadow: 0px 1px 3px 1px rgba(0, 0, 0, 0.15);\n",
       "      filter: drop-shadow(0px 1px 2px rgba(0, 0, 0, 0.3));\n",
       "      fill: #FFFFFF;\n",
       "    }\n",
       "  </style>\n",
       "\n",
       "      <script>\n",
       "        const buttonEl =\n",
       "          document.querySelector('#df-d797c41c-1b79-4331-86eb-8831efa8ec09 button.colab-df-convert');\n",
       "        buttonEl.style.display =\n",
       "          google.colab.kernel.accessAllowed ? 'block' : 'none';\n",
       "\n",
       "        async function convertToInteractive(key) {\n",
       "          const element = document.querySelector('#df-d797c41c-1b79-4331-86eb-8831efa8ec09');\n",
       "          const dataTable =\n",
       "            await google.colab.kernel.invokeFunction('convertToInteractive',\n",
       "                                                     [key], {});\n",
       "          if (!dataTable) return;\n",
       "\n",
       "          const docLinkHtml = 'Like what you see? Visit the ' +\n",
       "            '<a target=\"_blank\" href=https://colab.research.google.com/notebooks/data_table.ipynb>data table notebook</a>'\n",
       "            + ' to learn more about interactive tables.';\n",
       "          element.innerHTML = '';\n",
       "          dataTable['output_type'] = 'display_data';\n",
       "          await google.colab.output.renderOutput(dataTable, element);\n",
       "          const docLink = document.createElement('div');\n",
       "          docLink.innerHTML = docLinkHtml;\n",
       "          element.appendChild(docLink);\n",
       "        }\n",
       "      </script>\n",
       "    </div>\n",
       "  </div>\n",
       "  "
      ],
      "text/plain": [
       "                                     기사 제목  \\\n",
       "0  광양제철소, AI·빅데이터 활용 소결시스템 개발…“스마트 팩토리 전환”   \n",
       "1       김현숙 여가부 장관 “여성들 과학·공학 분야 진출 적극 지원”   \n",
       "2                 \"英단어 문제좀 내줘\"…교육계도 챗GPT 붐   \n",
       "\n",
       "                                               기사 내용  \n",
       "0  전 소결공정 도입·확대        사진 확대    광양제철소가 개발한 스마트 소결...  \n",
       "1  뉴욕서 유엔여성지위위원회 회의 참석“여성 STEM 진출에 정책 초점저출산 문제 다각...  \n",
       "2  학원가 레벨테스트할 때챗GPT활용해 문제 출제영어 관련 지문 입력하면어휘 뜻과 예문...  "
      ]
     },
     "execution_count": 23,
     "metadata": {},
     "output_type": "execute_result"
    }
   ],
   "source": [
    "# 웹 크롤링 결과 데이터프레임 정리 : 기사제목 추출하는 것처럼 select문과 find문 결합해서 사용하면 유용\n",
    "from urllib.request import urlopen\n",
    "from bs4 import BeautifulSoup as bs\n",
    "import pandas as pd \n",
    "\n",
    "titles, contents = [], []\n",
    "for i in range(len(url_list)):\n",
    "    url=url_list[i]\n",
    "    html = urlopen(url)\n",
    "    soup = bs(html, \"html.parser\")\n",
    "    text = ''\n",
    "    for para in soup.select('div.news_cnt_detail_wrap'):\n",
    "        text += para.text.strip()\n",
    "    contents.append(text)\n",
    "    \n",
    "    title = soup.select_one('div.txt_area').find('h2').text.strip()\n",
    "    titles.append(title)\n",
    "\n",
    "data = {'기사 제목' : titles, '기사 내용' : contents}\n",
    "df = pd.DataFrame(data)\n",
    "df"
   ]
  },
  {
   "cell_type": "code",
   "execution_count": null,
   "metadata": {
    "colab": {
     "base_uri": "https://localhost:8080/",
     "height": 209
    },
    "id": "QDWBEcz45Do_",
    "outputId": "68281be2-709c-4aa8-b153-51ba6c6b2b87"
   },
   "outputs": [
    {
     "data": {
      "application/vnd.google.colaboratory.intrinsic+json": {
       "type": "string"
      },
      "text/plain": [
       "'전 소결공정 도입·확대        사진 확대    광양제철소가 개발한 스마트 소결시스템. [사진 제공=광양제철소]  광양제철소가 인공지능(AI)과 빅데이터를 활용한 스마트 소결시스템을 도입해 균일한 품질과 완성도를 끌어올린다.광양제철소는 8일 “고로의 주원료인 소결광 제조에 AI 기반 진단과 자율제어를 적용해 균일품질을 이끄는 스마트 팩토리 구현에 나선다”고 밝혔다.철광석은 용광로에 투입되기 전 가루 형태의 철광석 성분을 균일화하고 용광로에 넣기 좋은 크기로 가공해 소결광으로 만드는 ‘소결공정’을 거친다.소결공정의 주요 관리요소는 △연료와 원료의 배합 △배합원료의 균일장입 △속도제어와 소성 등으로 운전자의 개입을 최소화하는 자율운전을 실현하는 것이다.광양제철소는 배합 과정에서 원료의 수분을 실시간으로 분석할 수 있는 AI 기반 측정 시스템을 개발·도입해 수분편차를 줄였고 장입 과정에 영상분석장치 신설, 조업상황을 실시간으로 제어할 수 있는 이상장입 자동감지 시스템을 구축해 배합원료가 균일하게 소성될 수 있도록 했다.또 목표한 품질에 맞춰 소결광 생산속도를 조절하는 자동제어 시스템을 개발해 소결광의 품질편차를 줄였다. 스마트 소결시스템의 개발 과정에는 현장 직원들의 경험과 노하우가 반영됐다.AI와 빅데이터를 활용한 공정 자동화에만 의존하지 않고 현장 운전자들을 대상으로 한 인터뷰를 통해 공정 요소별 필요 요인들을 파악해 시스템에 접목했다.광양제철소는 이번에 구축한 스마트 소결시스템을 지속 고도화하며 전 소결공정에 도입·확대할 예정이다.광양제철소 관계자는 “이번 스마트 소결시스템 개발은 소결광의 품질 향상뿐 아니라 업무 자동화를 통해 조업의 효율을 극대화했다는 점에서 의미가 있다”며 “앞으로도 지속적인 기술 개발을 이어 나가 업무의 스마트화를 위해 적극 노력하겠다”고 말했다.'"
      ]
     },
     "execution_count": 28,
     "metadata": {},
     "output_type": "execute_result"
    }
   ],
   "source": [
    "df['기사 내용'][0]"
   ]
  },
  {
   "cell_type": "markdown",
   "metadata": {
    "id": "zNCheP6yjlYx"
   },
   "source": [
    "# 2.요구사항\n",
    "\n",
    "3주차 실습내용을 기초로 위에서 제시된 매경신문의 크롤링 결과와 유사하게 관심있는 주제에 대하여 매경신문이 아닌 다른 신문의 검색결과를 활용하여 4개 이상의 신문기사 URL 리스트를 입력하여 기사 제목과 내용을 추출하여 데이터프레임으로 정리하여 제출하세요!\n",
    "\n",
    "제출시 파일명은 \" 과제1_본인이름.ipynb\" 와 같이 작성하여 코랩에서 실행시킨 후 다운로드 받은 파이썬노트북 파일을 제출하세요.\n",
    "\n",
    "* 참고 : 매일경제 신문과 타 신문은 html 형태가 다소 다르기 때문에 해당 신문의 html 소스를 잘 분석하여 크롤링할 필요가 있으며, 동일한 신문의 다른 기사 4개 이상을 크롤링하시면 됩니다. "
   ]
  },
  {
   "cell_type": "code",
   "execution_count": null,
   "metadata": {
    "id": "balu5U-ZkN4O"
   },
   "outputs": [],
   "source": []
  }
 ],
 "metadata": {
  "colab": {
   "provenance": [],
   "toc_visible": true
  },
  "kernelspec": {
   "display_name": "Python 3 (ipykernel)",
   "language": "python",
   "name": "python3"
  },
  "language_info": {
   "codemirror_mode": {
    "name": "ipython",
    "version": 3
   },
   "file_extension": ".py",
   "mimetype": "text/x-python",
   "name": "python",
   "nbconvert_exporter": "python",
   "pygments_lexer": "ipython3",
   "version": "3.9.13"
  }
 },
 "nbformat": 4,
 "nbformat_minor": 4
}
