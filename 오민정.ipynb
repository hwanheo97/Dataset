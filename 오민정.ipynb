{
  "nbformat": 4,
  "nbformat_minor": 0,
  "metadata": {
    "colab": {
      "provenance": []
    },
    "kernelspec": {
      "name": "python3",
      "display_name": "Python 3"
    },
    "language_info": {
      "name": "python"
    }
  },
  "cells": [
    {
      "cell_type": "code",
      "execution_count": 22,
      "metadata": {
        "colab": {
          "base_uri": "https://localhost:8080/",
          "height": 143
        },
        "id": "xkPnPBY73btU",
        "outputId": "caa60d2c-dc91-4aac-bc32-e3403517a895"
      },
      "outputs": [
        {
          "output_type": "execute_result",
          "data": {
            "text/plain": [
              "                          기사 제목  \\\n",
              "0  “패션 코디부터 게임까지…2030·5060 모여라”   \n",
              "1  은퇴 후 브라보 라이프…시니어 특화 ‘VL’로 오라   \n",
              "2  늙어가는 한국…성인용 기저귀 수입량 어린이용 제쳤다   \n",
              "\n",
              "                                               기사 내용  \n",
              "0  NS홈쇼핑이 온라인 콘텐츠를 통한 세대별 고객의 팬덤 문화 구축에 적극 나서고 있다...  \n",
              "1  적극적으로 은퇴 생활을 즐기려는 ‘액티브 시니어’를 위해 롯데건설과 롯데호텔이 손잡...  \n",
              "2  최근 2년 연속 외국산 성인용 기저귀 수입량(중량 기준)이 어린이용 기저귀 수입량을...  "
            ],
            "text/html": [
              "\n",
              "  <div id=\"df-079da576-fe72-4574-89fa-7883cac624b9\">\n",
              "    <div class=\"colab-df-container\">\n",
              "      <div>\n",
              "<style scoped>\n",
              "    .dataframe tbody tr th:only-of-type {\n",
              "        vertical-align: middle;\n",
              "    }\n",
              "\n",
              "    .dataframe tbody tr th {\n",
              "        vertical-align: top;\n",
              "    }\n",
              "\n",
              "    .dataframe thead th {\n",
              "        text-align: right;\n",
              "    }\n",
              "</style>\n",
              "<table border=\"1\" class=\"dataframe\">\n",
              "  <thead>\n",
              "    <tr style=\"text-align: right;\">\n",
              "      <th></th>\n",
              "      <th>기사 제목</th>\n",
              "      <th>기사 내용</th>\n",
              "    </tr>\n",
              "  </thead>\n",
              "  <tbody>\n",
              "    <tr>\n",
              "      <th>0</th>\n",
              "      <td>“패션 코디부터 게임까지…2030·5060 모여라”</td>\n",
              "      <td>NS홈쇼핑이 온라인 콘텐츠를 통한 세대별 고객의 팬덤 문화 구축에 적극 나서고 있다...</td>\n",
              "    </tr>\n",
              "    <tr>\n",
              "      <th>1</th>\n",
              "      <td>은퇴 후 브라보 라이프…시니어 특화 ‘VL’로 오라</td>\n",
              "      <td>적극적으로 은퇴 생활을 즐기려는 ‘액티브 시니어’를 위해 롯데건설과 롯데호텔이 손잡...</td>\n",
              "    </tr>\n",
              "    <tr>\n",
              "      <th>2</th>\n",
              "      <td>늙어가는 한국…성인용 기저귀 수입량 어린이용 제쳤다</td>\n",
              "      <td>최근 2년 연속 외국산 성인용 기저귀 수입량(중량 기준)이 어린이용 기저귀 수입량을...</td>\n",
              "    </tr>\n",
              "  </tbody>\n",
              "</table>\n",
              "</div>\n",
              "      <button class=\"colab-df-convert\" onclick=\"convertToInteractive('df-079da576-fe72-4574-89fa-7883cac624b9')\"\n",
              "              title=\"Convert this dataframe to an interactive table.\"\n",
              "              style=\"display:none;\">\n",
              "        \n",
              "  <svg xmlns=\"http://www.w3.org/2000/svg\" height=\"24px\"viewBox=\"0 0 24 24\"\n",
              "       width=\"24px\">\n",
              "    <path d=\"M0 0h24v24H0V0z\" fill=\"none\"/>\n",
              "    <path d=\"M18.56 5.44l.94 2.06.94-2.06 2.06-.94-2.06-.94-.94-2.06-.94 2.06-2.06.94zm-11 1L8.5 8.5l.94-2.06 2.06-.94-2.06-.94L8.5 2.5l-.94 2.06-2.06.94zm10 10l.94 2.06.94-2.06 2.06-.94-2.06-.94-.94-2.06-.94 2.06-2.06.94z\"/><path d=\"M17.41 7.96l-1.37-1.37c-.4-.4-.92-.59-1.43-.59-.52 0-1.04.2-1.43.59L10.3 9.45l-7.72 7.72c-.78.78-.78 2.05 0 2.83L4 21.41c.39.39.9.59 1.41.59.51 0 1.02-.2 1.41-.59l7.78-7.78 2.81-2.81c.8-.78.8-2.07 0-2.86zM5.41 20L4 18.59l7.72-7.72 1.47 1.35L5.41 20z\"/>\n",
              "  </svg>\n",
              "      </button>\n",
              "      \n",
              "  <style>\n",
              "    .colab-df-container {\n",
              "      display:flex;\n",
              "      flex-wrap:wrap;\n",
              "      gap: 12px;\n",
              "    }\n",
              "\n",
              "    .colab-df-convert {\n",
              "      background-color: #E8F0FE;\n",
              "      border: none;\n",
              "      border-radius: 50%;\n",
              "      cursor: pointer;\n",
              "      display: none;\n",
              "      fill: #1967D2;\n",
              "      height: 32px;\n",
              "      padding: 0 0 0 0;\n",
              "      width: 32px;\n",
              "    }\n",
              "\n",
              "    .colab-df-convert:hover {\n",
              "      background-color: #E2EBFA;\n",
              "      box-shadow: 0px 1px 2px rgba(60, 64, 67, 0.3), 0px 1px 3px 1px rgba(60, 64, 67, 0.15);\n",
              "      fill: #174EA6;\n",
              "    }\n",
              "\n",
              "    [theme=dark] .colab-df-convert {\n",
              "      background-color: #3B4455;\n",
              "      fill: #D2E3FC;\n",
              "    }\n",
              "\n",
              "    [theme=dark] .colab-df-convert:hover {\n",
              "      background-color: #434B5C;\n",
              "      box-shadow: 0px 1px 3px 1px rgba(0, 0, 0, 0.15);\n",
              "      filter: drop-shadow(0px 1px 2px rgba(0, 0, 0, 0.3));\n",
              "      fill: #FFFFFF;\n",
              "    }\n",
              "  </style>\n",
              "\n",
              "      <script>\n",
              "        const buttonEl =\n",
              "          document.querySelector('#df-079da576-fe72-4574-89fa-7883cac624b9 button.colab-df-convert');\n",
              "        buttonEl.style.display =\n",
              "          google.colab.kernel.accessAllowed ? 'block' : 'none';\n",
              "\n",
              "        async function convertToInteractive(key) {\n",
              "          const element = document.querySelector('#df-079da576-fe72-4574-89fa-7883cac624b9');\n",
              "          const dataTable =\n",
              "            await google.colab.kernel.invokeFunction('convertToInteractive',\n",
              "                                                     [key], {});\n",
              "          if (!dataTable) return;\n",
              "\n",
              "          const docLinkHtml = 'Like what you see? Visit the ' +\n",
              "            '<a target=\"_blank\" href=https://colab.research.google.com/notebooks/data_table.ipynb>data table notebook</a>'\n",
              "            + ' to learn more about interactive tables.';\n",
              "          element.innerHTML = '';\n",
              "          dataTable['output_type'] = 'display_data';\n",
              "          await google.colab.output.renderOutput(dataTable, element);\n",
              "          const docLink = document.createElement('div');\n",
              "          docLink.innerHTML = docLinkHtml;\n",
              "          element.appendChild(docLink);\n",
              "        }\n",
              "      </script>\n",
              "    </div>\n",
              "  </div>\n",
              "  "
            ]
          },
          "metadata": {},
          "execution_count": 22
        }
      ],
      "source": [
        "\n",
        "\n",
        "url_list=list()\n",
        "url_list.insert(0, \"https://sports.donga.com/economy/article/all/20230213/117849634/4\" )\n",
        "url_list.insert(1,'https://sports.donga.com/economy/article/all/20230309/118239831/4 ')\n",
        "url_list.insert(2,'https://www.donga.com/news/amp/all/20230214/117880442/1 ')\n",
        "url_list\n",
        "\n",
        "from urllib.request import urlopen\n",
        "from bs4 import BeautifulSoup as bs\n",
        "import pandas as pd\n",
        "\n",
        "\n",
        "titles, contents = [], []\n",
        "for i in range(len(url_list)):\n",
        "    url=url_list[i]\n",
        "    html = urlopen(url)\n",
        "    soup = bs(html, \"html.parser\")\n",
        "\n",
        "    text = ''\n",
        "    for para in soup.select('div.article_word'):\n",
        "      text +=para.text.strip()\n",
        "      contents.append(text)\n",
        "      title=soup.select_one('div.article_tit').find('h1').text.strip()\n",
        "      titles.append(title)\n",
        "\n",
        "    text=''\n",
        "    for para in soup.select('div.news_content'):\n",
        "      text +=para.text.strip()\n",
        "      contents.append(text)\n",
        "      title=soup.select_one('div.news_title').find('h1').text.strip()\n",
        "      titles.append(title)\n",
        "\n",
        "# for div in soup.select('div.news_title'):\n",
        "#   titles.append(div.get_text(strip=True))\n",
        "\n",
        "# for div in soup.select(\"div.news_content\"):\n",
        "#   contents.append(div.get_text(strip=True))\n",
        "\n",
        "# print(titles)\n",
        "# print(contents)\n",
        "\n",
        "data = {'기사 제목' : titles, '기사 내용' : contents}\n",
        "df = pd.DataFrame(data)\n",
        "df"
      ]
    },
    {
      "cell_type": "code",
      "source": [
        "df['기사 내용'][0]"
      ],
      "metadata": {
        "colab": {
          "base_uri": "https://localhost:8080/",
          "height": 167
        },
        "id": "Snpcvaik8Wws",
        "outputId": "c80d2218-ed0f-4e2f-8049-8545509bc3e8"
      },
      "execution_count": 19,
      "outputs": [
        {
          "output_type": "execute_result",
          "data": {
            "text/plain": [
              "'NS홈쇼핑이 온라인 콘텐츠를 통한 세대별 고객의 팬덤 문화 구축에 적극 나서고 있다. 2030세대가 타깃인 ‘패션 룩 북 콘텐츠’, 평일 오후 12시30분 모바일 앱 라이브커머스 엔라방에서 진행하는 ‘점심N커피’ 이벤트, 5060세대를 겨냥한 정보 콘텐츠 ‘랭킹쇼 순정남매’(왼쪽 위부터). 사진제공｜NS홈쇼핑 \\n\\n온라인 콘텐츠로 세대별 팬덤 구축 나선 NS홈쇼핑 \\n\\r\\n모바일 앱 유입 위해 콘텐츠 활성화\\r\\n‘패션 룩북’, 상품 착장·코디법 담아\\r\\n‘점심N커피’, 퀴즈 통해 앱 친숙함↑\\r\\n‘랭킹쇼’, 시니어에 유익한 정보 제공\\n                NS홈쇼핑이 온라인 콘텐츠를 통한 세대별 고객의 팬덤 문화 구축에 주력하고 있다. 모바일 앱에서 진행하는 라이브커머스의 경우, 이용자 규모가 고객 유입에 긍정적 영향을 미치기 때문이다. 당장 구매를 하지 않더라도 사용자 유입을 늘릴 수 있는 팬덤 문화 구축을 위한 프로그램을 활성화 하는 데 집중하고 있다.●유튜브·엔라방 채널 활용해 2030 공략  먼저 2030 MZ세대를 겨냥해 자사 공식 유튜브 계정을 활용한 ‘패션 룩 북 콘텐츠’를 공개했다. 모바일 라이브커머스 채널 ‘엔라방’에서 판매하는 패션 상품 정보를 영상으로 상세히 전달하고, 소비자와의 접점을 늘리기 위함이다.  1회에는 쇼핑호스트가 여성 및 키즈 패션 브랜드인 ‘마이민’의 의류 상품을 직접 착장하고, 코디 및 활용 방법을 알려주는 모습을 담았다. 라이브커머스 방송 특성상 패션 상품의 교체 착장 시간이 부족한 점에 착안했다.  라이브커머스에서 자세히 볼 수 없었던 상품의 디테일과 착장 모습 위주로 보여준다. 영상만으로 재미와 정보를 제공할 수 있는 프로그램으로, 향후 다수의 패션 브랜드와 협업을 통해 콘텐츠를 강화할 것이라는 게 회사 측 설명이다. 직장인의 점심시간을 겨냥해 평일 오후 12시30분 엔라방에서 진행하는 ‘점심N커피’ 이벤트도 팬덤 형성의 일환이다. 쇼핑호스트 ‘완소남매’의 진행으로 10∼15분 진행하며, 진행자가 5개의 퀴즈를 내고, 고객이 댓글로 정답을 맞추면 당첨자에게 커피쿠폰을 주는 방식이다. 속담 및 영화제목 맞추기, 제시한 문장 빨리 쓰기 등 간단한 퀴즈를 통해 재미와 함께 커피쿠폰의 행운을 기대할 수 있다.  심우찬 NS홈쇼핑 라방컨텐츠팀장은 “점심N커피는 모바일 라이브 환경에서 매일 동일한 시간에 퀴즈 프로그램을 제공함으로써, NS홈쇼핑 모바일 앱에 친숙함을 느낄 수 있도록 기획했다”고 했다.●5060 팬덤 구축 위한 콘텐츠 ‘눈길’ TV홈쇼핑의 주력 고객층인 5060세대도 모바일 영역으로 끌어들이고 있다. 자사 공식 유튜브 채널을 통해 이들의 팬덤 구축을 위한 정규 콘텐츠를 강화하고 있는 것. 이는 TV홈쇼핑의 주력 고객층인 액티브 시니어 세대의 디지털 전환이 가속화되고 있기 때문으로 정보, 예능, 교양 등 다양한 콘텐츠를 통해 팬덤을 구축한다는 전략이다. ‘랭킹쇼 순정남매(순위 정해주는 남매)’는 5060세대가 궁금해 하는 주제와 함께 순위를 정하는 프로그램으로, 각종 꿀팁을 제공하는 정보 콘텐츠다. 트렌드를 따라가고 싶지만 변화의 속도를 따라가기 힘든 시니어를 위해 눈높이에 맞는 유익한 정보를 제공한다.  ‘설 연휴에 가족과 가기 좋은 장소’, ‘효도관광 일본여행 명소 추천’, ‘시니어를 위한 졸업·입학식 룩’ 등이 대표 콘텐츠로, 매주 목요일 오후 6시에 업로드된다. 11일 오전 9시 첫 선을 보인 ‘알까치노’는 다양한 게임을 통해 세대간 격차를 줄이는 소통 프로그램이다. 알까기, 제기차기, 비석치기 등 익숙한 놀이와 함께 우리 주변 어르신의 이야기를 들으며 재미와 감동을 전달한다. 놀이에서 승리 시 자사 PB(자체브랜드) 건강기능식품을 선물로 제공하며 고객의 생생한 상품 체험담도 소개한다.  월 2회 방송하는 ‘체험 상품의 현장’은 함께 땀 흘리며 노동의 가치와 사람 사는 이야기를 전하는 리얼다큐 프로그램이다. NS홈쇼핑에서 판매하는 상품의 공장을 찾아가 생산 노하우를 알아보고, 직접 현장에 참여하며 생생한 현장의 모습을 전달한다.  심우찬 팀장은 “TV홈쇼핑 방송에 모두 담을 수 없었던 생산 과정을 통해 상품에 대한 궁금증을 해소하고 신뢰를 높이기 위해 기획했다”며 “시니어를 위한 다양한 정보와 소통 콘텐츠로 강력한 팬덤을 구축할 계획”이라고 했다. 정정욱 기자 jjay@donga.com 기자의 다른기사 더보기'"
            ],
            "application/vnd.google.colaboratory.intrinsic+json": {
              "type": "string"
            }
          },
          "metadata": {},
          "execution_count": 19
        }
      ]
    },
    {
      "cell_type": "code",
      "source": [
        "df['기사 내용'][1]"
      ],
      "metadata": {
        "colab": {
          "base_uri": "https://localhost:8080/",
          "height": 167
        },
        "id": "NeGdJrYO8kic",
        "outputId": "521d74be-bd8d-4747-c1bc-65c171a5b11b"
      },
      "execution_count": 20,
      "outputs": [
        {
          "output_type": "execute_result",
          "data": {
            "text/plain": [
              "'적극적으로 은퇴 생활을 즐기려는 ‘액티브 시니어’를 위해 롯데건설과 롯데호텔이 손잡고 마련한 ‘VL 르웨스트’의 단지 이미지. 시니어들을 위한 맞춤형 서비스와 특화 설계를 적용한 하이엔드 시니어 레지던스로 큰 주목을 끌고 있다. 사진제공｜롯데건설 \\n\\n롯데건설, 마곡지구 하이엔드 시니어 레지던스 ‘VL 르웨스트’ 분양 \\n\\r\\n이화의료원 협약 건강·케어 지원\\r\\n전 세대 미닫이문 특화 설계 눈길\\r\\n입주민 대상 호텔급 서비스 제공\\r\\n지하 통로로 지하철·식물원 연결\\n                롯데건설이 하이엔드 시니어 레지던스 ‘VL 르웨스트’의 본격적인 분양에 나선다. 서울 강서구 마곡지구 복합단지 내에 들어서는 VL 르웨스트는 지하 6층∼지상 15층, 4개 동, 총 810세대 규모로 조성된다. 시니어 수요자 특성을 고려한 의료 케어, 입주민 서비스, 특화 설계와 다양한 커뮤니티 및 프로그램 등을 내세워 시간적·경제적 여유를 바탕으로 적극적으로 은퇴 생활을 즐기려는 ‘욜드(YOLD·Young Old)족’을 타깃으로 삼았다. 프리미엄 주거 브랜드 ‘VL(Vitality&Liberty)’은 젊은 세대처럼 능동적인 소비 성향과 주체적인 사회 활동 참여 등 활발한 은퇴 생활을 즐기는 ‘액티브 시니어(active senior)’를 위한 공간이다. 롯데호텔이 VL의 전반적인 운영을 지원하고, 롯데건설이 시공을 맡았다. 서울 안에 선보이는 VL 브랜드의 첫 번째 단지인 VL 르웨스트는 건강을 우선으로 생각할 시니어 입주민을 위해 차별화된 의료 서비스와 건강관리시스템을 제공한다. 이화의료원과의 협약으로 VL 르웨스트와 인접한 상급종합병원인 이대서울병원에서 전문의 진료 및 건강검진이 가능하다. 이대서울병원 이용 시 입주민 전용 창구를 통해 장시간 대기 없이 신속한 의료 케어가 가능하고 할인 혜택도 제공될 예정이다. 단지 내에는 세분화되고 체계적인 ‘보바스기념병원 건강관리센터’를 운영한다. 호텔급 입주민 서비스로 편리하고 여유로운 일상도 즐길 수 있다. 예약 대행, 비즈니스 업무지원, 우편물관리와 호텔식 컨시어지 서비스, 세대 내 각종 청소가 가능(주 2회)한 하우스키핑 서비스가 제공되고 하나의 창구에서 모든 걸 해결할 수 있는 ‘원스톱 서비스’도 누릴 수 있다. 시니어 맞춤형 특화 설계도 돋보인다. 독립성을 반영한 ‘원룸 원바쓰(방 하나당 화장실 하나)’ 평면과 세대 내 순환형 동선 구조를 적용하고 전 세대에 미닫이문을 설치하는 등 시니어 입주민들은 불필요한 동선 없이 편안하고 효율적인 일상을 누릴 수 있다. 비상콜 시스템, 동작 감지 센서, 냉방 시스템, 헬스케어 시스템 등 다양한 ‘IOT 시스템’도 갖춘다.  단지 인근에 지하철 5호선 마곡역, 지하철 9호선 및 공항철도 마곡나루역이 있어 트리플 역세권을 갖췄다는 점도 주목할 만하다. 단지 내 지하 보행 통로가 지하철과 바로 연결돼 편리하게 이용 가능하다. 지하 보행 통로를 통해 약 50만m² 규모의 서울식물원과 생태공원 서울 보타닉 공원도 모두 연결된다는 점은 보너스. 다채로운 문화, 쇼핑, 생활 인프라도 눈에 띈다. 롯데몰, 롯데시네마, 대규모 공연장 LG아트센터 서울 등 대형 쇼핑몰 및 문화 시설이 가까워 다양한 사회 활동도 가능하다. 청약 신청은 21일부터 23일 오후 5시까지 VL 르웨스트 공식 홈페이지를 통해 할 수 있다. 당첨자 발표는 24일, 정당 계약은 28일부터 30일까지 사흘간 진행될 예정이다. 롯데건설 관계자는 8일 “시니어 맞춤형 특화 설계와 호텔급 서비스를 제공해 입주민의 건강과 안전, 그리고 편안하고 안락한 일상을 만들어 드리겠다”며 “VL 르웨스트는 새로운 차원의 하이엔드 시니어 레지던스로 수요자들의 높은 관심이 예상된다”고 밝혔다. 김도헌 기자 dohoney@donga.com 기자의 다른기사 더보기'"
            ],
            "application/vnd.google.colaboratory.intrinsic+json": {
              "type": "string"
            }
          },
          "metadata": {},
          "execution_count": 20
        }
      ]
    },
    {
      "cell_type": "code",
      "source": [
        "df['기사 내용'][2]"
      ],
      "metadata": {
        "colab": {
          "base_uri": "https://localhost:8080/",
          "height": 167
        },
        "id": "2zjBpboi8ngk",
        "outputId": "2533833b-4953-46c6-9415-65c51926b1f0"
      },
      "execution_count": 21,
      "outputs": [
        {
          "output_type": "execute_result",
          "data": {
            "text/plain": [
              "'최근 2년 연속 외국산 성인용 기저귀 수입량(중량 기준)이 어린이용 기저귀 수입량을 제친 것으로 나타났다. 전문가들은 초고령 사회로 진입하면서 나타나는 자연스런 현상이라는 분석이다. 14일 식품의약품안전처에 따르면 2021년과 2022년 성인용 기저귀 수입량은 매년 2만톤을 넘어섰다.성인용 기저귀는 크게 일자형, 팬티형, 테이프형으로 나누는데 2021년에는 일자형 1만4590톤, 테이프형 7783톤, 팬티형 2832톤 수입돼 총 2만5205톤이 국내에 유통됐다. 지난해에는 팬티형 3153톤, 테이프형 7942톤, 일자형 1만1839톤이 국내에 들어왔다. 총 2만2934톤 규모다. 성인용 기저귀 수입량 늘면서 어린이용 기저귀 수입량을 넘어섰다. 식약처 수입식품안전마루가 공개한 통계를 보면 2021년 한 해 전체 가장 많이 수입된 위생용품(중량 기준) 1위는 성인용 기저귀(23.08%)였다. 이어 일회용 젓가락이 22.04%로 2위였고, 어린이용 기저귀는 19.05%로 3위를 기록했다.올해도 이날까지 수입된 성인용 기저귀는 2774톤으로 금액으로 환산하면 1431만5000달러(약 181억 5000만원)으로 집계됐다. 올해는 일자형 기저귀가 1540톤으로 가장 수입이 많은 것으로 나타났다. 이어 테이프형 863톤, 팬티형 371톤 순이었다. 이 같은 성인용 기저귀 시장의 성장은 초고령 사회 진입을 의미한다. 이미 일본은 2016년 성인 기저귀 판매량이 영유아 기저귀 시장을 앞질렀다. 2017년 성인용 기저귀 판매 규모는 영유아용 기저귀의 1.3배에 달하는 881억 엔을 기록했다. 지금 환율로 계산하더라도 8471억원을 넘어서는 규모다.한국 역시 고령 인구가 점차 늘어나고 있다. 통계청이 발표한 2022년 65세 이상 고령인구는 901만 8000명으로 전체 인구의 17.5%에 해당한다. 이어 고령화 인구는 계속 증가해 오는 2025년에는 20.6%로 우리나라가 초고령사회로 진입할 것으로 통계청은 내다봤다.고령사회에서 초고령사회 도달 연수는 오스트리아 53년, 영국 50년, 미국 15년, 일본 10년에 비해 한국은 7년에 불과한 것으로 분석된다. 초고령화 사회로 갈수록 성인용 기저귀 시장도 확대될 것으로 전망된다. 초고령화 사회로 진입뿐만 아니라 실외 활동을 즐기는 액티브 시니어들의 증가도 큰 영향을 미친 것으로 보인다. 액티브 시니어는 각종 활동에 의욕적인 고령자를 말한다. 일본 역시 성인용 기저귀 시장의 증가를 액티브 시니어 증가의 영향도 있는 것으로 분석하고 있다. 성인용 기저귀 착용에 대한 사회 인식이 변하면서 관련 수입 규모는 정장할 것으로 보인다. 한 사회복지센터 대표는 “고령자가 기저귀를 쓰는 일이 부끄럽기 보다 자연스러운 현상으로 받아들여지게 됐다”며 “오히려 기저귀를 착용하고 건강한 노후를 즐기는 고령자가 선망의 대상으로 분위기가 바뀌고 있다”고 말했다.[서울=뉴시스]'"
            ],
            "application/vnd.google.colaboratory.intrinsic+json": {
              "type": "string"
            }
          },
          "metadata": {},
          "execution_count": 21
        }
      ]
    }
  ]
}