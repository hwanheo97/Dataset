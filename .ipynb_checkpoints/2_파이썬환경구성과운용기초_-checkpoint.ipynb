{
  "nbformat": 4,
  "nbformat_minor": 0,
  "metadata": {
    "colab": {
      "provenance": []
    },
    "kernelspec": {
      "name": "python3",
      "display_name": "Python 3"
    },
    "language_info": {
      "name": "python"
    }
  },
  "cells": [
    {
      "cell_type": "markdown",
      "metadata": {
        "id": "fjLuLFhcM8YV"
      },
      "source": [
        "# 1.코랩 소개"
      ]
    },
    {
      "cell_type": "markdown",
      "metadata": {
        "id": "Wo30msyqNELH"
      },
      "source": [
        "참조 사이트 : https://colab.research.google.com/notebooks/intro.ipynb"
      ]
    },
    {
      "cell_type": "markdown",
      "metadata": {
        "id": "a5lZUPiaNUiz"
      },
      "source": [
        "꼭 필요한 단축키 사용법 : command mode와 edit mode 로 구분\n",
        "* Ctrl + Enter 해당셀 실행\n",
        "* Shift + Enter 해당셀 실행후 다음셀로 옮기기\n",
        "* 주석 처리 해당 라인 마우스로 선택 후 Ctrl+/ \n",
        "\n",
        "추가적으로 필요한 단축키 알아보기 : https://towardsdatascience.com/jypyter-notebook-shortcuts-bf0101a98330"
      ]
    },
    {
      "cell_type": "code",
      "metadata": {
        "colab": {
          "base_uri": "https://localhost:8080/"
        },
        "id": "6IPToUtBiASI",
        "outputId": "4264fffa-5861-42aa-f6c2-6d0e51a375e9"
      },
      "source": [
        "print('welcome to python!')"
      ],
      "execution_count": 1,
      "outputs": [
        {
          "output_type": "stream",
          "name": "stdout",
          "text": [
            "welcome to python!\n"
          ]
        }
      ]
    },
    {
      "cell_type": "markdown",
      "metadata": {
        "id": "bWdDy8o8OPYc"
      },
      "source": [
        "# 2.파이썬 운용환경"
      ]
    },
    {
      "cell_type": "markdown",
      "metadata": {
        "id": "oXYZo8_hXbwx"
      },
      "source": [
        "* 코랩 작업 디렉토리 구조와 환경 이해 : 우분투 리눅스 명령 사용 가능\n",
        "* 구글드라이브와 연결시켜 내 데이터를 불러오거나 코랩 데이터를 저장하는 방법 이해"
      ]
    },
    {
      "cell_type": "markdown",
      "metadata": {
        "id": "IX518oKLlO1W"
      },
      "source": [
        "## 가. 코랩 운용환경"
      ]
    },
    {
      "cell_type": "markdown",
      "metadata": {
        "id": "8lqIduygkm1v"
      },
      "source": [
        "코랩 운용환경은 기본적으로 리눅스 우분투 18.04를 사용"
      ]
    },
    {
      "cell_type": "code",
      "metadata": {
        "colab": {
          "base_uri": "https://localhost:8080/"
        },
        "id": "z9uAzjnFkfgT",
        "outputId": "fb36d407-1f85-4c9e-d681-dde81119a6e1"
      },
      "source": [
        "!cat /etc/issue"
      ],
      "execution_count": 2,
      "outputs": [
        {
          "output_type": "stream",
          "name": "stdout",
          "text": [
            "Ubuntu 20.04.5 LTS \\n \\l\n",
            "\n"
          ]
        }
      ]
    },
    {
      "cell_type": "code",
      "metadata": {
        "colab": {
          "base_uri": "https://localhost:8080/"
        },
        "id": "ui1Cf6ZTkWmq",
        "outputId": "6b45c5c8-26ae-4e25-db01-b184927c72c5"
      },
      "source": [
        "!python --version"
      ],
      "execution_count": 3,
      "outputs": [
        {
          "output_type": "stream",
          "name": "stdout",
          "text": [
            "Python 3.8.10\n"
          ]
        }
      ]
    },
    {
      "cell_type": "code",
      "metadata": {
        "id": "EcFWgCm8Mt3d"
      },
      "source": [
        "#  !pip list"
      ],
      "execution_count": 4,
      "outputs": []
    },
    {
      "cell_type": "markdown",
      "metadata": {
        "id": "lovely-passion"
      },
      "source": [
        "## 나.파일 생성 및 실행 구조"
      ]
    },
    {
      "cell_type": "code",
      "metadata": {
        "colab": {
          "base_uri": "https://localhost:8080/"
        },
        "id": "GawtUdEcsnhc",
        "outputId": "6281b609-383b-4922-a781-21025b305215"
      },
      "source": [
        "text = '안녕하세요!'\n",
        "a = 1; b=2\n",
        "print(text, a+b)"
      ],
      "execution_count": 5,
      "outputs": [
        {
          "output_type": "stream",
          "name": "stdout",
          "text": [
            "안녕하세요! 3\n"
          ]
        }
      ]
    },
    {
      "cell_type": "code",
      "metadata": {
        "colab": {
          "base_uri": "https://localhost:8080/"
        },
        "id": "g4ROvFBJtIWX",
        "outputId": "817a7d66-87f6-4966-cc91-6c02b777e090"
      },
      "source": [
        "type(text)"
      ],
      "execution_count": 6,
      "outputs": [
        {
          "output_type": "execute_result",
          "data": {
            "text/plain": [
              "str"
            ]
          },
          "metadata": {},
          "execution_count": 6
        }
      ]
    },
    {
      "cell_type": "markdown",
      "metadata": {
        "id": "GAeU3Zttne-B"
      },
      "source": [
        "매직 명령과 우분투 명령어 사용 방법"
      ]
    },
    {
      "cell_type": "code",
      "metadata": {
        "id": "Da8TuIZqihhJ"
      },
      "source": [
        "!echo 'print(1+2)' > 'example.py'"
      ],
      "execution_count": 7,
      "outputs": []
    },
    {
      "cell_type": "code",
      "metadata": {
        "colab": {
          "base_uri": "https://localhost:8080/"
        },
        "id": "NBEK7u18ioDZ",
        "outputId": "a822b4af-b7c2-42f9-8195-46a8d0837440"
      },
      "source": [
        "!python example.py"
      ],
      "execution_count": 8,
      "outputs": [
        {
          "output_type": "stream",
          "name": "stdout",
          "text": [
            "3\n"
          ]
        }
      ]
    },
    {
      "cell_type": "code",
      "metadata": {
        "colab": {
          "base_uri": "https://localhost:8080/"
        },
        "id": "JF0UmR06tVLd",
        "outputId": "d5851ce5-3830-4108-e9a3-274cae4e235f"
      },
      "source": [
        "%run example.py"
      ],
      "execution_count": 9,
      "outputs": [
        {
          "output_type": "stream",
          "name": "stdout",
          "text": [
            "3\n"
          ]
        }
      ]
    },
    {
      "cell_type": "code",
      "metadata": {
        "colab": {
          "base_uri": "https://localhost:8080/"
        },
        "id": "XCfxJvyUtjyP",
        "outputId": "c8850122-2fac-4e54-c807-9f0f09489089"
      },
      "source": [
        "# 파이썬 파일 만들기\n",
        "%%writefile example1.py\n",
        "text = '안녕하세요!'\n",
        "a = 1; b=2\n",
        "print(text, a+b)"
      ],
      "execution_count": 10,
      "outputs": [
        {
          "output_type": "stream",
          "name": "stdout",
          "text": [
            "Writing example1.py\n"
          ]
        }
      ]
    },
    {
      "cell_type": "code",
      "metadata": {
        "colab": {
          "base_uri": "https://localhost:8080/"
        },
        "id": "kKXIMAkYtyh2",
        "outputId": "188b5c63-695c-4073-dd54-9c821edb0e50"
      },
      "source": [
        "%run example1.py"
      ],
      "execution_count": 11,
      "outputs": [
        {
          "output_type": "stream",
          "name": "stdout",
          "text": [
            "안녕하세요! 3\n"
          ]
        }
      ]
    },
    {
      "cell_type": "markdown",
      "metadata": {
        "id": "3Trz2439XLSC"
      },
      "source": [
        "## 다.구글드라이브 마운트(연결)"
      ]
    },
    {
      "cell_type": "code",
      "metadata": {
        "id": "xVRdxYReYeQj",
        "colab": {
          "base_uri": "https://localhost:8080/"
        },
        "outputId": "25bda3cc-7d92-45d5-b3a3-da9ed4314175"
      },
      "source": [
        "# google drive mount - 생성된 링크 누르고 로그인\n",
        "# 로그인 후 코드복사 및 아래 생성된 네모바스에 붙여넣기\n",
        "from google.colab import drive\n",
        "drive.mount('/content/drive')"
      ],
      "execution_count": 12,
      "outputs": [
        {
          "output_type": "stream",
          "name": "stdout",
          "text": [
            "Mounted at /content/drive\n"
          ]
        }
      ]
    },
    {
      "cell_type": "code",
      "metadata": {
        "id": "byCIiLJBbFHh",
        "colab": {
          "base_uri": "https://localhost:8080/"
        },
        "outputId": "8bbfb56f-5290-4b48-99f0-fec1f065713f"
      },
      "source": [
        "# 구들드라이브 연결디렉토리 정의와 자료 검색\n",
        "import os\n",
        "mydrive_dir = '/content/drive/MyDrive/'\n",
        "os.listdir(mydrive_dir)"
      ],
      "execution_count": 13,
      "outputs": [
        {
          "output_type": "execute_result",
          "data": {
            "text/plain": [
              "['11_deep_learning_exercises.ipynb',\n",
              " '11_deep_learning.ipynb',\n",
              " 'Colab Notebooks',\n",
              " '.ipynb_checkpoints',\n",
              " 'a.csv',\n",
              " 'sentimental_analysis',\n",
              " 'Setup',\n",
              " 'Data',\n",
              " 'machine-translation-chat.ipynb',\n",
              " '1_predict_iris_data.ipynb',\n",
              " '9_감정분석 (2).ipynb',\n",
              " 'data',\n",
              " 'stock',\n",
              " 'tensorflow-nlp-tutorial-main',\n",
              " '10_정규표현식과단어사전개발.ipynb',\n",
              " 'RL',\n",
              " 'seoul_ml',\n",
              " 'auth_key_val.py',\n",
              " 'NPC의 번역된 사본.gdoc',\n",
              " 'NPC번역.txt.gdoc',\n",
              " 'bigdata_analysis',\n",
              " 'books',\n",
              " '이해선 (1).ipynb',\n",
              " '종합_웹크롤링_사례.ipynb',\n",
              " '데이터정보특강',\n",
              " '유원준-nlp-tutorial-main',\n",
              " '데이터정보특강_조은숙_제출.ipynb',\n",
              " 'CMMS분석툴.ipynb']"
            ]
          },
          "metadata": {},
          "execution_count": 13
        }
      ]
    },
    {
      "cell_type": "code",
      "metadata": {
        "id": "Y_uejAndANVD"
      },
      "source": [
        "# 구글 드라이브에 data 디렉토리 없는 경우 생성\n",
        "import os\n",
        "data_dir = os.path.join(mydrive_dir,'data')\n",
        "if not os.path.isdir(data_dir):\n",
        "    os.makedirs(data_dir)"
      ],
      "execution_count": 14,
      "outputs": []
    },
    {
      "cell_type": "code",
      "metadata": {
        "id": "OdTWw6twOUt_",
        "colab": {
          "base_uri": "https://localhost:8080/"
        },
        "outputId": "cda0a774-8fc2-45c8-cf4c-4939aa58946b"
      },
      "source": [
        "# 추가된 data 디렉토리 확인 \n",
        "os.listdir(data_dir)"
      ],
      "execution_count": 15,
      "outputs": [
        {
          "output_type": "execute_result",
          "data": {
            "text/plain": [
              "['myproject',\n",
              " 'movie_comment.csv',\n",
              " 'admin.json',\n",
              " 'example1.py',\n",
              " 'admin_ex.json',\n",
              " 'test.txt',\n",
              " 'example.py',\n",
              " 'research.txt',\n",
              " 'test1.txt']"
            ]
          },
          "metadata": {},
          "execution_count": 15
        }
      ]
    },
    {
      "cell_type": "markdown",
      "metadata": {
        "id": "1Z56tswcdMDB"
      },
      "source": [
        "# 3.코랩 사용법"
      ]
    },
    {
      "cell_type": "markdown",
      "metadata": {
        "id": "sJioOMf6j-Pv"
      },
      "source": [
        "## 가.자료 생성 / 저장, 읽어오기"
      ]
    },
    {
      "cell_type": "code",
      "metadata": {
        "id": "lMICVIPXgCF3"
      },
      "source": [
        "f = open(os.path.join(data_dir, \"test.txt\"), 'w')\n",
        "f.write('텍스트를 저장하고 읽어오기를 실습하고 있습니다.')\n",
        "f.close()"
      ],
      "execution_count": 16,
      "outputs": []
    },
    {
      "cell_type": "code",
      "metadata": {
        "colab": {
          "base_uri": "https://localhost:8080/"
        },
        "id": "hszRB5njf5fY",
        "outputId": "e4849cc7-8907-4de7-db0d-fbb58cfa9027"
      },
      "source": [
        "f = open(os.path.join(data_dir, \"test.txt\"), 'r')\n",
        "data = f.read()\n",
        "print(data)\n",
        "f.close()"
      ],
      "execution_count": 17,
      "outputs": [
        {
          "output_type": "stream",
          "name": "stdout",
          "text": [
            "텍스트를 저장하고 읽어오기를 실습하고 있습니다.\n"
          ]
        }
      ]
    },
    {
      "cell_type": "code",
      "metadata": {
        "colab": {
          "base_uri": "https://localhost:8080/"
        },
        "id": "Rx3IQLPvdYLI",
        "outputId": "7272e7d9-b251-44d3-e2d5-a3044b627d21"
      },
      "source": [
        "with open(\"/content/drive/MyDrive/data/test.txt\", \"r\") as f:\n",
        "  test=f.read()\n",
        "print(test)"
      ],
      "execution_count": 18,
      "outputs": [
        {
          "output_type": "stream",
          "name": "stdout",
          "text": [
            "텍스트를 저장하고 읽어오기를 실습하고 있습니다.\n"
          ]
        }
      ]
    },
    {
      "cell_type": "code",
      "metadata": {
        "colab": {
          "base_uri": "https://localhost:8080/"
        },
        "id": "8OBADNlZfKR3",
        "outputId": "4b496e3d-3586-4fb9-bf7e-957c055d4147"
      },
      "source": [
        "# 구글드라이브에 파일 복사해서 저장하기\n",
        "!cp example.py /content/drive/MyDrive/data\n",
        "os.listdir(data_dir)"
      ],
      "execution_count": 19,
      "outputs": [
        {
          "output_type": "execute_result",
          "data": {
            "text/plain": [
              "['myproject',\n",
              " 'movie_comment.csv',\n",
              " 'admin.json',\n",
              " 'example1.py',\n",
              " 'admin_ex.json',\n",
              " 'test.txt',\n",
              " 'example.py',\n",
              " 'research.txt',\n",
              " 'test1.txt']"
            ]
          },
          "metadata": {},
          "execution_count": 19
        }
      ]
    },
    {
      "cell_type": "code",
      "metadata": {
        "id": "nN-Z5rFrlW5_"
      },
      "source": [
        "# 구글드라이브 파일 복사해서 작업디렉토리로 옮기기\n",
        "!cp /content/drive/MyDrive/data/test.txt /content/"
      ],
      "execution_count": 20,
      "outputs": []
    },
    {
      "cell_type": "markdown",
      "metadata": {
        "id": "LiHqjZmA2siP"
      },
      "source": [
        "## 나.라이브러리, 클래스, 사용자 모듈 활용"
      ]
    },
    {
      "cell_type": "code",
      "metadata": {
        "colab": {
          "base_uri": "https://localhost:8080/"
        },
        "id": "L3mxpsNe8Pac",
        "outputId": "d1e75554-3418-4187-d024-38f29d0feafc"
      },
      "source": [
        "import numpy as np\n",
        "x = np.linspace(0, 1, 10)\n",
        "x"
      ],
      "execution_count": 21,
      "outputs": [
        {
          "output_type": "execute_result",
          "data": {
            "text/plain": [
              "array([0.        , 0.11111111, 0.22222222, 0.33333333, 0.44444444,\n",
              "       0.55555556, 0.66666667, 0.77777778, 0.88888889, 1.        ])"
            ]
          },
          "metadata": {},
          "execution_count": 21
        }
      ]
    },
    {
      "cell_type": "code",
      "metadata": {
        "colab": {
          "base_uri": "https://localhost:8080/"
        },
        "id": "yNm5OE8H9whL",
        "outputId": "84772987-c1cb-4aa7-b207-70bf423844b2"
      },
      "source": [
        "from numpy.random import rand, randint, randn\n",
        "print('1번', rand(2,3))\n",
        "print('2번', randint(5, size=(2, 3)))\n",
        "print('3번', randn(2,3)) "
      ],
      "execution_count": 22,
      "outputs": [
        {
          "output_type": "stream",
          "name": "stdout",
          "text": [
            "1번 [[0.16665031 0.74600259 0.69105415]\n",
            " [0.65961884 0.64694435 0.77044031]]\n",
            "2번 [[2 1 2]\n",
            " [0 4 3]]\n",
            "3번 [[ 0.05991595 -0.61049992  0.4206999 ]\n",
            " [ 0.86758833 -1.38294771  0.58613883]]\n"
          ]
        }
      ]
    },
    {
      "cell_type": "code",
      "metadata": {
        "colab": {
          "base_uri": "https://localhost:8080/",
          "height": 265
        },
        "id": "hK01CKuvCRgp",
        "outputId": "b2e668cd-b0c6-47d6-a664-55b91bf5dd23"
      },
      "source": [
        "import matplotlib.pyplot as plt\n",
        "\n",
        "x = np.linspace(0, 1, 100)\n",
        "y = np.sqrt(1 - np.square(x))\n",
        "plt.figure(figsize=(4, 4))\n",
        "plt.plot(x, y)\n",
        "plt.grid()\n",
        "plt.show()"
      ],
      "execution_count": 23,
      "outputs": [
        {
          "output_type": "display_data",
          "data": {
            "text/plain": [
              "<Figure size 288x288 with 1 Axes>"
            ],
            "image/png": "[encoded data removed]"
          },
          "metadata": {
            "needs_background": "light"
          }
        }
      ]
    },
    {
      "cell_type": "code",
      "metadata": {
        "id": "standard-capability",
        "colab": {
          "base_uri": "https://localhost:8080/"
        },
        "outputId": "eb5bb74a-c65f-43d4-b56e-f3f48742a976"
      },
      "source": [
        "# 파이썬 사용자 모듈 만들기\n",
        "%%writefile test.py\n",
        "def add(a, b): \n",
        "    return a+b\n",
        "\n",
        "def sub(a, b): \n",
        "    return a-b\n",
        "\n",
        "my_id = u'유병주'\n",
        "\n",
        "if __name__ == \"__main__\":\n",
        "    print('직접 실행했습니다.')"
      ],
      "execution_count": 24,
      "outputs": [
        {
          "output_type": "stream",
          "name": "stdout",
          "text": [
            "Writing test.py\n"
          ]
        }
      ]
    },
    {
      "cell_type": "code",
      "metadata": {
        "id": "floral-brazil",
        "colab": {
          "base_uri": "https://localhost:8080/"
        },
        "outputId": "714fd244-3396-4e70-a4e1-0942e8674849"
      },
      "source": [
        "!python test.py"
      ],
      "execution_count": 25,
      "outputs": [
        {
          "output_type": "stream",
          "name": "stdout",
          "text": [
            "직접 실행했습니다.\n"
          ]
        }
      ]
    },
    {
      "cell_type": "code",
      "metadata": {
        "id": "fuzzy-ordering",
        "colab": {
          "base_uri": "https://localhost:8080/"
        },
        "outputId": "8245eb94-a840-4acb-8b06-4809443e7029"
      },
      "source": [
        "# 모듈로 불러쓰기\n",
        "from test import *\n",
        "print(add(1,2),sub(4,2))\n",
        "print(add(10,2))\n",
        "print(my_id)"
      ],
      "execution_count": 26,
      "outputs": [
        {
          "output_type": "stream",
          "name": "stdout",
          "text": [
            "3 2\n",
            "12\n",
            "유병주\n"
          ]
        }
      ]
    },
    {
      "cell_type": "code",
      "metadata": {
        "id": "small-mirror",
        "colab": {
          "base_uri": "https://localhost:8080/"
        },
        "outputId": "eda75bdb-1df3-46e3-9774-17e903fa3ba6"
      },
      "source": [
        "%%writefile My_ID.py\n",
        "my_id = '유병주'"
      ],
      "execution_count": 27,
      "outputs": [
        {
          "output_type": "stream",
          "name": "stdout",
          "text": [
            "Writing My_ID.py\n"
          ]
        }
      ]
    },
    {
      "cell_type": "code",
      "metadata": {
        "id": "surface-stand",
        "colab": {
          "base_uri": "https://localhost:8080/"
        },
        "outputId": "c6453493-f78d-44c2-ab9c-198c18cbb793"
      },
      "source": [
        "from My_ID import *\n",
        "Naver_id = my_id\n",
        "print(Naver_id)"
      ],
      "execution_count": 28,
      "outputs": [
        {
          "output_type": "stream",
          "name": "stdout",
          "text": [
            "유병주\n"
          ]
        }
      ]
    },
    {
      "cell_type": "markdown",
      "metadata": {
        "id": "7VOCh__rOWdz"
      },
      "source": [
        "# 4.파이썬 운용 기초"
      ]
    },
    {
      "cell_type": "markdown",
      "metadata": {
        "id": "loving-burlington"
      },
      "source": [
        "## 가.리스트, 딕셔너리, 데이터프레임"
      ]
    },
    {
      "cell_type": "code",
      "metadata": {
        "id": "looking-bernard",
        "colab": {
          "base_uri": "https://localhost:8080/"
        },
        "outputId": "2f77ff16-998c-46c2-d41b-6db1a665d120"
      },
      "source": [
        "# list \n",
        "names = ['김강남','양서초', '유신촌']\n",
        "# print(names[:2])\n",
        "# for i in names:\n",
        "#     print(i)\n",
        "print(names[2])\n",
        "\n",
        "# list 객체로 받기\n",
        "urls = names\n",
        "new_list = []\n",
        "for url in urls:\n",
        "    new_list.append(url)\n",
        "new_list"
      ],
      "execution_count": 29,
      "outputs": [
        {
          "output_type": "stream",
          "name": "stdout",
          "text": [
            "유신촌\n"
          ]
        },
        {
          "output_type": "execute_result",
          "data": {
            "text/plain": [
              "['김강남', '양서초', '유신촌']"
            ]
          },
          "metadata": {},
          "execution_count": 29
        }
      ]
    },
    {
      "cell_type": "code",
      "metadata": {
        "colab": {
          "base_uri": "https://localhost:8080/"
        },
        "id": "6vbBkXG_msQR",
        "outputId": "bc38f78f-d264-4ad2-8d2d-09d2a4c1dd4e"
      },
      "source": [
        "# 리스트와 유사한 튜플, 속성값 교체 불가, 짝짓기 용이\n",
        "# 짝짓기\n",
        "name = ('A', 'B', 'C')\n",
        "type(name)\n",
        "K_1, K_2, K_3 = name\n",
        "print(K_1); print(K_2); print(K_3)"
      ],
      "execution_count": 30,
      "outputs": [
        {
          "output_type": "stream",
          "name": "stdout",
          "text": [
            "A\n",
            "B\n",
            "C\n"
          ]
        }
      ]
    },
    {
      "cell_type": "code",
      "metadata": {
        "id": "other-democrat",
        "colab": {
          "base_uri": "https://localhost:8080/"
        },
        "outputId": "1e02e840-fb0a-4880-a00f-eea3e6a9f084"
      },
      "source": [
        "# 딕셔너리와 데이터프레임\n",
        "dic = {'name':['김강남','양서초'], 'birth': ['1118', '0109'], 'age':[19, 20]}\n",
        "for k, v in dic.items():\n",
        "  print(k,v)\n",
        "# 딕셔너리들의 리스트 다루기 \n",
        "dic1 = [ {'name':'김강남', 'birth': '1118', 'age':19},  {'name':'양서초', 'birth': '0109', 'age': 20}]\n",
        "print(dic.keys())\n",
        "print(dic.values())\n",
        "# dic1.keys() #AttributeError: 'list' object has no attribute 'keys'\n",
        "dic1[1].values()"
      ],
      "execution_count": 31,
      "outputs": [
        {
          "output_type": "stream",
          "name": "stdout",
          "text": [
            "name ['김강남', '양서초']\n",
            "birth ['1118', '0109']\n",
            "age [19, 20]\n",
            "dict_keys(['name', 'birth', 'age'])\n",
            "dict_values([['김강남', '양서초'], ['1118', '0109'], [19, 20]])\n"
          ]
        },
        {
          "output_type": "execute_result",
          "data": {
            "text/plain": [
              "dict_values(['양서초', '0109', 20])"
            ]
          },
          "metadata": {},
          "execution_count": 31
        }
      ]
    },
    {
      "cell_type": "code",
      "metadata": {
        "colab": {
          "base_uri": "https://localhost:8080/",
          "height": 112
        },
        "id": "-rRbQsPIhKDM",
        "outputId": "9e917113-b293-4ac3-a43c-58411da338d8"
      },
      "source": [
        "# 딕셔너리를 데이터프레임으로 변환\n",
        "import pandas as pd\n",
        "df = pd.DataFrame(dic,columns = dic.keys())\n",
        "df1 = pd.DataFrame(dic1,columns = dic1[0].keys())\n",
        "# print(df)\n",
        "df1"
      ],
      "execution_count": 32,
      "outputs": [
        {
          "output_type": "execute_result",
          "data": {
            "text/plain": [
              "  name birth  age\n",
              "0  김강남  1118   19\n",
              "1  양서초  0109   20"
            ],
            "text/html": [
              "\n",
              "  <div id=\"df-37413099-021f-4f2a-bad4-4a55fdce4651\">\n",
              "    <div class=\"colab-df-container\">\n",
              "      <div>\n",
              "<style scoped>\n",
              "    .dataframe tbody tr th:only-of-type {\n",
              "        vertical-align: middle;\n",
              "    }\n",
              "\n",
              "    .dataframe tbody tr th {\n",
              "        vertical-align: top;\n",
              "    }\n",
              "\n",
              "    .dataframe thead th {\n",
              "        text-align: right;\n",
              "    }\n",
              "</style>\n",
              "<table border=\"1\" class=\"dataframe\">\n",
              "  <thead>\n",
              "    <tr style=\"text-align: right;\">\n",
              "      <th></th>\n",
              "      <th>name</th>\n",
              "      <th>birth</th>\n",
              "      <th>age</th>\n",
              "    </tr>\n",
              "  </thead>\n",
              "  <tbody>\n",
              "    <tr>\n",
              "      <th>0</th>\n",
              "      <td>김강남</td>\n",
              "      <td>1118</td>\n",
              "      <td>19</td>\n",
              "    </tr>\n",
              "    <tr>\n",
              "      <th>1</th>\n",
              "      <td>양서초</td>\n",
              "      <td>0109</td>\n",
              "      <td>20</td>\n",
              "    </tr>\n",
              "  </tbody>\n",
              "</table>\n",
              "</div>\n",
              "      <button class=\"colab-df-convert\" onclick=\"convertToInteractive('df-37413099-021f-4f2a-bad4-4a55fdce4651')\"\n",
              "              title=\"Convert this dataframe to an interactive table.\"\n",
              "              style=\"display:none;\">\n",
              "        \n",
              "  <svg xmlns=\"http://www.w3.org/2000/svg\" height=\"24px\"viewBox=\"0 0 24 24\"\n",
              "       width=\"24px\">\n",
              "    <path d=\"M0 0h24v24H0V0z\" fill=\"none\"/>\n",
              "    <path d=\"M18.56 5.44l.94 2.06.94-2.06 2.06-.94-2.06-.94-.94-2.06-.94 2.06-2.06.94zm-11 1L8.5 8.5l.94-2.06 2.06-.94-2.06-.94L8.5 2.5l-.94 2.06-2.06.94zm10 10l.94 2.06.94-2.06 2.06-.94-2.06-.94-.94-2.06-.94 2.06-2.06.94z\"/><path d=\"M17.41 7.96l-1.37-1.37c-.4-.4-.92-.59-1.43-.59-.52 0-1.04.2-1.43.59L10.3 9.45l-7.72 7.72c-.78.78-.78 2.05 0 2.83L4 21.41c.39.39.9.59 1.41.59.51 0 1.02-.2 1.41-.59l7.78-7.78 2.81-2.81c.8-.78.8-2.07 0-2.86zM5.41 20L4 18.59l7.72-7.72 1.47 1.35L5.41 20z\"/>\n",
              "  </svg>\n",
              "      </button>\n",
              "      \n",
              "  <style>\n",
              "    .colab-df-container {\n",
              "      display:flex;\n",
              "      flex-wrap:wrap;\n",
              "      gap: 12px;\n",
              "    }\n",
              "\n",
              "    .colab-df-convert {\n",
              "      background-color: #E8F0FE;\n",
              "      border: none;\n",
              "      border-radius: 50%;\n",
              "      cursor: pointer;\n",
              "      display: none;\n",
              "      fill: #1967D2;\n",
              "      height: 32px;\n",
              "      padding: 0 0 0 0;\n",
              "      width: 32px;\n",
              "    }\n",
              "\n",
              "    .colab-df-convert:hover {\n",
              "      background-color: #E2EBFA;\n",
              "      box-shadow: 0px 1px 2px rgba(60, 64, 67, 0.3), 0px 1px 3px 1px rgba(60, 64, 67, 0.15);\n",
              "      fill: #174EA6;\n",
              "    }\n",
              "\n",
              "    [theme=dark] .colab-df-convert {\n",
              "      background-color: #3B4455;\n",
              "      fill: #D2E3FC;\n",
              "    }\n",
              "\n",
              "    [theme=dark] .colab-df-convert:hover {\n",
              "      background-color: #434B5C;\n",
              "      box-shadow: 0px 1px 3px 1px rgba(0, 0, 0, 0.15);\n",
              "      filter: drop-shadow(0px 1px 2px rgba(0, 0, 0, 0.3));\n",
              "      fill: #FFFFFF;\n",
              "    }\n",
              "  </style>\n",
              "\n",
              "      <script>\n",
              "        const buttonEl =\n",
              "          document.querySelector('#df-37413099-021f-4f2a-bad4-4a55fdce4651 button.colab-df-convert');\n",
              "        buttonEl.style.display =\n",
              "          google.colab.kernel.accessAllowed ? 'block' : 'none';\n",
              "\n",
              "        async function convertToInteractive(key) {\n",
              "          const element = document.querySelector('#df-37413099-021f-4f2a-bad4-4a55fdce4651');\n",
              "          const dataTable =\n",
              "            await google.colab.kernel.invokeFunction('convertToInteractive',\n",
              "                                                     [key], {});\n",
              "          if (!dataTable) return;\n",
              "\n",
              "          const docLinkHtml = 'Like what you see? Visit the ' +\n",
              "            '<a target=\"_blank\" href=https://colab.research.google.com/notebooks/data_table.ipynb>data table notebook</a>'\n",
              "            + ' to learn more about interactive tables.';\n",
              "          element.innerHTML = '';\n",
              "          dataTable['output_type'] = 'display_data';\n",
              "          await google.colab.output.renderOutput(dataTable, element);\n",
              "          const docLink = document.createElement('div');\n",
              "          docLink.innerHTML = docLinkHtml;\n",
              "          element.appendChild(docLink);\n",
              "        }\n",
              "      </script>\n",
              "    </div>\n",
              "  </div>\n",
              "  "
            ]
          },
          "metadata": {},
          "execution_count": 32
        }
      ]
    },
    {
      "cell_type": "code",
      "metadata": {
        "id": "vMD-KEaKjpvj"
      },
      "source": [
        "# 데이터프레임을 csv 파일로 저장\n",
        "df.to_csv('dic.csv')"
      ],
      "execution_count": 33,
      "outputs": []
    },
    {
      "cell_type": "markdown",
      "metadata": {
        "id": "su9QwMHqlxMk"
      },
      "source": [
        "## 나.반복문, 조건문 활용"
      ]
    },
    {
      "cell_type": "code",
      "metadata": {
        "colab": {
          "base_uri": "https://localhost:8080/"
        },
        "id": "pt89LGO7S5Sq",
        "outputId": "d8d4a873-b1a0-460d-e340-8c50deb1b227"
      },
      "source": [
        "for i in range(10):\n",
        "  print(i)"
      ],
      "execution_count": 34,
      "outputs": [
        {
          "output_type": "stream",
          "name": "stdout",
          "text": [
            "0\n",
            "1\n",
            "2\n",
            "3\n",
            "4\n",
            "5\n",
            "6\n",
            "7\n",
            "8\n",
            "9\n"
          ]
        }
      ]
    },
    {
      "cell_type": "code",
      "metadata": {
        "id": "B00OUbDWl2-B"
      },
      "source": [
        "f = open(\"text.txt\", 'w')\n",
        "for i in range(10):\n",
        "    data = \"%d번째 줄입니다.\\n\" % i\n",
        "    # print(data)\n",
        "    f.write(data)\n",
        "f.close()"
      ],
      "execution_count": 35,
      "outputs": []
    },
    {
      "cell_type": "code",
      "metadata": {
        "colab": {
          "base_uri": "https://localhost:8080/"
        },
        "id": "xaUD9kMWo_V8",
        "outputId": "bff5465d-1c10-4c75-c950-545e7d8c5256"
      },
      "source": [
        "# 전체 라인수 확인\n",
        "count = 0\n",
        "with open('text.txt') as f:\n",
        "  for i, line in enumerate(f):\n",
        "    count += 1\n",
        "    print(line)\n",
        "print(count)"
      ],
      "execution_count": 36,
      "outputs": [
        {
          "output_type": "stream",
          "name": "stdout",
          "text": [
            "0번째 줄입니다.\n",
            "\n",
            "1번째 줄입니다.\n",
            "\n",
            "2번째 줄입니다.\n",
            "\n",
            "3번째 줄입니다.\n",
            "\n",
            "4번째 줄입니다.\n",
            "\n",
            "5번째 줄입니다.\n",
            "\n",
            "6번째 줄입니다.\n",
            "\n",
            "7번째 줄입니다.\n",
            "\n",
            "8번째 줄입니다.\n",
            "\n",
            "9번째 줄입니다.\n",
            "\n",
            "10\n"
          ]
        }
      ]
    },
    {
      "cell_type": "code",
      "metadata": {
        "colab": {
          "base_uri": "https://localhost:8080/",
          "height": 53
        },
        "id": "oDoQJ5Mh1bNo",
        "outputId": "7e722c21-6d92-460c-f9bc-2b70a29f22a1"
      },
      "source": [
        "# 텍스트 파일로 읽는 경우, 라인 정보를 활용이나 escape문자 제거 어렵다.\n",
        "with open('text.txt', 'r') as f:\n",
        "  data = f.read()\n",
        "data[:100]"
      ],
      "execution_count": 37,
      "outputs": [
        {
          "output_type": "execute_result",
          "data": {
            "text/plain": [
              "'0번째 줄입니다.\\n1번째 줄입니다.\\n2번째 줄입니다.\\n3번째 줄입니다.\\n4번째 줄입니다.\\n5번째 줄입니다.\\n6번째 줄입니다.\\n7번째 줄입니다.\\n8번째 줄입니다.\\n9번째 줄입니다.\\n'"
            ],
            "application/vnd.google.colaboratory.intrinsic+json": {
              "type": "string"
            }
          },
          "metadata": {},
          "execution_count": 37
        }
      ]
    },
    {
      "cell_type": "code",
      "metadata": {
        "colab": {
          "base_uri": "https://localhost:8080/"
        },
        "id": "WCBI7IJkunoa",
        "outputId": "7b15c0c2-f7f9-4ea4-b0df-8da08a63a0f0"
      },
      "source": [
        "# 문서의 성격 파악하기\n",
        "with open('text.txt') as f:\n",
        "  for i, line in enumerate(f):\n",
        "    if i >5:\n",
        "        break\n",
        "    line = line.strip()\n",
        "    print(i, line)"
      ],
      "execution_count": 38,
      "outputs": [
        {
          "output_type": "stream",
          "name": "stdout",
          "text": [
            "0 0번째 줄입니다.\n",
            "1 1번째 줄입니다.\n",
            "2 2번째 줄입니다.\n",
            "3 3번째 줄입니다.\n",
            "4 4번째 줄입니다.\n",
            "5 5번째 줄입니다.\n"
          ]
        }
      ]
    },
    {
      "cell_type": "code",
      "metadata": {
        "id": "97gw3Z-dwn2B"
      },
      "source": [
        "# 함수 도움말\n",
        "?enumerate"
      ],
      "execution_count": 39,
      "outputs": []
    },
    {
      "cell_type": "code",
      "metadata": {
        "colab": {
          "base_uri": "https://localhost:8080/"
        },
        "id": "DZdcLc9zwpTZ",
        "outputId": "b9e210df-6b3b-4265-e3b3-c90333b4634f"
      },
      "source": [
        "# 문서를 리스트로 가져오기\n",
        "with open('text.txt') as f:\n",
        "  content=[]\n",
        "  for i, line in enumerate(f):\n",
        "    # if i >5:\n",
        "    #     break\n",
        "    line = line.strip() #strip은 escape 문자 제거 \\n, \\t 등\n",
        "    # print(i, line)\n",
        "    content.append(line)\n",
        "content"
      ],
      "execution_count": 40,
      "outputs": [
        {
          "output_type": "execute_result",
          "data": {
            "text/plain": [
              "['0번째 줄입니다.',\n",
              " '1번째 줄입니다.',\n",
              " '2번째 줄입니다.',\n",
              " '3번째 줄입니다.',\n",
              " '4번째 줄입니다.',\n",
              " '5번째 줄입니다.',\n",
              " '6번째 줄입니다.',\n",
              " '7번째 줄입니다.',\n",
              " '8번째 줄입니다.',\n",
              " '9번째 줄입니다.']"
            ]
          },
          "metadata": {},
          "execution_count": 40
        }
      ]
    },
    {
      "cell_type": "markdown",
      "metadata": {
        "id": "EIqzgCr3nHje"
      },
      "source": [
        "## 다.CSV, JSON, XML 자료형태별 데이터 읽고 저장하기"
      ]
    },
    {
      "cell_type": "markdown",
      "metadata": {
        "id": "H8Ri_Y3dXbof"
      },
      "source": [
        "파이썬 CSV 패키지 참조 : https://docs.python.org/ko/3/library/csv.html"
      ]
    },
    {
      "cell_type": "code",
      "metadata": {
        "id": "bvvdl9dhnSsL"
      },
      "source": [
        "import csv    \n",
        "with open('test.csv', 'w') as f:\n",
        "  data = csv.writer(f)\n",
        "  data.writerow([\"김민국\", 15, '남자', '서울시 서대문구 신촌동'])\n",
        "  data.writerow([\"박한솔\", 30, '여자', '서울시 용산구 서빙고동'])"
      ],
      "execution_count": 41,
      "outputs": []
    },
    {
      "cell_type": "code",
      "metadata": {
        "colab": {
          "base_uri": "https://localhost:8080/"
        },
        "id": "szQ7KwVWnlAe",
        "outputId": "58cc3b9f-fbfc-480b-bb98-ac34c53b9428"
      },
      "source": [
        "import csv   \n",
        "with open('test.csv', 'r') as f:\n",
        "  data = csv.reader(f)\n",
        "  for i in data:\n",
        "      print (i)\n",
        "      # print(', '.join(row))"
      ],
      "execution_count": 42,
      "outputs": [
        {
          "output_type": "stream",
          "name": "stdout",
          "text": [
            "['김민국', '15', '남자', '서울시 서대문구 신촌동']\n",
            "['박한솔', '30', '여자', '서울시 용산구 서빙고동']\n"
          ]
        }
      ]
    },
    {
      "cell_type": "code",
      "metadata": {
        "colab": {
          "base_uri": "https://localhost:8080/"
        },
        "id": "XGB5m9fxn0MN",
        "outputId": "750950eb-1799-474a-eab1-20feabcfdbb7"
      },
      "source": [
        "# 위와 같은 문법, 객체로 저장하기\n",
        "with open(\"test.csv\", \"r\") as f:\n",
        "  data = csv.reader(f)\n",
        "  test=[]\n",
        "  for row in data:\n",
        "    test.append(row)\n",
        "test"
      ],
      "execution_count": 43,
      "outputs": [
        {
          "output_type": "execute_result",
          "data": {
            "text/plain": [
              "[['김민국', '15', '남자', '서울시 서대문구 신촌동'], ['박한솔', '30', '여자', '서울시 용산구 서빙고동']]"
            ]
          },
          "metadata": {},
          "execution_count": 43
        }
      ]
    },
    {
      "cell_type": "code",
      "metadata": {
        "colab": {
          "base_uri": "https://localhost:8080/",
          "height": 112
        },
        "id": "tR_pBPW8qBmN",
        "outputId": "c82393ad-769c-4450-eef0-1c19a87ecc57"
      },
      "source": [
        "# csv파일을 판다스 데이터프레임으로 읽어들이기\n",
        "import pandas as pd\n",
        "colnames=['Name', 'Age', 'Gender', 'Add'] \n",
        "df = pd.read_csv('test.csv', names=colnames, header=None)\n",
        "df"
      ],
      "execution_count": 44,
      "outputs": [
        {
          "output_type": "execute_result",
          "data": {
            "text/plain": [
              "  Name  Age Gender           Add\n",
              "0  김민국   15     남자  서울시 서대문구 신촌동\n",
              "1  박한솔   30     여자  서울시 용산구 서빙고동"
            ],
            "text/html": [
              "\n",
              "  <div id=\"df-a2042d08-5719-49ce-b843-9ea395ec31a3\">\n",
              "    <div class=\"colab-df-container\">\n",
              "      <div>\n",
              "<style scoped>\n",
              "    .dataframe tbody tr th:only-of-type {\n",
              "        vertical-align: middle;\n",
              "    }\n",
              "\n",
              "    .dataframe tbody tr th {\n",
              "        vertical-align: top;\n",
              "    }\n",
              "\n",
              "    .dataframe thead th {\n",
              "        text-align: right;\n",
              "    }\n",
              "</style>\n",
              "<table border=\"1\" class=\"dataframe\">\n",
              "  <thead>\n",
              "    <tr style=\"text-align: right;\">\n",
              "      <th></th>\n",
              "      <th>Name</th>\n",
              "      <th>Age</th>\n",
              "      <th>Gender</th>\n",
              "      <th>Add</th>\n",
              "    </tr>\n",
              "  </thead>\n",
              "  <tbody>\n",
              "    <tr>\n",
              "      <th>0</th>\n",
              "      <td>김민국</td>\n",
              "      <td>15</td>\n",
              "      <td>남자</td>\n",
              "      <td>서울시 서대문구 신촌동</td>\n",
              "    </tr>\n",
              "    <tr>\n",
              "      <th>1</th>\n",
              "      <td>박한솔</td>\n",
              "      <td>30</td>\n",
              "      <td>여자</td>\n",
              "      <td>서울시 용산구 서빙고동</td>\n",
              "    </tr>\n",
              "  </tbody>\n",
              "</table>\n",
              "</div>\n",
              "      <button class=\"colab-df-convert\" onclick=\"convertToInteractive('df-a2042d08-5719-49ce-b843-9ea395ec31a3')\"\n",
              "              title=\"Convert this dataframe to an interactive table.\"\n",
              "              style=\"display:none;\">\n",
              "        \n",
              "  <svg xmlns=\"http://www.w3.org/2000/svg\" height=\"24px\"viewBox=\"0 0 24 24\"\n",
              "       width=\"24px\">\n",
              "    <path d=\"M0 0h24v24H0V0z\" fill=\"none\"/>\n",
              "    <path d=\"M18.56 5.44l.94 2.06.94-2.06 2.06-.94-2.06-.94-.94-2.06-.94 2.06-2.06.94zm-11 1L8.5 8.5l.94-2.06 2.06-.94-2.06-.94L8.5 2.5l-.94 2.06-2.06.94zm10 10l.94 2.06.94-2.06 2.06-.94-2.06-.94-.94-2.06-.94 2.06-2.06.94z\"/><path d=\"M17.41 7.96l-1.37-1.37c-.4-.4-.92-.59-1.43-.59-.52 0-1.04.2-1.43.59L10.3 9.45l-7.72 7.72c-.78.78-.78 2.05 0 2.83L4 21.41c.39.39.9.59 1.41.59.51 0 1.02-.2 1.41-.59l7.78-7.78 2.81-2.81c.8-.78.8-2.07 0-2.86zM5.41 20L4 18.59l7.72-7.72 1.47 1.35L5.41 20z\"/>\n",
              "  </svg>\n",
              "      </button>\n",
              "      \n",
              "  <style>\n",
              "    .colab-df-container {\n",
              "      display:flex;\n",
              "      flex-wrap:wrap;\n",
              "      gap: 12px;\n",
              "    }\n",
              "\n",
              "    .colab-df-convert {\n",
              "      background-color: #E8F0FE;\n",
              "      border: none;\n",
              "      border-radius: 50%;\n",
              "      cursor: pointer;\n",
              "      display: none;\n",
              "      fill: #1967D2;\n",
              "      height: 32px;\n",
              "      padding: 0 0 0 0;\n",
              "      width: 32px;\n",
              "    }\n",
              "\n",
              "    .colab-df-convert:hover {\n",
              "      background-color: #E2EBFA;\n",
              "      box-shadow: 0px 1px 2px rgba(60, 64, 67, 0.3), 0px 1px 3px 1px rgba(60, 64, 67, 0.15);\n",
              "      fill: #174EA6;\n",
              "    }\n",
              "\n",
              "    [theme=dark] .colab-df-convert {\n",
              "      background-color: #3B4455;\n",
              "      fill: #D2E3FC;\n",
              "    }\n",
              "\n",
              "    [theme=dark] .colab-df-convert:hover {\n",
              "      background-color: #434B5C;\n",
              "      box-shadow: 0px 1px 3px 1px rgba(0, 0, 0, 0.15);\n",
              "      filter: drop-shadow(0px 1px 2px rgba(0, 0, 0, 0.3));\n",
              "      fill: #FFFFFF;\n",
              "    }\n",
              "  </style>\n",
              "\n",
              "      <script>\n",
              "        const buttonEl =\n",
              "          document.querySelector('#df-a2042d08-5719-49ce-b843-9ea395ec31a3 button.colab-df-convert');\n",
              "        buttonEl.style.display =\n",
              "          google.colab.kernel.accessAllowed ? 'block' : 'none';\n",
              "\n",
              "        async function convertToInteractive(key) {\n",
              "          const element = document.querySelector('#df-a2042d08-5719-49ce-b843-9ea395ec31a3');\n",
              "          const dataTable =\n",
              "            await google.colab.kernel.invokeFunction('convertToInteractive',\n",
              "                                                     [key], {});\n",
              "          if (!dataTable) return;\n",
              "\n",
              "          const docLinkHtml = 'Like what you see? Visit the ' +\n",
              "            '<a target=\"_blank\" href=https://colab.research.google.com/notebooks/data_table.ipynb>data table notebook</a>'\n",
              "            + ' to learn more about interactive tables.';\n",
              "          element.innerHTML = '';\n",
              "          dataTable['output_type'] = 'display_data';\n",
              "          await google.colab.output.renderOutput(dataTable, element);\n",
              "          const docLink = document.createElement('div');\n",
              "          docLink.innerHTML = docLinkHtml;\n",
              "          element.appendChild(docLink);\n",
              "        }\n",
              "      </script>\n",
              "    </div>\n",
              "  </div>\n",
              "  "
            ]
          },
          "metadata": {},
          "execution_count": 44
        }
      ]
    },
    {
      "cell_type": "code",
      "metadata": {
        "id": "h949bHfBZpim"
      },
      "source": [
        "# 데이터 프레임을 json 파일로 저장하기\n",
        "df.to_json('test.json',orient=\"columns\")"
      ],
      "execution_count": 45,
      "outputs": []
    },
    {
      "cell_type": "markdown",
      "metadata": {
        "id": "XURJUr-UYkZt"
      },
      "source": [
        "json패키지 참조 : https://docs.python.org/ko/3/library/json.html"
      ]
    },
    {
      "cell_type": "code",
      "metadata": {
        "colab": {
          "base_uri": "https://localhost:8080/",
          "height": 112
        },
        "id": "0X5feKeZqUmn",
        "outputId": "bf42d0ab-f653-4645-89a6-3141ad271bdb"
      },
      "source": [
        "# json 파일 읽어들여 판다스 데이터프레임으로 변환\n",
        "import json\n",
        "import pandas as pd\n",
        "# json을 읽어들이기\n",
        "info = open('test.json').read()\n",
        "data = json.loads(info) \n",
        "# print(data)\n",
        "df = pd.DataFrame(data)\n",
        "df"
      ],
      "execution_count": 46,
      "outputs": [
        {
          "output_type": "execute_result",
          "data": {
            "text/plain": [
              "  Name  Age Gender           Add\n",
              "0  김민국   15     남자  서울시 서대문구 신촌동\n",
              "1  박한솔   30     여자  서울시 용산구 서빙고동"
            ],
            "text/html": [
              "\n",
              "  <div id=\"df-571b0f21-41d4-4704-888e-a4b6fa63f689\">\n",
              "    <div class=\"colab-df-container\">\n",
              "      <div>\n",
              "<style scoped>\n",
              "    .dataframe tbody tr th:only-of-type {\n",
              "        vertical-align: middle;\n",
              "    }\n",
              "\n",
              "    .dataframe tbody tr th {\n",
              "        vertical-align: top;\n",
              "    }\n",
              "\n",
              "    .dataframe thead th {\n",
              "        text-align: right;\n",
              "    }\n",
              "</style>\n",
              "<table border=\"1\" class=\"dataframe\">\n",
              "  <thead>\n",
              "    <tr style=\"text-align: right;\">\n",
              "      <th></th>\n",
              "      <th>Name</th>\n",
              "      <th>Age</th>\n",
              "      <th>Gender</th>\n",
              "      <th>Add</th>\n",
              "    </tr>\n",
              "  </thead>\n",
              "  <tbody>\n",
              "    <tr>\n",
              "      <th>0</th>\n",
              "      <td>김민국</td>\n",
              "      <td>15</td>\n",
              "      <td>남자</td>\n",
              "      <td>서울시 서대문구 신촌동</td>\n",
              "    </tr>\n",
              "    <tr>\n",
              "      <th>1</th>\n",
              "      <td>박한솔</td>\n",
              "      <td>30</td>\n",
              "      <td>여자</td>\n",
              "      <td>서울시 용산구 서빙고동</td>\n",
              "    </tr>\n",
              "  </tbody>\n",
              "</table>\n",
              "</div>\n",
              "      <button class=\"colab-df-convert\" onclick=\"convertToInteractive('df-571b0f21-41d4-4704-888e-a4b6fa63f689')\"\n",
              "              title=\"Convert this dataframe to an interactive table.\"\n",
              "              style=\"display:none;\">\n",
              "        \n",
              "  <svg xmlns=\"http://www.w3.org/2000/svg\" height=\"24px\"viewBox=\"0 0 24 24\"\n",
              "       width=\"24px\">\n",
              "    <path d=\"M0 0h24v24H0V0z\" fill=\"none\"/>\n",
              "    <path d=\"M18.56 5.44l.94 2.06.94-2.06 2.06-.94-2.06-.94-.94-2.06-.94 2.06-2.06.94zm-11 1L8.5 8.5l.94-2.06 2.06-.94-2.06-.94L8.5 2.5l-.94 2.06-2.06.94zm10 10l.94 2.06.94-2.06 2.06-.94-2.06-.94-.94-2.06-.94 2.06-2.06.94z\"/><path d=\"M17.41 7.96l-1.37-1.37c-.4-.4-.92-.59-1.43-.59-.52 0-1.04.2-1.43.59L10.3 9.45l-7.72 7.72c-.78.78-.78 2.05 0 2.83L4 21.41c.39.39.9.59 1.41.59.51 0 1.02-.2 1.41-.59l7.78-7.78 2.81-2.81c.8-.78.8-2.07 0-2.86zM5.41 20L4 18.59l7.72-7.72 1.47 1.35L5.41 20z\"/>\n",
              "  </svg>\n",
              "      </button>\n",
              "      \n",
              "  <style>\n",
              "    .colab-df-container {\n",
              "      display:flex;\n",
              "      flex-wrap:wrap;\n",
              "      gap: 12px;\n",
              "    }\n",
              "\n",
              "    .colab-df-convert {\n",
              "      background-color: #E8F0FE;\n",
              "      border: none;\n",
              "      border-radius: 50%;\n",
              "      cursor: pointer;\n",
              "      display: none;\n",
              "      fill: #1967D2;\n",
              "      height: 32px;\n",
              "      padding: 0 0 0 0;\n",
              "      width: 32px;\n",
              "    }\n",
              "\n",
              "    .colab-df-convert:hover {\n",
              "      background-color: #E2EBFA;\n",
              "      box-shadow: 0px 1px 2px rgba(60, 64, 67, 0.3), 0px 1px 3px 1px rgba(60, 64, 67, 0.15);\n",
              "      fill: #174EA6;\n",
              "    }\n",
              "\n",
              "    [theme=dark] .colab-df-convert {\n",
              "      background-color: #3B4455;\n",
              "      fill: #D2E3FC;\n",
              "    }\n",
              "\n",
              "    [theme=dark] .colab-df-convert:hover {\n",
              "      background-color: #434B5C;\n",
              "      box-shadow: 0px 1px 3px 1px rgba(0, 0, 0, 0.15);\n",
              "      filter: drop-shadow(0px 1px 2px rgba(0, 0, 0, 0.3));\n",
              "      fill: #FFFFFF;\n",
              "    }\n",
              "  </style>\n",
              "\n",
              "      <script>\n",
              "        const buttonEl =\n",
              "          document.querySelector('#df-571b0f21-41d4-4704-888e-a4b6fa63f689 button.colab-df-convert');\n",
              "        buttonEl.style.display =\n",
              "          google.colab.kernel.accessAllowed ? 'block' : 'none';\n",
              "\n",
              "        async function convertToInteractive(key) {\n",
              "          const element = document.querySelector('#df-571b0f21-41d4-4704-888e-a4b6fa63f689');\n",
              "          const dataTable =\n",
              "            await google.colab.kernel.invokeFunction('convertToInteractive',\n",
              "                                                     [key], {});\n",
              "          if (!dataTable) return;\n",
              "\n",
              "          const docLinkHtml = 'Like what you see? Visit the ' +\n",
              "            '<a target=\"_blank\" href=https://colab.research.google.com/notebooks/data_table.ipynb>data table notebook</a>'\n",
              "            + ' to learn more about interactive tables.';\n",
              "          element.innerHTML = '';\n",
              "          dataTable['output_type'] = 'display_data';\n",
              "          await google.colab.output.renderOutput(dataTable, element);\n",
              "          const docLink = document.createElement('div');\n",
              "          docLink.innerHTML = docLinkHtml;\n",
              "          element.appendChild(docLink);\n",
              "        }\n",
              "      </script>\n",
              "    </div>\n",
              "  </div>\n",
              "  "
            ]
          },
          "metadata": {},
          "execution_count": 46
        }
      ]
    },
    {
      "cell_type": "markdown",
      "metadata": {
        "id": "kznfa8S_YQRV"
      },
      "source": [
        "XML 패키지참조 : https://docs.python.org/ko/3/library/xml.etree.elementtree.html"
      ]
    },
    {
      "cell_type": "code",
      "metadata": {
        "colab": {
          "base_uri": "https://localhost:8080/"
        },
        "id": "vtLT82gabKKp",
        "outputId": "9ca1759a-af9c-4562-f95d-6b9b904829ce"
      },
      "source": [
        "%%writefile test.xml\n",
        "<?xml version=\"1.0\" encoding=\"utf-8\"?>\n",
        "<world>\n",
        "\t<people name='김민국'>\n",
        "\t\t<age>15</age>\n",
        "\t\t<tall>183cm</tall>\n",
        "\t\t<add>'서울시 서대문구'</add>\n",
        "\t</people>\n",
        "\t<people name='박한솔' >\n",
        "\t\t<age>30</age>\n",
        "\t\t<tall>175cm</tall>\n",
        "\t\t<add>'서울시 용산구'</add>\n",
        "\t</people>\n",
        "</world>"
      ],
      "execution_count": 47,
      "outputs": [
        {
          "output_type": "stream",
          "name": "stdout",
          "text": [
            "Writing test.xml\n"
          ]
        }
      ]
    },
    {
      "cell_type": "code",
      "metadata": {
        "colab": {
          "base_uri": "https://localhost:8080/",
          "height": 112
        },
        "id": "O_uALpYLV2Vt",
        "outputId": "d0afb278-4623-4fa9-8607-0b8fd8643ce9"
      },
      "source": [
        "import pandas as pd \n",
        "import xml.etree.ElementTree as ET\n",
        "mytree = ET.parse('test.xml')\n",
        "root = mytree.getroot()\n",
        "# print(root.tag)\n",
        "df_cols=['Name','Age', 'Tall','Add']\n",
        "rows=[]\n",
        "for node in root:\n",
        "   s_name=node.attrib.get(\"name\")\n",
        "   s_age=node.find(\"age\").text if node is not None else None\n",
        "   s_tall=node.find(\"tall\").text if node is not None else None\n",
        "   s_add=node.find(\"add\").text if node is not None else None\n",
        "   rows.append({\"Name\":s_name, \"Age\":s_age, 'Tall':s_tall, \"Add\" : s_add})\n",
        "\n",
        "df=pd.DataFrame(rows,columns=rows[0].keys()) \n",
        "df\n",
        "# print(rows)\n"
      ],
      "execution_count": 48,
      "outputs": [
        {
          "output_type": "execute_result",
          "data": {
            "text/plain": [
              "  Name Age   Tall         Add\n",
              "0  김민국  15  183cm  '서울시 서대문구'\n",
              "1  박한솔  30  175cm   '서울시 용산구'"
            ],
            "text/html": [
              "\n",
              "  <div id=\"df-b9deb7d5-bf2f-4c47-90d3-ec657a88eb40\">\n",
              "    <div class=\"colab-df-container\">\n",
              "      <div>\n",
              "<style scoped>\n",
              "    .dataframe tbody tr th:only-of-type {\n",
              "        vertical-align: middle;\n",
              "    }\n",
              "\n",
              "    .dataframe tbody tr th {\n",
              "        vertical-align: top;\n",
              "    }\n",
              "\n",
              "    .dataframe thead th {\n",
              "        text-align: right;\n",
              "    }\n",
              "</style>\n",
              "<table border=\"1\" class=\"dataframe\">\n",
              "  <thead>\n",
              "    <tr style=\"text-align: right;\">\n",
              "      <th></th>\n",
              "      <th>Name</th>\n",
              "      <th>Age</th>\n",
              "      <th>Tall</th>\n",
              "      <th>Add</th>\n",
              "    </tr>\n",
              "  </thead>\n",
              "  <tbody>\n",
              "    <tr>\n",
              "      <th>0</th>\n",
              "      <td>김민국</td>\n",
              "      <td>15</td>\n",
              "      <td>183cm</td>\n",
              "      <td>'서울시 서대문구'</td>\n",
              "    </tr>\n",
              "    <tr>\n",
              "      <th>1</th>\n",
              "      <td>박한솔</td>\n",
              "      <td>30</td>\n",
              "      <td>175cm</td>\n",
              "      <td>'서울시 용산구'</td>\n",
              "    </tr>\n",
              "  </tbody>\n",
              "</table>\n",
              "</div>\n",
              "      <button class=\"colab-df-convert\" onclick=\"convertToInteractive('df-b9deb7d5-bf2f-4c47-90d3-ec657a88eb40')\"\n",
              "              title=\"Convert this dataframe to an interactive table.\"\n",
              "              style=\"display:none;\">\n",
              "        \n",
              "  <svg xmlns=\"http://www.w3.org/2000/svg\" height=\"24px\"viewBox=\"0 0 24 24\"\n",
              "       width=\"24px\">\n",
              "    <path d=\"M0 0h24v24H0V0z\" fill=\"none\"/>\n",
              "    <path d=\"M18.56 5.44l.94 2.06.94-2.06 2.06-.94-2.06-.94-.94-2.06-.94 2.06-2.06.94zm-11 1L8.5 8.5l.94-2.06 2.06-.94-2.06-.94L8.5 2.5l-.94 2.06-2.06.94zm10 10l.94 2.06.94-2.06 2.06-.94-2.06-.94-.94-2.06-.94 2.06-2.06.94z\"/><path d=\"M17.41 7.96l-1.37-1.37c-.4-.4-.92-.59-1.43-.59-.52 0-1.04.2-1.43.59L10.3 9.45l-7.72 7.72c-.78.78-.78 2.05 0 2.83L4 21.41c.39.39.9.59 1.41.59.51 0 1.02-.2 1.41-.59l7.78-7.78 2.81-2.81c.8-.78.8-2.07 0-2.86zM5.41 20L4 18.59l7.72-7.72 1.47 1.35L5.41 20z\"/>\n",
              "  </svg>\n",
              "      </button>\n",
              "      \n",
              "  <style>\n",
              "    .colab-df-container {\n",
              "      display:flex;\n",
              "      flex-wrap:wrap;\n",
              "      gap: 12px;\n",
              "    }\n",
              "\n",
              "    .colab-df-convert {\n",
              "      background-color: #E8F0FE;\n",
              "      border: none;\n",
              "      border-radius: 50%;\n",
              "      cursor: pointer;\n",
              "      display: none;\n",
              "      fill: #1967D2;\n",
              "      height: 32px;\n",
              "      padding: 0 0 0 0;\n",
              "      width: 32px;\n",
              "    }\n",
              "\n",
              "    .colab-df-convert:hover {\n",
              "      background-color: #E2EBFA;\n",
              "      box-shadow: 0px 1px 2px rgba(60, 64, 67, 0.3), 0px 1px 3px 1px rgba(60, 64, 67, 0.15);\n",
              "      fill: #174EA6;\n",
              "    }\n",
              "\n",
              "    [theme=dark] .colab-df-convert {\n",
              "      background-color: #3B4455;\n",
              "      fill: #D2E3FC;\n",
              "    }\n",
              "\n",
              "    [theme=dark] .colab-df-convert:hover {\n",
              "      background-color: #434B5C;\n",
              "      box-shadow: 0px 1px 3px 1px rgba(0, 0, 0, 0.15);\n",
              "      filter: drop-shadow(0px 1px 2px rgba(0, 0, 0, 0.3));\n",
              "      fill: #FFFFFF;\n",
              "    }\n",
              "  </style>\n",
              "\n",
              "      <script>\n",
              "        const buttonEl =\n",
              "          document.querySelector('#df-b9deb7d5-bf2f-4c47-90d3-ec657a88eb40 button.colab-df-convert');\n",
              "        buttonEl.style.display =\n",
              "          google.colab.kernel.accessAllowed ? 'block' : 'none';\n",
              "\n",
              "        async function convertToInteractive(key) {\n",
              "          const element = document.querySelector('#df-b9deb7d5-bf2f-4c47-90d3-ec657a88eb40');\n",
              "          const dataTable =\n",
              "            await google.colab.kernel.invokeFunction('convertToInteractive',\n",
              "                                                     [key], {});\n",
              "          if (!dataTable) return;\n",
              "\n",
              "          const docLinkHtml = 'Like what you see? Visit the ' +\n",
              "            '<a target=\"_blank\" href=https://colab.research.google.com/notebooks/data_table.ipynb>data table notebook</a>'\n",
              "            + ' to learn more about interactive tables.';\n",
              "          element.innerHTML = '';\n",
              "          dataTable['output_type'] = 'display_data';\n",
              "          await google.colab.output.renderOutput(dataTable, element);\n",
              "          const docLink = document.createElement('div');\n",
              "          docLink.innerHTML = docLinkHtml;\n",
              "          element.appendChild(docLink);\n",
              "        }\n",
              "      </script>\n",
              "    </div>\n",
              "  </div>\n",
              "  "
            ]
          },
          "metadata": {},
          "execution_count": 48
        }
      ]
    },
    {
      "cell_type": "code",
      "metadata": {
        "id": "j-Si67vt0QVy"
      },
      "source": [],
      "execution_count": 48,
      "outputs": []
    }
  ]
}