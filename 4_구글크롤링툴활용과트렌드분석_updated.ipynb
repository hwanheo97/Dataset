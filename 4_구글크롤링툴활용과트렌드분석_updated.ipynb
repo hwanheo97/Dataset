{
  "cells": [
    {
      "cell_type": "markdown",
      "id": "Yk6ocjw_DhtU",
      "metadata": {
        "id": "Yk6ocjw_DhtU"
      },
      "source": [
        "# 1.환경설정과 로봇배제 기준"
      ]
    },
    {
      "cell_type": "markdown",
      "id": "335lHARrMKVn",
      "metadata": {
        "id": "335lHARrMKVn"
      },
      "source": [
        "## 가. 한글폰트 설치"
      ]
    },
    {
      "cell_type": "code",
      "execution_count": 1,
      "id": "KMTF7JWVxff_",
      "metadata": {
        "colab": {
          "base_uri": "https://localhost:8080/"
        },
        "id": "KMTF7JWVxff_",
        "outputId": "b3e23f26-52e0-41ce-e68c-c2b5326381fb"
      },
      "outputs": [
        {
          "name": "stdout",
          "output_type": "stream",
          "text": [
            "Ubuntu 20.04.5 LTS \\n \\l\n",
            "\n"
          ]
        }
      ],
      "source": [
        "!cat /etc/issue"
      ]
    },
    {
      "cell_type": "code",
      "execution_count": 2,
      "id": "s8BY9wBRkvLm",
      "metadata": {
        "colab": {
          "base_uri": "https://localhost:8080/"
        },
        "id": "s8BY9wBRkvLm",
        "outputId": "7398914b-468e-483c-88ad-80fe98328dee"
      },
      "outputs": [
        {
          "name": "stdout",
          "output_type": "stream",
          "text": [
            "--2023-03-19 07:41:31--  https://github.com/byungjooyoo/Dataset/raw/main/NanumGothic.ttf\n",
            "Resolving github.com (github.com)... 140.82.113.3\n",
            "Connecting to github.com (github.com)|140.82.113.3|:443... connected.\n",
            "HTTP request sent, awaiting response... 302 Found\n",
            "Location: https://raw.githubusercontent.com/byungjooyoo/Dataset/main/NanumGothic.ttf [following]\n",
            "--2023-03-19 07:41:31--  https://raw.githubusercontent.com/byungjooyoo/Dataset/main/NanumGothic.ttf\n",
            "Resolving raw.githubusercontent.com (raw.githubusercontent.com)... 185.199.111.133, 185.199.110.133, 185.199.108.133, ...\n",
            "Connecting to raw.githubusercontent.com (raw.githubusercontent.com)|185.199.111.133|:443... connected.\n",
            "HTTP request sent, awaiting response... 200 OK\n",
            "Length: 4343844 (4.1M) [application/octet-stream]\n",
            "Saving to: ‘NanumGothic.ttf’\n",
            "\n",
            "NanumGothic.ttf     100%[===================>]   4.14M  --.-KB/s    in 0.08s   \n",
            "\n",
            "2023-03-19 07:41:32 (54.6 MB/s) - ‘NanumGothic.ttf’ saved [4343844/4343844]\n",
            "\n"
          ]
        }
      ],
      "source": [
        "# Colab 한글폰트 설정\n",
        "import matplotlib as mpl\n",
        "import matplotlib.pyplot as plt\n",
        "!wget https://github.com/byungjooyoo/Dataset/raw/main/NanumGothic.ttf\n",
        "mpl.font_manager.fontManager.addfont('NanumGothic.ttf')\n",
        "mpl.rc('font', family='NanumGothic')\n",
        "plt.rc(\"axes\", unicode_minus=False)"
      ]
    },
    {
      "cell_type": "code",
      "execution_count": 3,
      "id": "EOIdP4Hjd93J",
      "metadata": {
        "colab": {
          "base_uri": "https://localhost:8080/",
          "height": 189
        },
        "id": "EOIdP4Hjd93J",
        "outputId": "8ce7d8ac-ab84-4c38-9b45-5def1378f6e9"
      },
      "outputs": [
        {
          "data": {
            "text/plain": [
              "<Axes: title={'center': '한글'}>"
            ]
          },
          "execution_count": 3,
          "metadata": {},
          "output_type": "execute_result"
        },
        {
          "data": {
            "image/png": "[encoded data removed]",
            "text/plain": [
              "<Figure size 864x144 with 1 Axes>"
            ]
          },
          "metadata": {
            "needs_background": "light"
          },
          "output_type": "display_data"
        }
      ],
      "source": [
        "#확인코드\n",
        "import pandas as pd\n",
        "pd.Series([0,2,-4,6]).plot(title=\"한글\", figsize=(12, 2))"
      ]
    },
    {
      "cell_type": "markdown",
      "id": "exterior-married",
      "metadata": {
        "id": "exterior-married"
      },
      "source": [
        "## 나. 로봇 배제 표준"
      ]
    },
    {
      "cell_type": "markdown",
      "id": "young-wilderness",
      "metadata": {
        "id": "young-wilderness"
      },
      "source": [
        "웹 크롤링 로봇의 접근을 허락하고 있는지 배제하고 있는지 사전에 확인이 필요함\n",
        "\n",
        "아래와 같은 방법으로 하던지 웹브라우저를 이용해 웹사이트 주소에 robots.txt를 추가해서 엔터 해본다."
      ]
    },
    {
      "cell_type": "code",
      "execution_count": 4,
      "id": "fiscal-hearing",
      "metadata": {
        "colab": {
          "base_uri": "https://localhost:8080/"
        },
        "id": "fiscal-hearing",
        "outputId": "608fd608-02cc-400f-9437-580bfbcc0693"
      },
      "outputs": [
        {
          "name": "stdout",
          "output_type": "stream",
          "text": [
            "https://www.naver.com/robots.txt\n",
            "User-agent: *\n",
            "Disallow: /\n",
            "Allow : /$ \n",
            "\n",
            "\n",
            "\n",
            "https://www.python.org/robots.txt\n",
            "# Directions for robots.  See this URL:\n",
            "# http://www.robotstxt.org/robotstxt.html\n",
            "# for a description of the file format.\n",
            "\n",
            "User-agent: HTTrack\n",
            "User-agent: puf\n",
            "User-agent: MSIECrawler\n",
            "Disallow: /\n",
            "\n",
            "# The Krugle web crawler (though based on Nutch) is OK.\n",
            "User-agent: Krugle\n",
            "Allow: /\n",
            "Disallow: /~guido/orlijn/\n",
            "Disallow: /webstats/\n",
            "\n",
            "# No one should be crawling us with Nutch.\n",
            "User-agent: Nutch\n",
            "Disallow: /\n",
            "\n",
            "# Hide old versions of the documentation and various large sets of files.\n",
            "User-agent: *\n",
            "Disallow: /~guido/orlijn/\n",
            "Disallow: /webstats/\n",
            "\n",
            "\n",
            "\n",
            "https://www.tistory.com/robots.txt\n",
            "User-agent: *\n",
            "Disallow: /m\n",
            "Disallow: /login\n",
            "Disallow: /gateway\n",
            "Allow: /\n",
            "\n",
            "\n"
          ]
        }
      ],
      "source": [
        "import requests\n",
        "\n",
        "urls = [\"https://www.naver.com/\", \"https://www.python.org/\", \"https://www.tistory.com/\"]\n",
        "filename= \"robots.txt\"\n",
        "\n",
        "for url in urls:\n",
        "    file_path = url + filename\n",
        "    print(file_path)\n",
        "    resp = requests.get(file_path)\n",
        "    print(resp.text)\n",
        "    print(\"\\n\")"
      ]
    },
    {
      "cell_type": "markdown",
      "id": "ambient-person",
      "metadata": {
        "id": "ambient-person"
      },
      "source": [
        "/$은 첫페이지만 크롤링 허용하고\n",
        "\n",
        "파이썬 홈페이지는 일부 로봇의 접근 불허"
      ]
    },
    {
      "cell_type": "markdown",
      "id": "t62PBrObFlO1",
      "metadata": {
        "id": "t62PBrObFlO1"
      },
      "source": [
        "# 2.Pytrends를 이용한 트렌드 검색"
      ]
    },
    {
      "cell_type": "markdown",
      "id": "l9bZZZR_hTGQ",
      "metadata": {
        "id": "l9bZZZR_hTGQ"
      },
      "source": [
        "구글 검색 횟수 제공 API 활용 라이브러리 \n",
        "\n",
        "pytrends 코드 설치: https://pypi.org/project/pytrends/"
      ]
    },
    {
      "cell_type": "code",
      "execution_count": 5,
      "id": "LV3a3PMpgyKk",
      "metadata": {
        "colab": {
          "base_uri": "https://localhost:8080/"
        },
        "id": "LV3a3PMpgyKk",
        "outputId": "13f2fcb6-3f03-47b2-fe36-b0693291abc8"
      },
      "outputs": [
        {
          "name": "stdout",
          "output_type": "stream",
          "text": [
            "Looking in indexes: https://pypi.org/simple, https://us-python.pkg.dev/colab-wheels/public/simple/\n",
            "Collecting pytrends\n",
            "  Downloading pytrends-4.9.0-py3-none-any.whl (15 kB)\n",
            "Requirement already satisfied: requests>=2.0 in /usr/local/lib/python3.9/dist-packages (from pytrends) (2.27.1)\n",
            "Requirement already satisfied: lxml in /usr/local/lib/python3.9/dist-packages (from pytrends) (4.9.2)\n",
            "Requirement already satisfied: pandas>=0.25 in /usr/local/lib/python3.9/dist-packages (from pytrends) (1.4.4)\n",
            "Requirement already satisfied: python-dateutil>=2.8.1 in /usr/local/lib/python3.9/dist-packages (from pandas>=0.25->pytrends) (2.8.2)\n",
            "Requirement already satisfied: numpy>=1.18.5 in /usr/local/lib/python3.9/dist-packages (from pandas>=0.25->pytrends) (1.22.4)\n",
            "Requirement already satisfied: pytz>=2020.1 in /usr/local/lib/python3.9/dist-packages (from pandas>=0.25->pytrends) (2022.7.1)\n",
            "Requirement already satisfied: charset-normalizer~=2.0.0 in /usr/local/lib/python3.9/dist-packages (from requests>=2.0->pytrends) (2.0.12)\n",
            "Requirement already satisfied: certifi>=2017.4.17 in /usr/local/lib/python3.9/dist-packages (from requests>=2.0->pytrends) (2022.12.7)\n",
            "Requirement already satisfied: urllib3<1.27,>=1.21.1 in /usr/local/lib/python3.9/dist-packages (from requests>=2.0->pytrends) (1.26.15)\n",
            "Requirement already satisfied: idna<4,>=2.5 in /usr/local/lib/python3.9/dist-packages (from requests>=2.0->pytrends) (3.4)\n",
            "Requirement already satisfied: six>=1.5 in /usr/local/lib/python3.9/dist-packages (from python-dateutil>=2.8.1->pandas>=0.25->pytrends) (1.15.0)\n",
            "Installing collected packages: pytrends\n",
            "Successfully installed pytrends-4.9.0\n"
          ]
        }
      ],
      "source": [
        "#기존 비공식적으로 배포되던 pytrends는 유료로 변경되어 조회가 한정됨\n",
        "!pip install pytrends"
      ]
    },
    {
      "cell_type": "markdown",
      "id": "l-mCibgbbxGU",
      "metadata": {
        "id": "l-mCibgbbxGU"
      },
      "source": [
        "pytrends 서비스 API"
      ]
    },
    {
      "cell_type": "markdown",
      "id": "tzri-Vkibivl",
      "metadata": {
        "id": "tzri-Vkibivl"
      },
      "source": [
        "* Google 계정을 만듭니다. 이미 계정이 있다면 이 단계를 건너뛰세요.\n",
        "* Google Trends 웹사이트(https://trends.google.com)로 이동하고 페이지 왼쪽 상단에 있는 \"탐색\" 버튼을 클릭합니다.\n",
        "* 검색 바에 검색어 또는 토픽을 입력하고 \"Enter\"를 클릭합니다."
      ]
    },
    {
      "cell_type": "markdown",
      "id": "hAxbz7gBy3Be",
      "metadata": {
        "id": "hAxbz7gBy3Be"
      },
      "source": [
        "# 3.크롤링시 Find문과 Select문 활용"
      ]
    },
    {
      "cell_type": "code",
      "execution_count": 6,
      "id": "MXTqbmjcobjQ",
      "metadata": {
        "colab": {
          "base_uri": "https://localhost:8080/"
        },
        "id": "MXTqbmjcobjQ",
        "outputId": "d8888711-2339-4a06-a161-a76d4d48062e"
      },
      "outputs": [
        {
          "name": "stdout",
          "output_type": "stream",
          "text": [
            "--2023-03-19 07:41:45--  https://raw.githubusercontent.com/byungjooyoo/Dataset/main/html%EC%97%B0%EC%8A%B5.html\n",
            "Resolving raw.githubusercontent.com (raw.githubusercontent.com)... 185.199.109.133, 185.199.110.133, 185.199.111.133, ...\n",
            "Connecting to raw.githubusercontent.com (raw.githubusercontent.com)|185.199.109.133|:443... connected.\n",
            "HTTP request sent, awaiting response... 200 OK\n",
            "Length: 564 [text/plain]\n",
            "Saving to: ‘html연습.html’\n",
            "\n",
            "\rhtml연습.html         0%[                    ]       0  --.-KB/s               \rhtml연습.html       100%[===================>]     564  --.-KB/s    in 0s      \n",
            "\n",
            "2023-03-19 07:41:45 (23.8 MB/s) - ‘html연습.html’ saved [564/564]\n",
            "\n"
          ]
        }
      ],
      "source": [
        "!wget https://raw.githubusercontent.com/byungjooyoo/Dataset/main/html%EC%97%B0%EC%8A%B5.html"
      ]
    },
    {
      "cell_type": "code",
      "execution_count": 7,
      "id": "M9r-r1sjp9Ix",
      "metadata": {
        "colab": {
          "base_uri": "https://localhost:8080/"
        },
        "id": "M9r-r1sjp9Ix",
        "outputId": "34a660ff-b07d-4acf-dc26-f7b545f25d43"
      },
      "outputs": [
        {
          "name": "stdout",
          "output_type": "stream",
          "text": [
            "<html>\n",
            " <head>\n",
            "  <title>\n",
            "   html연습\n",
            "  </title>\n",
            " </head>\n",
            " <body>\n",
            "  <p class=\"title\">\n",
            "   <b>\n",
            "    <h1>\n",
            "     HTML 연습\n",
            "    </h1>\n",
            "   </b>\n",
            "  </p>\n",
            "  <p class=\"link\">\n",
            "   인터넷 링크를 작성하는 방법은\n",
            "   <a class=\"kyobo\" href=\"http://www.kyobobook.co.kr\" id=\"link1\">\n",
            "    교보문고 홈페이지\n",
            "   </a>\n",
            "   와\n",
            "   <a class=\"python\" href=\"https://www.python.org/\" id=\"link2\">\n",
            "    파이썬 홈페이지\n",
            "   </a>\n",
            "   처럼 \n",
            "HTML 링크로 작성할 수 있습니다.\n",
            "  </p>\n",
            "  <p class=\"story\">\n",
            "   그리고 HTML 문서는 글자의 크기도 조정 가능해서\n",
            "   <h2>\n",
            "    크게\n",
            "   </h2>\n",
            "   ,\n",
            "   <h4>\n",
            "    작게\n",
            "   </h4>\n",
            "   작성할 수 있습니다.\n",
            "  </p>\n",
            " </body>\n",
            "</html>\n",
            "\n"
          ]
        }
      ],
      "source": [
        "#HTML문서 파싱 \n",
        "from bs4 import BeautifulSoup as bs\n",
        "with open('html연습.html','r') as f:\n",
        "  html_doc = f.read()\n",
        "soup = bs(html_doc, 'html.parser') \n",
        "print(soup.prettify())"
      ]
    },
    {
      "cell_type": "code",
      "execution_count": 8,
      "id": "NU9OGj1ip9wg",
      "metadata": {
        "colab": {
          "base_uri": "https://localhost:8080/"
        },
        "id": "NU9OGj1ip9wg",
        "outputId": "d07d8606-3f71-4eaa-8459-272e8324309a"
      },
      "outputs": [
        {
          "name": "stdout",
          "output_type": "stream",
          "text": [
            "제목 추출: html연습\n",
            "상위 태그이름 식별: head\n",
            "첫번째 p 태그 추출: <p class=\"title\"><b><h1>HTML 연습</h1></b></p>\n",
            "속성값 추출: http://www.kyobobook.co.kr\n"
          ]
        }
      ],
      "source": [
        "# 간단한 태그 추출\n",
        "print('제목 추출:', soup.title.text)\n",
        "print('상위 태그이름 식별:', soup.title.parent.name)\n",
        "print('첫번째 p 태그 추출:', soup.p)\n",
        "print('속성값 추출:', soup.a['href'])"
      ]
    },
    {
      "cell_type": "code",
      "execution_count": 9,
      "id": "UNPMrI8YqBuS",
      "metadata": {
        "colab": {
          "base_uri": "https://localhost:8080/"
        },
        "id": "UNPMrI8YqBuS",
        "outputId": "7c81d6f7-9343-43fd-f060-354ae3cb4765"
      },
      "outputs": [
        {
          "name": "stdout",
          "output_type": "stream",
          "text": [
            "HTML 연습\n",
            "인터넷 링크를 작성하는 방법은 \n",
            "교보문고 홈페이지와\n",
            "파이썬 홈페이지처럼 \n",
            "HTML 링크로 작성할 수 있습니다.\n",
            "\n",
            "그리고 HTML 문서는 글자의 크기도 조정 가능해서 \n",
            "크게,작게 작성할 수 있습니다.\n",
            "\n",
            "HTML 연습\n",
            "인터넷 링크를 작성하는 방법은 \n",
            "교보문고 홈페이지와\n",
            "파이썬 홈페이지처럼 \n",
            "HTML 링크로 작성할 수 있습니다.\n",
            "\n",
            "그리고 HTML 문서는 글자의 크기도 조정 가능해서 \n",
            "크게,작게 작성할 수 있습니다.\n",
            "\n"
          ]
        }
      ],
      "source": [
        "# find_all과 select문 비교 \n",
        "for p in soup.find_all('p'):\n",
        "    print(p.text)\n",
        "for p in soup.select('p'):\n",
        "    print(p.text)"
      ]
    },
    {
      "cell_type": "code",
      "execution_count": 10,
      "id": "4Isz4UTEqETV",
      "metadata": {
        "colab": {
          "base_uri": "https://localhost:8080/"
        },
        "id": "4Isz4UTEqETV",
        "outputId": "ab9f7cfe-cd98-4ec3-8b0a-6b538c09b886"
      },
      "outputs": [
        {
          "name": "stdout",
          "output_type": "stream",
          "text": [
            "[<p class=\"title\"><b><h1>HTML 연습</h1></b></p>, <p class=\"link\">인터넷 링크를 작성하는 방법은 \n",
            "<a class=\"kyobo\" href=\"http://www.kyobobook.co.kr\" id=\"link1\">교보문고 홈페이지</a>와\n",
            "<a class=\"python\" href=\"https://www.python.org/\" id=\"link2\">파이썬 홈페이지</a>처럼 \n",
            "HTML 링크로 작성할 수 있습니다.\n",
            "</p>, <p class=\"story\">그리고 HTML 문서는 글자의 크기도 조정 가능해서 \n",
            "<h2>크게</h2>,<h4>작게</h4> 작성할 수 있습니다.\n",
            "</p>]\n",
            "<p class=\"title\"><b><h1>HTML 연습</h1></b></p>\n",
            "<p class=\"title\"><b><h1>HTML 연습</h1></b></p>\n",
            "<a class=\"python\" href=\"https://www.python.org/\" id=\"link2\">파이썬 홈페이지</a>\n",
            "<a class=\"kyobo\" href=\"http://www.kyobobook.co.kr\" id=\"link1\">교보문고 홈페이지</a>\n",
            "<a class=\"python\" href=\"https://www.python.org/\" id=\"link2\">파이썬 홈페이지</a>\n"
          ]
        }
      ],
      "source": [
        "# find문 태그 선택 방법\n",
        "print(soup.find_all('p')) \n",
        "print(soup.find('p')) \n",
        "print(soup.find(class_='title')) \n",
        "print(soup.find(attrs = {'class':'python'})) \n",
        "print(soup.find('a', {'id':'link1'}))\n",
        "print(soup.find(attrs = {'id':'link2'}))"
      ]
    },
    {
      "cell_type": "code",
      "execution_count": 11,
      "id": "GBEqGxaRqHYM",
      "metadata": {
        "colab": {
          "base_uri": "https://localhost:8080/"
        },
        "id": "GBEqGxaRqHYM",
        "outputId": "a3d93a04-8ec7-4dbc-bab6-f69b6343287f"
      },
      "outputs": [
        {
          "name": "stdout",
          "output_type": "stream",
          "text": [
            "HTML 연습\n",
            "['title']\n"
          ]
        }
      ],
      "source": [
        "# 텍스트 출력과 속성값 출력\n",
        "print(soup.find('p').find('h1').text)\n",
        "print(soup.find_all('p')[0].get('class'))"
      ]
    },
    {
      "cell_type": "code",
      "execution_count": 12,
      "id": "XhzyMZycqKmv",
      "metadata": {
        "colab": {
          "base_uri": "https://localhost:8080/"
        },
        "id": "XhzyMZycqKmv",
        "outputId": "77dcd676-91f8-48e5-df23-c0ee3f611134"
      },
      "outputs": [
        {
          "name": "stdout",
          "output_type": "stream",
          "text": [
            "[<p class=\"title\"><b><h1>HTML 연습</h1></b></p>, <p class=\"link\">인터넷 링크를 작성하는 방법은 \n",
            "<a class=\"kyobo\" href=\"http://www.kyobobook.co.kr\" id=\"link1\">교보문고 홈페이지</a>와\n",
            "<a class=\"python\" href=\"https://www.python.org/\" id=\"link2\">파이썬 홈페이지</a>처럼 \n",
            "HTML 링크로 작성할 수 있습니다.\n",
            "</p>, <p class=\"story\">그리고 HTML 문서는 글자의 크기도 조정 가능해서 \n",
            "<h2>크게</h2>,<h4>작게</h4> 작성할 수 있습니다.\n",
            "</p>]\n",
            "<p class=\"title\"><b><h1>HTML 연습</h1></b></p>\n",
            "<p class=\"title\"><b><h1>HTML 연습</h1></b></p>\n",
            "<a class=\"python\" href=\"https://www.python.org/\" id=\"link2\">파이썬 홈페이지</a>\n",
            "<a class=\"kyobo\" href=\"http://www.kyobobook.co.kr\" id=\"link1\">교보문고 홈페이지</a>\n",
            "<a class=\"python\" href=\"https://www.python.org/\" id=\"link2\">파이썬 홈페이지</a>\n"
          ]
        }
      ],
      "source": [
        "# select문 태그 선택 \n",
        "print(soup.select('p')) \n",
        "print(soup.select_one('p')) \n",
        "print(soup.select_one('.title')) \n",
        "print(soup.select_one('.python')) \n",
        "print(soup.select_one('a#link1'))\n",
        "print(soup.select_one('#link2'))"
      ]
    },
    {
      "cell_type": "code",
      "execution_count": 13,
      "id": "g4idCg2vqNJn",
      "metadata": {
        "colab": {
          "base_uri": "https://localhost:8080/"
        },
        "id": "g4idCg2vqNJn",
        "outputId": "25b948ee-8777-4658-f3e2-758d42a898c0"
      },
      "outputs": [
        {
          "name": "stdout",
          "output_type": "stream",
          "text": [
            "교보문고 홈페이지\n",
            "link2\n",
            "인터넷 링크를 작성하는 방법은 \n",
            "교보문고 홈페이지와\n",
            "파이썬 홈페이지처럼 \n",
            "HTML 링크로 작성할 수 있습니다.\n",
            "\n"
          ]
        }
      ],
      "source": [
        "# select문의 택스트와 속성값 출력 \n",
        "print(soup.select_one('p > #link1').text)\n",
        "print(soup.select('a')[1].get('id'))\n",
        "print(soup.select('p')[1].text)"
      ]
    },
    {
      "cell_type": "code",
      "execution_count": 14,
      "id": "N11WMSbHqPTe",
      "metadata": {
        "colab": {
          "base_uri": "https://localhost:8080/"
        },
        "id": "N11WMSbHqPTe",
        "outputId": "c7c0d403-4564-49fd-e8b1-1c8c3eaf4de0"
      },
      "outputs": [
        {
          "name": "stdout",
          "output_type": "stream",
          "text": [
            "파이썬 홈페이지\n",
            "https://www.python.org/\n"
          ]
        }
      ],
      "source": [
        "#다양한 find와 select 문 조합이 가능 \n",
        "print(soup.find_all('p')[1].select_one('a#link2').text)\n",
        "print(soup.select('p')[1].find('a',{'id': 'link2'}).get('href'))"
      ]
    },
    {
      "cell_type": "markdown",
      "id": "7abECIdYFUSz",
      "metadata": {
        "id": "7abECIdYFUSz"
      },
      "source": [
        "# 4.뉴스 검색결과 정리"
      ]
    },
    {
      "cell_type": "markdown",
      "id": "proprietary-habitat",
      "metadata": {
        "id": "proprietary-habitat"
      },
      "source": [
        "## 가. 가장먼저 로봇배제 표준 확인"
      ]
    },
    {
      "cell_type": "code",
      "execution_count": 15,
      "id": "danish-germany",
      "metadata": {
        "colab": {
          "base_uri": "https://localhost:8080/"
        },
        "id": "danish-germany",
        "outputId": "04c5951a-39b9-4229-c9d2-aedd4d5591d6"
      },
      "outputs": [
        {
          "name": "stdout",
          "output_type": "stream",
          "text": [
            "User-agent: *\n",
            "Disallow: /\n",
            "Disallow: /search?\n",
            "Allow: /$\n",
            "Allow: /?\n",
            "Allow: /nwshp$\n",
            "Allow: /news$\n",
            "Allow: /news/$\n",
            "Allow: /news/?gl=\n",
            "Allow: /news/?hl=\n",
            "Allow: /news/?ned=\n",
            "Allow: /about$\n",
            "Allow: /about?\n",
            "Allow: /about/\n",
            "Allow: /topics/\n",
            "Allow: /publications/\n",
            "Allow: /stories/\n",
            "Allow: /swg/\n",
            "Allow: /covid19/\n",
            "\n",
            "User-agent: Googlebot\n",
            "Disallow: /topics/\n",
            "Disallow: /publications/\n",
            "Disallow: /stories/\n",
            "Disallow: /articles/\n",
            "\n"
          ]
        }
      ],
      "source": [
        "import requests\n",
        "resp = requests.get('https://news.google.com/robots.txt')\n",
        "print(resp.text)"
      ]
    },
    {
      "cell_type": "markdown",
      "id": "joint-teach",
      "metadata": {
        "id": "joint-teach"
      },
      "source": [
        "search?는 허용안하고 ?는 허용함, 따라서 아래의 첫번째는 허용안되고 두번째는 허용됨\n",
        "\n",
        "https://news.google.com/search?q=파이썬&hl=ko&gl=KR&ceid=KR%3Ako\n",
        "\n",
        "https://news.google.com/?q=파이썬&hl=ko&gl=KR&ceid=KR%3Ako\n",
        "\n"
      ]
    },
    {
      "cell_type": "code",
      "execution_count": 16,
      "id": "mj3XaTBqfs5y",
      "metadata": {
        "colab": {
          "base_uri": "https://localhost:8080/",
          "height": 54
        },
        "id": "mj3XaTBqfs5y",
        "outputId": "a7a35d5d-f9f9-48fe-e223-6369640fb388"
      },
      "outputs": [
        {
          "data": {
            "application/vnd.google.colaboratory.intrinsic+json": {
              "type": "string"
            },
            "text/plain": [
              "'<!doctype html><html lang=\"ko\" dir=\"ltr\"><head><base href=\"https://news.google.com/\"><meta name=\"referrer\" content=\"origin\"><link rel=\"canonical\" href=\"https://news.google.com/home\"><meta name=\"viewpo'"
            ]
          },
          "execution_count": 16,
          "metadata": {},
          "output_type": "execute_result"
        }
      ],
      "source": [
        "resp = requests.get('https://news.google.com/?q=' + '파이썬' + '&hl=ko&gl=KR&ceid=KR%3Ako')\n",
        "resp.text[:200]"
      ]
    },
    {
      "cell_type": "markdown",
      "id": "julian-shock",
      "metadata": {
        "id": "julian-shock"
      },
      "source": [
        "## 나.뉴스 검색"
      ]
    },
    {
      "cell_type": "markdown",
      "id": "VOh_0eqVg8px",
      "metadata": {
        "id": "VOh_0eqVg8px"
      },
      "source": [
        "https://news.google.com/topstories?tab=rn&hl=ko&gl=KR&ceid=KR:ko"
      ]
    },
    {
      "cell_type": "code",
      "execution_count": 17,
      "id": "sZJgHqcwj81x",
      "metadata": {
        "colab": {
          "base_uri": "https://localhost:8080/"
        },
        "id": "sZJgHqcwj81x",
        "outputId": "3693e1fb-475b-4351-862e-26ba7807b699"
      },
      "outputs": [
        {
          "name": "stdout",
          "output_type": "stream",
          "text": [
            "나는 파이썬을 좋아합니다. 하루에 파이썬를 10시간 연습해요.\n"
          ]
        }
      ],
      "source": [
        "# string f format \n",
        "s = '파이썬'\n",
        "n=10\n",
        "f_string = f\"나는 {s}을 좋아합니다. 하루에 {s}를 {n}시간 연습해요.\"\n",
        "print(f_string)"
      ]
    },
    {
      "cell_type": "code",
      "execution_count": 18,
      "id": "l2GOE9Rwf3ud",
      "metadata": {
        "colab": {
          "base_uri": "https://localhost:8080/"
        },
        "id": "l2GOE9Rwf3ud",
        "outputId": "a6c8da14-a8ad-46c6-fc37-b7ee5a87d811"
      },
      "outputs": [
        {
          "name": "stdout",
          "output_type": "stream",
          "text": [
            "https://news.google.com/search?q=미래 핵심기술&hl=ko&gl=KR&ceid=KR%3Ako\n",
            "https://news.google.com/search?q=미래 핵심기술&hl=ko&gl=KR&ceid=KR%3Ako\n"
          ]
        }
      ],
      "source": [
        "# 구글 뉴스 검색어 \n",
        "import requests \n",
        "from bs4 import BeautifulSoup as bs\n",
        "import urllib \n",
        "import pandas as pd\n",
        "\n",
        "keyword ='미래 핵심기술'\n",
        "url = \"https://news.google.com/search?q=\"+keyword+\"&hl=ko&gl=KR&ceid=KR%3Ako\"\n",
        "url1 = f\"https://news.google.com/search?q={keyword}&hl=ko&gl=KR&ceid=KR%3Ako\"\n",
        "print(url)\n",
        "print(url1)"
      ]
    },
    {
      "cell_type": "code",
      "execution_count": 19,
      "id": "cjBwWDwggq9h",
      "metadata": {
        "colab": {
          "base_uri": "https://localhost:8080/"
        },
        "id": "cjBwWDwggq9h",
        "outputId": "867219f9-84ea-44ee-8387-08ab13b0f85b"
      },
      "outputs": [
        {
          "name": "stdout",
          "output_type": "stream",
          "text": [
            "99\n",
            "<div class=\"xrnccd\">\n",
            " <article class=\"MQsxIb xTewfe R7GTQ keNKEd j7vNaf Cc0Z5d EjqUne\" data-kind=\"13\" data-n-cvid=\"i8\" data-n-et=\"107\" data-n-ham=\"true\" jsaction=\";rcuQ6b:npT2md; click:KjsqPd;\" jscontroller=\"HyhIue\" jsdata=\"oM6qxc;CBMiOWh0dHBzOi8vd3d3LmVwbmMuY28ua3IvbmV3cy9hcnRpY2xlVmlldy5odG1sP2lkeG5vPTIzMjAyNNIBAA;4\" jslog=\"85008; 3:W251bGwsbnVsbCxudWxsLG51bGwsIiIsbnVsbCwxNDEsbnVsbCxudWxsLG51bGwsMzcsbnVsbCxbbnVsbCxudWxsLG51bGwsbnVsbCxudWxsLG51bGwsbnVsbCxudWxsLG51bGwsbnVsbCxudWxsLG51bGwsbnVsbCxudWxsLG51bGwsbnVsbCxudWxsLG51bGwsbnVsbCxudWxsLG51bGwsbnVsbCxudWxsLG51bGwsbnVsbCxudWxsLG51bGwsbnVsbCxudWxsLCI5MDczMzM5OTg2MjQxOTAxODk4IiwiMTE0MTA4MjU5Njc1NDMwODU2NjUiLCJodHRwczovL2Nkbi5lcG5jLmNvLmtyL25ld3MvcGhvdG8vMjAyMzAzLzIzMjAyNF8yMzMxODBfMTY0MC5qcGciXSxudWxsLG51bGwsMixudWxsLG51bGwsbnVsbCxudWxsLG51bGwsW10sW1sxNjc4OTI1ODU0XSxbMTY3OTIxMTcwOCw0MzM0NzAwMF1dXQ==; track:vis; index:0\" jsmodel=\"a4N6Ae hT8rr\" ve-visible=\"false\">\n",
            "  <a aria-hidden=\"true\" class=\"VDXfz\" href=\"./articles/CBMiOWh0dHBzOi8vd3d3LmVwbmMuY28ua3IvbmV3cy9hcnRpY2xlVmlldy5odG1sP2lkeG5vPTIzMjAyNNIBAA?hl=ko&amp;gl=KR&amp;ceid=KR%3Ako\" jslog=\"95014; 5:W251bGwsbnVsbCxudWxsLG51bGwsbnVsbCxudWxsLG51bGwsbnVsbCwiaHR0cHM6Ly93d3cuZXBuYy5jby5rci9uZXdzL2FydGljbGVWaWV3Lmh0bWw_aWR4bm9cdTAwM2QyMzIwMjQiXQ==; track:click,vis\" jsname=\"hXwDdf\" tabindex=\"-1\" target=\"_blank\">\n",
            "  </a>\n",
            "  <div class=\"wsLqz RD0gLb\">\n",
            "   <img alt=\"테크월드 뉴스\" aria-label=\"이미지 - 테크월드 뉴스\" class=\"tvs3Id tvs3Id lqNvvd lITmO WfKKme\" jsname=\"mgY0Ed\" loading=\"lazy\" src=\"https://encrypted-tbn0.gstatic.com/faviconV2?url=https://www.epnc.co.kr&amp;client=NEWS_360&amp;size=96&amp;type=FAVICON&amp;fallback_opts=TYPE,SIZE,URL\" srcset=\"https://encrypted-tbn0.gstatic.com/faviconV2?url=https://www.epnc.co.kr&amp;client=NEWS_360&amp;size=96&amp;type=FAVICON&amp;fallback_opts=TYPE,SIZE,URL 1x, https://encrypted-tbn0.gstatic.com/faviconV2?url=https://www.epnc.co.kr&amp;client=NEWS_360&amp;size=96&amp;type=FAVICON&amp;fallback_opts=TYPE,SIZE,URL 2x\"/>\n",
            "   <a class=\"wEwyrc AVN2gc WfKKme\" data-n-tid=\"9\">\n",
            "    테크월드 뉴스\n",
            "   </a>\n",
            "  </div>\n",
            "  <h3 class=\"ipQwMb ekueJc RD0gLb\">\n",
            "   <a class=\"DY5T1d RZIKme\" href=\"./articles/CBMiOWh0dHBzOi8vd3d3LmVwbmMuY28ua3IvbmV3cy9hcnRpY2xlVmlldy5odG1sP2lkeG5vPTIzMjAyNNIBAA?hl=ko&amp;gl=KR&amp;ceid=KR%3Ako\" target=\"_blank\">\n",
            "    한국미래기술교육원, 초거대 AI 핵심기술과 상용화 전략 세미나 개최\n",
            "   </a>\n",
            "  </h3>\n",
            "  <div class=\"QmrVtf RD0gLb kybdz\">\n",
            "   <div class=\"SVJrMe\" jsname=\"Hn1wIf\">\n",
            "    <svg class=\"N3ElHc eLNT1d uQIVzc NMm5M\" focusable=\"false\" height=\"18\" viewbox=\"0 0 24 24\" width=\"18\">\n",
            "     <path d=\"M0 0h24v24H0V0z\" fill=\"none\">\n",
            "     </path>\n",
            "     <path d=\"M21.58 7.19c-.23-.86-.91-1.54-1.77-1.77C18.25 5 12 5 12 5s-6.25 0-7.81.42c-.86.23-1.54.91-1.77 1.77C2 8.75 2 12 2 12s0 3.25.42 4.81c.23.86.91 1.54 1.77 1.77C5.75 19 12 19 12 19s6.25 0 7.81-.42c.86-.23 1.54-.91 1.77-1.77C22 15.25 22 12 22 12s0-3.25-.42-4.81zM10 15V9l5.2 3-5.2 3z\">\n",
            "     </path>\n",
            "    </svg>\n",
            "    <time class=\"WW6dff uQIVzc Sksgp slhocf\" datetime=\"2023-03-16T00:17:34Z\">\n",
            "     4일 전\n",
            "    </time>\n",
            "   </div>\n",
            "   <menu class=\"fmkQje gXqRq\">\n",
            "    <div class=\"OGsJDe L8PZAb R71ogd\" data-n-ca-at=\"2\" data-n-et=\"1000\" data-n-ssice=\"false\" data-n-st=\"bookmark\" data-n-suwu=\"false\" jsaction=\"rcuQ6b:npT2md;JIbuQc:h5M12e;eEPUnd:h5M12e;YohPuc:CE7Jad;qW1nqe:kjc9zd;\" jscontroller=\"pQWkX\" jsdata=\"oM6qxc;CBMiOWh0dHBzOi8vd3d3LmVwbmMuY28ua3IvbmV3cy9hcnRpY2xlVmlldy5odG1sP2lkeG5vPTIzMjAyNNIBAA;4\" jsmodel=\"BZ12ub\" jsname=\"ms4Zd\">\n",
            "     <div aria-disabled=\"false\" aria-label=\"팔로우\" class=\"U26fgb YOnsCc waNn5b ZqhUjb ztUP4e uUmIDd cd29Sd V3dfMc w0hkKb M9Bg4d\" data-n-et=\"1000\" jsaction=\"click:cOuCgd; mousedown:UX7yZ; mouseup:lbsD7e; mouseenter:tfO1Yc; mouseleave:JywGue; focus:AHmuwe; blur:O22p3e; contextmenu:mg9Pef;touchstart:p6p2H; touchmove:FwuNnf; touchend:yfqBxc(preventMouseEvents=true|preventDefault=true); touchcancel:JMtRjd;;OuuAFc:UauMyf;gSufsc:BS8cLb;RyWlBb:tC9Erd;UTnG9:aDaYxb;nUyoxf:El6wk;\" jscontroller=\"zbPkme\" jsname=\"itaskb\" jsshadow=\"\" role=\"button\" tabindex=\"0\">\n",
            "      <div class=\"XI1L0d zSBur\" jsname=\"ksKsZd\">\n",
            "      </div>\n",
            "      <span aria-hidden=\"true\" class=\"DPvwYc ChwdAb Xd067b fAk9Qc\" jsname=\"BC5job\">\n",
            "       bookmark_border\n",
            "      </span>\n",
            "     </div>\n",
            "    </div>\n",
            "    <span class=\"L8PZAb uG2FLd\" data-n-ca-at=\"8\" data-n-et=\"1000\" jsaction=\"JIbuQc:RNDhHe;TDui6d:BgNF9e;\" jscontroller=\"ZHduwf\" jsdata=\"oM6qxc;CBMiOWh0dHBzOi8vd3d3LmVwbmMuY28ua3IvbmV3cy9hcnRpY2xlVmlldy5odG1sP2lkeG5vPTIzMjAyNNIBAA;4\" jslog=\"93393; 3:W251bGwsbnVsbCxudWxsLG51bGwsIiIsbnVsbCwxNDEsbnVsbCxudWxsLG51bGwsMzcsbnVsbCxbbnVsbCxudWxsLG51bGwsbnVsbCxudWxsLG51bGwsbnVsbCxudWxsLG51bGwsbnVsbCxudWxsLG51bGwsbnVsbCxudWxsLG51bGwsbnVsbCxudWxsLG51bGwsbnVsbCxudWxsLG51bGwsbnVsbCxudWxsLG51bGwsbnVsbCxudWxsLG51bGwsbnVsbCxudWxsLCI5MDczMzM5OTg2MjQxOTAxODk4IiwiMTE0MTA4MjU5Njc1NDMwODU2NjUiLCJodHRwczovL2Nkbi5lcG5jLmNvLmtyL25ld3MvcGhvdG8vMjAyMzAzLzIzMjAyNF8yMzMxODBfMTY0MC5qcGciXSxudWxsLG51bGwsMixudWxsLG51bGwsbnVsbCxudWxsLG51bGwsW10sW1sxNjc4OTI1ODU0XSxbMTY3OTIxMTcwOCw0MzM0NzAwMF1dXQ==\" jsmodel=\"tOLjce hECoeb\">\n",
            "     <div aria-disabled=\"false\" aria-label=\"공유\" class=\"U26fgb YOnsCc waNn5b ZqhUjb ztUP4e uUmIDd cd29Sd V3dfMc w0hkKb M9Bg4d\" data-n-et=\"1000\" data-tooltip=\"공유\" data-tooltip-horizontal-offset=\"0\" data-tooltip-vertical-offset=\"-12\" jsaction=\"click:cOuCgd; mousedown:UX7yZ; mouseup:lbsD7e; mouseenter:tfO1Yc; mouseleave:JywGue; focus:AHmuwe; blur:O22p3e; contextmenu:mg9Pef;touchstart:p6p2H; touchmove:FwuNnf; touchend:yfqBxc(preventMouseEvents=true|preventDefault=true); touchcancel:JMtRjd;;OuuAFc:UauMyf;gSufsc:BS8cLb;RyWlBb:tC9Erd;UTnG9:aDaYxb;nUyoxf:El6wk;\" jscontroller=\"zbPkme\" jsname=\"itaskb\" jsshadow=\"\" role=\"button\" tabindex=\"0\">\n",
            "      <div class=\"XI1L0d zSBur\" jsname=\"ksKsZd\">\n",
            "      </div>\n",
            "      <span aria-hidden=\"true\" class=\"DPvwYc ChwdAb Xd067b fAk9Qc\" jsname=\"BC5job\">\n",
            "       share\n",
            "      </span>\n",
            "     </div>\n",
            "    </span>\n",
            "    <span class=\"L8PZAb GB1Zid\" data-n-prms=\"[false,false,false,null,false,false,false,false,null,false,false]\" jsaction=\"rcuQ6b:npT2md;TDui6d:BgNF9e;aWRkAb:u0WEMd;h4C2te:Oy8cwd;\" jscontroller=\"jSvZHb\" jsdata=\"oM6qxc;CBMiOWh0dHBzOi8vd3d3LmVwbmMuY28ua3IvbmV3cy9hcnRpY2xlVmlldy5odG1sP2lkeG5vPTIzMjAyNNIBAA;4\" jslog=\"109017\" jsmodel=\"WDTLsd BZ12ub\">\n",
            "     <div aria-disabled=\"false\" aria-expanded=\"false\" aria-haspopup=\"true\" aria-label=\"더보기\" class=\"U26fgb YOnsCc waNn5b ZqhUjb ztUP4e uUmIDd gL67me cd29Sd V3dfMc w0hkKb M9Bg4d\" data-dynamic=\"true\" data-tooltip=\"더보기\" data-tooltip-horizontal-offset=\"0\" data-tooltip-vertical-offset=\"-12\" jsaction=\"click:cOuCgd; mousedown:UX7yZ; mouseup:lbsD7e; mouseenter:tfO1Yc; mouseleave:JywGue; focus:AHmuwe; blur:O22p3e; contextmenu:mg9Pef;touchstart:p6p2H; touchmove:FwuNnf; touchend:yfqBxc(preventMouseEvents=true|preventDefault=true); touchcancel:JMtRjd;;keydown:I481le;OuuAFc:UauMyf;gSufsc:BS8cLb;RyWlBb:tC9Erd;UTnG9:aDaYxb;nUyoxf:El6wk;\" jscontroller=\"S9Bhuc\" jsname=\"itaskb\" jsshadow=\"\" role=\"button\" tabindex=\"0\">\n",
            "      <div class=\"XI1L0d zSBur\" jsname=\"ksKsZd\">\n",
            "      </div>\n",
            "      <span aria-hidden=\"true\" class=\"DPvwYc ChwdAb Xd067b fAk9Qc\" jsname=\"BC5job\">\n",
            "       more_vert\n",
            "      </span>\n",
            "     </div>\n",
            "    </span>\n",
            "   </menu>\n",
            "  </div>\n",
            " </article>\n",
            "</div>\n"
          ]
        }
      ],
      "source": [
        "# 구글 검색 페이지 파싱과 뉴스 제목 검색\n",
        "resp = requests.get(url)\n",
        "html_src = resp.text\n",
        "soup = bs(html_src, 'html.parser')\n",
        "news_items = soup.select('div.xrnccd')\n",
        "print(len(news_items))\n",
        "print(bs.prettify(news_items[0]))"
      ]
    },
    {
      "cell_type": "markdown",
      "id": "LR3FuBwvlwGa",
      "metadata": {
        "id": "LR3FuBwvlwGa"
      },
      "source": [
        "## 다. 제목별 뉴스 링크 검색"
      ]
    },
    {
      "cell_type": "code",
      "execution_count": 20,
      "id": "7Xy8YWLY2XX7",
      "metadata": {
        "colab": {
          "base_uri": "https://localhost:8080/"
        },
        "id": "7Xy8YWLY2XX7",
        "outputId": "c59bdc64-316f-4644-ae10-e2925419bfc0"
      },
      "outputs": [
        {
          "name": "stdout",
          "output_type": "stream",
          "text": [
            "2021-08-02 07:36:35\n"
          ]
        }
      ],
      "source": [
        "# 날자와 시분 구분 정리\n",
        "a='2021-08-02T07:36:35Z'\n",
        "date,time=str(a).split('T')\n",
        "print(date,time[:-1])"
      ]
    },
    {
      "cell_type": "code",
      "execution_count": 21,
      "id": "_GE2NfLrjBV4",
      "metadata": {
        "colab": {
          "base_uri": "https://localhost:8080/",
          "height": 206
        },
        "id": "_GE2NfLrjBV4",
        "outputId": "c0990f87-8502-417a-d29a-0b0bedca3181"
      },
      "outputs": [
        {
          "data": {
            "text/html": [
              "\n",
              "  <div id=\"df-b5eb6eaf-7feb-43a9-9500-2acb2c2e9792\">\n",
              "    <div class=\"colab-df-container\">\n",
              "      <div>\n",
              "<style scoped>\n",
              "    .dataframe tbody tr th:only-of-type {\n",
              "        vertical-align: middle;\n",
              "    }\n",
              "\n",
              "    .dataframe tbody tr th {\n",
              "        vertical-align: top;\n",
              "    }\n",
              "\n",
              "    .dataframe thead th {\n",
              "        text-align: right;\n",
              "    }\n",
              "</style>\n",
              "<table border=\"1\" class=\"dataframe\">\n",
              "  <thead>\n",
              "    <tr style=\"text-align: right;\">\n",
              "      <th></th>\n",
              "      <th>제목</th>\n",
              "      <th>신문사</th>\n",
              "      <th>날자</th>\n",
              "      <th>시간</th>\n",
              "      <th>link</th>\n",
              "    </tr>\n",
              "  </thead>\n",
              "  <tbody>\n",
              "    <tr>\n",
              "      <th>94</th>\n",
              "      <td>현대차그룹, 전동화 및 SDV 기술로 대한민국 기술대상 등 수상</td>\n",
              "      <td>현대자동차그룹</td>\n",
              "      <td>2022-12-25</td>\n",
              "      <td>08:00:00</td>\n",
              "      <td>https://news.google.com/articles/CBMiNGh0dHBzO...</td>\n",
              "    </tr>\n",
              "    <tr>\n",
              "      <th>95</th>\n",
              "      <td>더 빠르고, 더 안전하고, 더 편하게!</td>\n",
              "      <td>Science Times</td>\n",
              "      <td>2022-11-07</td>\n",
              "      <td>08:00:00</td>\n",
              "      <td>https://news.google.com/articles/CBMinwFodHRwc...</td>\n",
              "    </tr>\n",
              "    <tr>\n",
              "      <th>96</th>\n",
              "      <td>[스마트점포의 현재와 미래-2] 스마트점포 기술의 국산화 및 고도화 ...</td>\n",
              "      <td>보안뉴스</td>\n",
              "      <td>2022-10-28</td>\n",
              "      <td>07:00:00</td>\n",
              "      <td>https://news.google.com/articles/CBMiMWh0dHA6L...</td>\n",
              "    </tr>\n",
              "    <tr>\n",
              "      <th>97</th>\n",
              "      <td>국가핵심소재연구단 성과 가시화...미래소재 확보전략 마련 박차</td>\n",
              "      <td>전자신문</td>\n",
              "      <td>2022-11-30</td>\n",
              "      <td>08:00:00</td>\n",
              "      <td>https://news.google.com/articles/CBMiJWh0dHBzO...</td>\n",
              "    </tr>\n",
              "    <tr>\n",
              "      <th>98</th>\n",
              "      <td>“이제 우주경제를 꿈꿔볼 수 있게 됐다” 오태석의 다음 스텝 ...</td>\n",
              "      <td>Science Times</td>\n",
              "      <td>2023-02-09</td>\n",
              "      <td>08:00:00</td>\n",
              "      <td>https://news.google.com/articles/CBMi1gFodHRwc...</td>\n",
              "    </tr>\n",
              "  </tbody>\n",
              "</table>\n",
              "</div>\n",
              "      <button class=\"colab-df-convert\" onclick=\"convertToInteractive('df-b5eb6eaf-7feb-43a9-9500-2acb2c2e9792')\"\n",
              "              title=\"Convert this dataframe to an interactive table.\"\n",
              "              style=\"display:none;\">\n",
              "        \n",
              "  <svg xmlns=\"http://www.w3.org/2000/svg\" height=\"24px\"viewBox=\"0 0 24 24\"\n",
              "       width=\"24px\">\n",
              "    <path d=\"M0 0h24v24H0V0z\" fill=\"none\"/>\n",
              "    <path d=\"M18.56 5.44l.94 2.06.94-2.06 2.06-.94-2.06-.94-.94-2.06-.94 2.06-2.06.94zm-11 1L8.5 8.5l.94-2.06 2.06-.94-2.06-.94L8.5 2.5l-.94 2.06-2.06.94zm10 10l.94 2.06.94-2.06 2.06-.94-2.06-.94-.94-2.06-.94 2.06-2.06.94z\"/><path d=\"M17.41 7.96l-1.37-1.37c-.4-.4-.92-.59-1.43-.59-.52 0-1.04.2-1.43.59L10.3 9.45l-7.72 7.72c-.78.78-.78 2.05 0 2.83L4 21.41c.39.39.9.59 1.41.59.51 0 1.02-.2 1.41-.59l7.78-7.78 2.81-2.81c.8-.78.8-2.07 0-2.86zM5.41 20L4 18.59l7.72-7.72 1.47 1.35L5.41 20z\"/>\n",
              "  </svg>\n",
              "      </button>\n",
              "      \n",
              "  <style>\n",
              "    .colab-df-container {\n",
              "      display:flex;\n",
              "      flex-wrap:wrap;\n",
              "      gap: 12px;\n",
              "    }\n",
              "\n",
              "    .colab-df-convert {\n",
              "      background-color: #E8F0FE;\n",
              "      border: none;\n",
              "      border-radius: 50%;\n",
              "      cursor: pointer;\n",
              "      display: none;\n",
              "      fill: #1967D2;\n",
              "      height: 32px;\n",
              "      padding: 0 0 0 0;\n",
              "      width: 32px;\n",
              "    }\n",
              "\n",
              "    .colab-df-convert:hover {\n",
              "      background-color: #E2EBFA;\n",
              "      box-shadow: 0px 1px 2px rgba(60, 64, 67, 0.3), 0px 1px 3px 1px rgba(60, 64, 67, 0.15);\n",
              "      fill: #174EA6;\n",
              "    }\n",
              "\n",
              "    [theme=dark] .colab-df-convert {\n",
              "      background-color: #3B4455;\n",
              "      fill: #D2E3FC;\n",
              "    }\n",
              "\n",
              "    [theme=dark] .colab-df-convert:hover {\n",
              "      background-color: #434B5C;\n",
              "      box-shadow: 0px 1px 3px 1px rgba(0, 0, 0, 0.15);\n",
              "      filter: drop-shadow(0px 1px 2px rgba(0, 0, 0, 0.3));\n",
              "      fill: #FFFFFF;\n",
              "    }\n",
              "  </style>\n",
              "\n",
              "      <script>\n",
              "        const buttonEl =\n",
              "          document.querySelector('#df-b5eb6eaf-7feb-43a9-9500-2acb2c2e9792 button.colab-df-convert');\n",
              "        buttonEl.style.display =\n",
              "          google.colab.kernel.accessAllowed ? 'block' : 'none';\n",
              "\n",
              "        async function convertToInteractive(key) {\n",
              "          const element = document.querySelector('#df-b5eb6eaf-7feb-43a9-9500-2acb2c2e9792');\n",
              "          const dataTable =\n",
              "            await google.colab.kernel.invokeFunction('convertToInteractive',\n",
              "                                                     [key], {});\n",
              "          if (!dataTable) return;\n",
              "\n",
              "          const docLinkHtml = 'Like what you see? Visit the ' +\n",
              "            '<a target=\"_blank\" href=https://colab.research.google.com/notebooks/data_table.ipynb>data table notebook</a>'\n",
              "            + ' to learn more about interactive tables.';\n",
              "          element.innerHTML = '';\n",
              "          dataTable['output_type'] = 'display_data';\n",
              "          await google.colab.output.renderOutput(dataTable, element);\n",
              "          const docLink = document.createElement('div');\n",
              "          docLink.innerHTML = docLinkHtml;\n",
              "          element.appendChild(docLink);\n",
              "        }\n",
              "      </script>\n",
              "    </div>\n",
              "  </div>\n",
              "  "
            ],
            "text/plain": [
              "                                           제목            신문사          날자  \\\n",
              "94        현대차그룹, 전동화 및 SDV 기술로 대한민국 기술대상 등 수상        현대자동차그룹  2022-12-25   \n",
              "95                      더 빠르고, 더 안전하고, 더 편하게!  Science Times  2022-11-07   \n",
              "96  [스마트점포의 현재와 미래-2] 스마트점포 기술의 국산화 및 고도화 ...           보안뉴스  2022-10-28   \n",
              "97         국가핵심소재연구단 성과 가시화...미래소재 확보전략 마련 박차           전자신문  2022-11-30   \n",
              "98      “이제 우주경제를 꿈꿔볼 수 있게 됐다” 오태석의 다음 스텝 ...  Science Times  2023-02-09   \n",
              "\n",
              "          시간                                               link  \n",
              "94  08:00:00  https://news.google.com/articles/CBMiNGh0dHBzO...  \n",
              "95  08:00:00  https://news.google.com/articles/CBMinwFodHRwc...  \n",
              "96  07:00:00  https://news.google.com/articles/CBMiMWh0dHA6L...  \n",
              "97  08:00:00  https://news.google.com/articles/CBMiJWh0dHBzO...  \n",
              "98  08:00:00  https://news.google.com/articles/CBMi1gFodHRwc...  "
            ]
          },
          "execution_count": 21,
          "metadata": {},
          "output_type": "execute_result"
        }
      ],
      "source": [
        "# 제목, 신문사, 날자, 시간, 링크 식별\n",
        "base_url = \"https://news.google.com\"\n",
        "\n",
        "links=[]; titles=[]; agencies=[]; reporting_dates=[]; reporting_times=[];\n",
        "for item in news_items:\n",
        "    link = item.find('a', attrs={'class':'VDXfz'}).get('href')\n",
        "    news_link = base_url + link[1:]\n",
        "    links.append(news_link)\n",
        "    \n",
        "    news_title = item.find('a', attrs={'class':'DY5T1d'}).getText()\n",
        "    titles.append(news_title)\n",
        "\n",
        "    news_agency = item.select_one('div.wsLqz.RD0gLb').select_one('a').text\n",
        "    agencies.append(news_agency)\n",
        "\n",
        "    news_reporting = item.find('time', attrs={'class':\"WW6dff uQIVzc Sksgp slhocf\"})\n",
        "    news_reporting_datetime = news_reporting.get('datetime').split('T')\n",
        "    news_reporting_date = news_reporting_datetime[0]\n",
        "    news_reporting_time = news_reporting_datetime[1][:-1]\n",
        "    reporting_dates.append(news_reporting_date)\n",
        "    reporting_times.append(news_reporting_time)\n",
        "\n",
        "result = {'제목':titles, '신문사':agencies,'날자':reporting_dates, '시간':reporting_times, 'link':links}\n",
        "df = pd.DataFrame(result)\n",
        "df.tail()"
      ]
    },
    {
      "cell_type": "markdown",
      "id": "dental-abraham",
      "metadata": {
        "id": "dental-abraham"
      },
      "source": [
        "## 라. 구글뉴스 세부내용 크롤링 "
      ]
    },
    {
      "cell_type": "code",
      "execution_count": 22,
      "id": "36iB66-2rykW",
      "metadata": {
        "colab": {
          "base_uri": "https://localhost:8080/",
          "height": 423
        },
        "id": "36iB66-2rykW",
        "outputId": "a5e51059-4597-46c1-ed53-91c9d79f2e18"
      },
      "outputs": [
        {
          "data": {
            "text/html": [
              "\n",
              "  <div id=\"df-14ee901e-8a97-499f-8285-15d6ea918d48\">\n",
              "    <div class=\"colab-df-container\">\n",
              "      <div>\n",
              "<style scoped>\n",
              "    .dataframe tbody tr th:only-of-type {\n",
              "        vertical-align: middle;\n",
              "    }\n",
              "\n",
              "    .dataframe tbody tr th {\n",
              "        vertical-align: top;\n",
              "    }\n",
              "\n",
              "    .dataframe thead th {\n",
              "        text-align: right;\n",
              "    }\n",
              "</style>\n",
              "<table border=\"1\" class=\"dataframe\">\n",
              "  <thead>\n",
              "    <tr style=\"text-align: right;\">\n",
              "      <th></th>\n",
              "      <th>내용</th>\n",
              "    </tr>\n",
              "  </thead>\n",
              "  <tbody>\n",
              "    <tr>\n",
              "      <th>0</th>\n",
              "      <td>[테크월드뉴스=양승갑 기자] 한국미래기술교육연구원은 4월 21일 서울 여의도 전경련...</td>\n",
              "    </tr>\n",
              "    <tr>\n",
              "      <th>1</th>\n",
              "      <td>시작페이지로　l　즐겨찾기　l　RSS　l　편집 2023.03.19 [16:30]전체기...</td>\n",
              "    </tr>\n",
              "    <tr>\n",
              "      <th>2</th>\n",
              "      <td>인류의 과학은 마침내 블랙홀을 사진으로 찍는 데 성공했다. 밀리미터 파장을 가진 전...</td>\n",
              "    </tr>\n",
              "    <tr>\n",
              "      <th>3</th>\n",
              "      <td>한국전력은 에너지밸리 R&amp;D(연구개발)인프라의 확대와 신산업 연구개발의 전문성을 더...</td>\n",
              "    </tr>\n",
              "    <tr>\n",
              "      <th>4</th>\n",
              "      <td>이 누리집은 대한민국 공식 전자정부 누리집입니다.정부가 중소·중견 수출기업에 2조원...</td>\n",
              "    </tr>\n",
              "    <tr>\n",
              "      <th>...</th>\n",
              "      <td>...</td>\n",
              "    </tr>\n",
              "    <tr>\n",
              "      <th>94</th>\n",
              "      <td>2022.12.08\\n\\r\\n                              ...</td>\n",
              "    </tr>\n",
              "    <tr>\n",
              "      <th>95</th>\n",
              "      <td>[NST 꿰어야 보배]\\t\\t\\t\\t\\t\\t\\t48탄: 미래 모빌리티지난 10월 2...</td>\n",
              "    </tr>\n",
              "    <tr>\n",
              "      <th>96</th>\n",
              "      <td>[주말판] 요즘 빅테크들, 수리할 권...[정보보호 특성화고 가다-4] 서울시......</td>\n",
              "    </tr>\n",
              "    <tr>\n",
              "      <th>97</th>\n",
              "      <td>과학기술정보통신부는 30일 '2022 국가 핵심·미래소재 연구단 성과공유회'를 열고...</td>\n",
              "    </tr>\n",
              "    <tr>\n",
              "      <th>98</th>\n",
              "      <td>[과총 과학과기술 인터뷰대담]\\t\\t\\t\\t\\t\\t\\t오태석 과학기술정보통신부 1차...</td>\n",
              "    </tr>\n",
              "  </tbody>\n",
              "</table>\n",
              "<p>99 rows × 1 columns</p>\n",
              "</div>\n",
              "      <button class=\"colab-df-convert\" onclick=\"convertToInteractive('df-14ee901e-8a97-499f-8285-15d6ea918d48')\"\n",
              "              title=\"Convert this dataframe to an interactive table.\"\n",
              "              style=\"display:none;\">\n",
              "        \n",
              "  <svg xmlns=\"http://www.w3.org/2000/svg\" height=\"24px\"viewBox=\"0 0 24 24\"\n",
              "       width=\"24px\">\n",
              "    <path d=\"M0 0h24v24H0V0z\" fill=\"none\"/>\n",
              "    <path d=\"M18.56 5.44l.94 2.06.94-2.06 2.06-.94-2.06-.94-.94-2.06-.94 2.06-2.06.94zm-11 1L8.5 8.5l.94-2.06 2.06-.94-2.06-.94L8.5 2.5l-.94 2.06-2.06.94zm10 10l.94 2.06.94-2.06 2.06-.94-2.06-.94-.94-2.06-.94 2.06-2.06.94z\"/><path d=\"M17.41 7.96l-1.37-1.37c-.4-.4-.92-.59-1.43-.59-.52 0-1.04.2-1.43.59L10.3 9.45l-7.72 7.72c-.78.78-.78 2.05 0 2.83L4 21.41c.39.39.9.59 1.41.59.51 0 1.02-.2 1.41-.59l7.78-7.78 2.81-2.81c.8-.78.8-2.07 0-2.86zM5.41 20L4 18.59l7.72-7.72 1.47 1.35L5.41 20z\"/>\n",
              "  </svg>\n",
              "      </button>\n",
              "      \n",
              "  <style>\n",
              "    .colab-df-container {\n",
              "      display:flex;\n",
              "      flex-wrap:wrap;\n",
              "      gap: 12px;\n",
              "    }\n",
              "\n",
              "    .colab-df-convert {\n",
              "      background-color: #E8F0FE;\n",
              "      border: none;\n",
              "      border-radius: 50%;\n",
              "      cursor: pointer;\n",
              "      display: none;\n",
              "      fill: #1967D2;\n",
              "      height: 32px;\n",
              "      padding: 0 0 0 0;\n",
              "      width: 32px;\n",
              "    }\n",
              "\n",
              "    .colab-df-convert:hover {\n",
              "      background-color: #E2EBFA;\n",
              "      box-shadow: 0px 1px 2px rgba(60, 64, 67, 0.3), 0px 1px 3px 1px rgba(60, 64, 67, 0.15);\n",
              "      fill: #174EA6;\n",
              "    }\n",
              "\n",
              "    [theme=dark] .colab-df-convert {\n",
              "      background-color: #3B4455;\n",
              "      fill: #D2E3FC;\n",
              "    }\n",
              "\n",
              "    [theme=dark] .colab-df-convert:hover {\n",
              "      background-color: #434B5C;\n",
              "      box-shadow: 0px 1px 3px 1px rgba(0, 0, 0, 0.15);\n",
              "      filter: drop-shadow(0px 1px 2px rgba(0, 0, 0, 0.3));\n",
              "      fill: #FFFFFF;\n",
              "    }\n",
              "  </style>\n",
              "\n",
              "      <script>\n",
              "        const buttonEl =\n",
              "          document.querySelector('#df-14ee901e-8a97-499f-8285-15d6ea918d48 button.colab-df-convert');\n",
              "        buttonEl.style.display =\n",
              "          google.colab.kernel.accessAllowed ? 'block' : 'none';\n",
              "\n",
              "        async function convertToInteractive(key) {\n",
              "          const element = document.querySelector('#df-14ee901e-8a97-499f-8285-15d6ea918d48');\n",
              "          const dataTable =\n",
              "            await google.colab.kernel.invokeFunction('convertToInteractive',\n",
              "                                                     [key], {});\n",
              "          if (!dataTable) return;\n",
              "\n",
              "          const docLinkHtml = 'Like what you see? Visit the ' +\n",
              "            '<a target=\"_blank\" href=https://colab.research.google.com/notebooks/data_table.ipynb>data table notebook</a>'\n",
              "            + ' to learn more about interactive tables.';\n",
              "          element.innerHTML = '';\n",
              "          dataTable['output_type'] = 'display_data';\n",
              "          await google.colab.output.renderOutput(dataTable, element);\n",
              "          const docLink = document.createElement('div');\n",
              "          docLink.innerHTML = docLinkHtml;\n",
              "          element.appendChild(docLink);\n",
              "        }\n",
              "      </script>\n",
              "    </div>\n",
              "  </div>\n",
              "  "
            ],
            "text/plain": [
              "                                                   내용\n",
              "0   [테크월드뉴스=양승갑 기자] 한국미래기술교육연구원은 4월 21일 서울 여의도 전경련...\n",
              "1   시작페이지로　l　즐겨찾기　l　RSS　l　편집 2023.03.19 [16:30]전체기...\n",
              "2   인류의 과학은 마침내 블랙홀을 사진으로 찍는 데 성공했다. 밀리미터 파장을 가진 전...\n",
              "3   한국전력은 에너지밸리 R&D(연구개발)인프라의 확대와 신산업 연구개발의 전문성을 더...\n",
              "4   이 누리집은 대한민국 공식 전자정부 누리집입니다.정부가 중소·중견 수출기업에 2조원...\n",
              "..                                                ...\n",
              "94  2022.12.08\\n\\r\\n                              ...\n",
              "95  [NST 꿰어야 보배]\\t\\t\\t\\t\\t\\t\\t48탄: 미래 모빌리티지난 10월 2...\n",
              "96  [주말판] 요즘 빅테크들, 수리할 권...[정보보호 특성화고 가다-4] 서울시......\n",
              "97  과학기술정보통신부는 30일 '2022 국가 핵심·미래소재 연구단 성과공유회'를 열고...\n",
              "98  [과총 과학과기술 인터뷰대담]\\t\\t\\t\\t\\t\\t\\t오태석 과학기술정보통신부 1차...\n",
              "\n",
              "[99 rows x 1 columns]"
            ]
          },
          "execution_count": 22,
          "metadata": {},
          "output_type": "execute_result"
        }
      ],
      "source": [
        "# 신문사 링크로 이동하여 새롭게 파싱 및 p 태그를 이용해서 파싱 : 100개 실행시 5분정도 소요\n",
        "urls = df['link']\n",
        "len(urls)\n",
        "news =[]\n",
        "for i, link in enumerate(urls):\n",
        "    # if i >2 : break\n",
        "    try:\n",
        "        html_src = requests.get(link).text\n",
        "        soup = bs(html_src, 'html.parser')\n",
        "        para = soup.select('p')\n",
        "        text1 = ''\n",
        "        for p in para:\n",
        "            text1 += p.text.strip()\n",
        "        news.append(text1)\n",
        "    except :\n",
        "        news.append('에러발생')\n",
        "news_df = pd.DataFrame(news, columns=['내용']) \n",
        "news_df"
      ]
    },
    {
      "cell_type": "code",
      "execution_count": 23,
      "id": "3Rv_X2hMuCp8",
      "metadata": {
        "colab": {
          "base_uri": "https://localhost:8080/",
          "height": 423
        },
        "id": "3Rv_X2hMuCp8",
        "outputId": "ac7ede8e-a41d-4a5f-b58c-161d97556f5c"
      },
      "outputs": [
        {
          "data": {
            "text/html": [
              "\n",
              "  <div id=\"df-ef0b5450-184b-4969-a26c-6861cda6f99d\">\n",
              "    <div class=\"colab-df-container\">\n",
              "      <div>\n",
              "<style scoped>\n",
              "    .dataframe tbody tr th:only-of-type {\n",
              "        vertical-align: middle;\n",
              "    }\n",
              "\n",
              "    .dataframe tbody tr th {\n",
              "        vertical-align: top;\n",
              "    }\n",
              "\n",
              "    .dataframe thead th {\n",
              "        text-align: right;\n",
              "    }\n",
              "</style>\n",
              "<table border=\"1\" class=\"dataframe\">\n",
              "  <thead>\n",
              "    <tr style=\"text-align: right;\">\n",
              "      <th></th>\n",
              "      <th>제목</th>\n",
              "      <th>내용</th>\n",
              "    </tr>\n",
              "  </thead>\n",
              "  <tbody>\n",
              "    <tr>\n",
              "      <th>0</th>\n",
              "      <td>한국미래기술교육원, 초거대 AI 핵심기술과 상용화 전략 세미나 개최</td>\n",
              "      <td>[테크월드뉴스=양승갑 기자] 한국미래기술교육연구원은 4월 21일 서울 여의도 전경련...</td>\n",
              "    </tr>\n",
              "    <tr>\n",
              "      <th>1</th>\n",
              "      <td>신우철 완도군수, '4차 산업과 완도 미래' 주제로 특강</td>\n",
              "      <td>시작페이지로　l　즐겨찾기　l　RSS　l　편집 2023.03.19 [16:30]전체기...</td>\n",
              "    </tr>\n",
              "    <tr>\n",
              "      <th>2</th>\n",
              "      <td>[주말N수학] 누리호에 실릴 초분광 카메라, 몰랐던 지구정보 밝힌다</td>\n",
              "      <td>인류의 과학은 마침내 블랙홀을 사진으로 찍는 데 성공했다. 밀리미터 파장을 가진 전...</td>\n",
              "    </tr>\n",
              "    <tr>\n",
              "      <th>3</th>\n",
              "      <td>미래에너지 기술의 리더, '에너지신기술연구원'</td>\n",
              "      <td>한국전력은 에너지밸리 R&amp;D(연구개발)인프라의 확대와 신산업 연구개발의 전문성을 더...</td>\n",
              "    </tr>\n",
              "    <tr>\n",
              "      <th>4</th>\n",
              "      <td>수출기업 2조원 정책금융 신설…미래차 투자 세제지원 확대 검토</td>\n",
              "      <td>이 누리집은 대한민국 공식 전자정부 누리집입니다.정부가 중소·중견 수출기업에 2조원...</td>\n",
              "    </tr>\n",
              "    <tr>\n",
              "      <th>...</th>\n",
              "      <td>...</td>\n",
              "      <td>...</td>\n",
              "    </tr>\n",
              "    <tr>\n",
              "      <th>94</th>\n",
              "      <td>현대차그룹, 전동화 및 SDV 기술로 대한민국 기술대상 등 수상</td>\n",
              "      <td>2022.12.08\\n\\r\\n                              ...</td>\n",
              "    </tr>\n",
              "    <tr>\n",
              "      <th>95</th>\n",
              "      <td>더 빠르고, 더 안전하고, 더 편하게!</td>\n",
              "      <td>[NST 꿰어야 보배]\\t\\t\\t\\t\\t\\t\\t48탄: 미래 모빌리티지난 10월 2...</td>\n",
              "    </tr>\n",
              "    <tr>\n",
              "      <th>96</th>\n",
              "      <td>[스마트점포의 현재와 미래-2] 스마트점포 기술의 국산화 및 고도화 ...</td>\n",
              "      <td>[주말판] 요즘 빅테크들, 수리할 권...[정보보호 특성화고 가다-4] 서울시......</td>\n",
              "    </tr>\n",
              "    <tr>\n",
              "      <th>97</th>\n",
              "      <td>국가핵심소재연구단 성과 가시화...미래소재 확보전략 마련 박차</td>\n",
              "      <td>과학기술정보통신부는 30일 '2022 국가 핵심·미래소재 연구단 성과공유회'를 열고...</td>\n",
              "    </tr>\n",
              "    <tr>\n",
              "      <th>98</th>\n",
              "      <td>“이제 우주경제를 꿈꿔볼 수 있게 됐다” 오태석의 다음 스텝 ...</td>\n",
              "      <td>[과총 과학과기술 인터뷰대담]\\t\\t\\t\\t\\t\\t\\t오태석 과학기술정보통신부 1차...</td>\n",
              "    </tr>\n",
              "  </tbody>\n",
              "</table>\n",
              "<p>99 rows × 2 columns</p>\n",
              "</div>\n",
              "      <button class=\"colab-df-convert\" onclick=\"convertToInteractive('df-ef0b5450-184b-4969-a26c-6861cda6f99d')\"\n",
              "              title=\"Convert this dataframe to an interactive table.\"\n",
              "              style=\"display:none;\">\n",
              "        \n",
              "  <svg xmlns=\"http://www.w3.org/2000/svg\" height=\"24px\"viewBox=\"0 0 24 24\"\n",
              "       width=\"24px\">\n",
              "    <path d=\"M0 0h24v24H0V0z\" fill=\"none\"/>\n",
              "    <path d=\"M18.56 5.44l.94 2.06.94-2.06 2.06-.94-2.06-.94-.94-2.06-.94 2.06-2.06.94zm-11 1L8.5 8.5l.94-2.06 2.06-.94-2.06-.94L8.5 2.5l-.94 2.06-2.06.94zm10 10l.94 2.06.94-2.06 2.06-.94-2.06-.94-.94-2.06-.94 2.06-2.06.94z\"/><path d=\"M17.41 7.96l-1.37-1.37c-.4-.4-.92-.59-1.43-.59-.52 0-1.04.2-1.43.59L10.3 9.45l-7.72 7.72c-.78.78-.78 2.05 0 2.83L4 21.41c.39.39.9.59 1.41.59.51 0 1.02-.2 1.41-.59l7.78-7.78 2.81-2.81c.8-.78.8-2.07 0-2.86zM5.41 20L4 18.59l7.72-7.72 1.47 1.35L5.41 20z\"/>\n",
              "  </svg>\n",
              "      </button>\n",
              "      \n",
              "  <style>\n",
              "    .colab-df-container {\n",
              "      display:flex;\n",
              "      flex-wrap:wrap;\n",
              "      gap: 12px;\n",
              "    }\n",
              "\n",
              "    .colab-df-convert {\n",
              "      background-color: #E8F0FE;\n",
              "      border: none;\n",
              "      border-radius: 50%;\n",
              "      cursor: pointer;\n",
              "      display: none;\n",
              "      fill: #1967D2;\n",
              "      height: 32px;\n",
              "      padding: 0 0 0 0;\n",
              "      width: 32px;\n",
              "    }\n",
              "\n",
              "    .colab-df-convert:hover {\n",
              "      background-color: #E2EBFA;\n",
              "      box-shadow: 0px 1px 2px rgba(60, 64, 67, 0.3), 0px 1px 3px 1px rgba(60, 64, 67, 0.15);\n",
              "      fill: #174EA6;\n",
              "    }\n",
              "\n",
              "    [theme=dark] .colab-df-convert {\n",
              "      background-color: #3B4455;\n",
              "      fill: #D2E3FC;\n",
              "    }\n",
              "\n",
              "    [theme=dark] .colab-df-convert:hover {\n",
              "      background-color: #434B5C;\n",
              "      box-shadow: 0px 1px 3px 1px rgba(0, 0, 0, 0.15);\n",
              "      filter: drop-shadow(0px 1px 2px rgba(0, 0, 0, 0.3));\n",
              "      fill: #FFFFFF;\n",
              "    }\n",
              "  </style>\n",
              "\n",
              "      <script>\n",
              "        const buttonEl =\n",
              "          document.querySelector('#df-ef0b5450-184b-4969-a26c-6861cda6f99d button.colab-df-convert');\n",
              "        buttonEl.style.display =\n",
              "          google.colab.kernel.accessAllowed ? 'block' : 'none';\n",
              "\n",
              "        async function convertToInteractive(key) {\n",
              "          const element = document.querySelector('#df-ef0b5450-184b-4969-a26c-6861cda6f99d');\n",
              "          const dataTable =\n",
              "            await google.colab.kernel.invokeFunction('convertToInteractive',\n",
              "                                                     [key], {});\n",
              "          if (!dataTable) return;\n",
              "\n",
              "          const docLinkHtml = 'Like what you see? Visit the ' +\n",
              "            '<a target=\"_blank\" href=https://colab.research.google.com/notebooks/data_table.ipynb>data table notebook</a>'\n",
              "            + ' to learn more about interactive tables.';\n",
              "          element.innerHTML = '';\n",
              "          dataTable['output_type'] = 'display_data';\n",
              "          await google.colab.output.renderOutput(dataTable, element);\n",
              "          const docLink = document.createElement('div');\n",
              "          docLink.innerHTML = docLinkHtml;\n",
              "          element.appendChild(docLink);\n",
              "        }\n",
              "      </script>\n",
              "    </div>\n",
              "  </div>\n",
              "  "
            ],
            "text/plain": [
              "                                           제목  \\\n",
              "0       한국미래기술교육원, 초거대 AI 핵심기술과 상용화 전략 세미나 개최   \n",
              "1             신우철 완도군수, '4차 산업과 완도 미래' 주제로 특강   \n",
              "2       [주말N수학] 누리호에 실릴 초분광 카메라, 몰랐던 지구정보 밝힌다   \n",
              "3                   미래에너지 기술의 리더, '에너지신기술연구원'   \n",
              "4          수출기업 2조원 정책금융 신설…미래차 투자 세제지원 확대 검토   \n",
              "..                                        ...   \n",
              "94        현대차그룹, 전동화 및 SDV 기술로 대한민국 기술대상 등 수상   \n",
              "95                      더 빠르고, 더 안전하고, 더 편하게!   \n",
              "96  [스마트점포의 현재와 미래-2] 스마트점포 기술의 국산화 및 고도화 ...   \n",
              "97         국가핵심소재연구단 성과 가시화...미래소재 확보전략 마련 박차   \n",
              "98      “이제 우주경제를 꿈꿔볼 수 있게 됐다” 오태석의 다음 스텝 ...   \n",
              "\n",
              "                                                   내용  \n",
              "0   [테크월드뉴스=양승갑 기자] 한국미래기술교육연구원은 4월 21일 서울 여의도 전경련...  \n",
              "1   시작페이지로　l　즐겨찾기　l　RSS　l　편집 2023.03.19 [16:30]전체기...  \n",
              "2   인류의 과학은 마침내 블랙홀을 사진으로 찍는 데 성공했다. 밀리미터 파장을 가진 전...  \n",
              "3   한국전력은 에너지밸리 R&D(연구개발)인프라의 확대와 신산업 연구개발의 전문성을 더...  \n",
              "4   이 누리집은 대한민국 공식 전자정부 누리집입니다.정부가 중소·중견 수출기업에 2조원...  \n",
              "..                                                ...  \n",
              "94  2022.12.08\\n\\r\\n                              ...  \n",
              "95  [NST 꿰어야 보배]\\t\\t\\t\\t\\t\\t\\t48탄: 미래 모빌리티지난 10월 2...  \n",
              "96  [주말판] 요즘 빅테크들, 수리할 권...[정보보호 특성화고 가다-4] 서울시......  \n",
              "97  과학기술정보통신부는 30일 '2022 국가 핵심·미래소재 연구단 성과공유회'를 열고...  \n",
              "98  [과총 과학과기술 인터뷰대담]\\t\\t\\t\\t\\t\\t\\t오태석 과학기술정보통신부 1차...  \n",
              "\n",
              "[99 rows x 2 columns]"
            ]
          },
          "execution_count": 23,
          "metadata": {},
          "output_type": "execute_result"
        }
      ],
      "source": [
        "result = pd.concat([df,news_df],axis=1)\n",
        "# result[['신문사','제목','내용']]\n",
        "result[['제목','내용']]"
      ]
    },
    {
      "cell_type": "markdown",
      "id": "zmcHSjJLVmS_",
      "metadata": {
        "id": "zmcHSjJLVmS_"
      },
      "source": [
        "# 5.API를 이용하기위한 Key 관리"
      ]
    },
    {
      "cell_type": "markdown",
      "id": "MS-9LotjdV6F",
      "metadata": {
        "id": "MS-9LotjdV6F"
      },
      "source": [
        "5주차 API 활용 강의를 위한 사전 학습 내용 "
      ]
    },
    {
      "cell_type": "code",
      "execution_count": 24,
      "id": "xVRdxYReYeQj",
      "metadata": {
        "colab": {
          "base_uri": "https://localhost:8080/"
        },
        "id": "xVRdxYReYeQj",
        "outputId": "7063fccd-165d-4e4f-f68f-3dd5b00121de"
      },
      "outputs": [
        {
          "name": "stdout",
          "output_type": "stream",
          "text": [
            "Mounted at /content/drive\n"
          ]
        }
      ],
      "source": [
        "# google drive mount\n",
        "from google.colab import drive\n",
        "drive.mount('/content/drive')"
      ]
    },
    {
      "cell_type": "markdown",
      "id": "w-q7rbEeWqEa",
      "metadata": {
        "id": "w-q7rbEeWqEa"
      },
      "source": [
        "https://wikidocs.net/135732"
      ]
    },
    {
      "cell_type": "code",
      "execution_count": 25,
      "id": "Kfn6RYRfWpFH",
      "metadata": {
        "id": "Kfn6RYRfWpFH"
      },
      "outputs": [],
      "source": [
        "#json 파일 만들기\n",
        "import json\n",
        "admin={\n",
        "    'mysql' : { \"mysql_user\" :\"user\", \"mysql_pass\" : \"12345\" },\n",
        "    'naver_api':{\n",
        "        'id': 'byungjoo',\n",
        "        'pass': \"test12345\" },\n",
        "    }\n",
        "\n",
        "with open('admin.json', 'w') as f:\n",
        "    json.dump(admin, f)"
      ]
    },
    {
      "cell_type": "code",
      "execution_count": 26,
      "id": "VndAcPv9Xmb0",
      "metadata": {
        "colab": {
          "base_uri": "https://localhost:8080/"
        },
        "id": "VndAcPv9Xmb0",
        "outputId": "0c971f94-8aae-4365-ea18-55fa03e3d016"
      },
      "outputs": [
        {
          "data": {
            "text/plain": [
              "{'id': 'byungjoo', 'pass': 'test12345'}"
            ]
          },
          "execution_count": 26,
          "metadata": {},
          "output_type": "execute_result"
        }
      ],
      "source": [
        "#json 읽어들이기 :  json.loads 사용\n",
        "with open('admin.json','r') as f:\n",
        "    s=f.read()\n",
        "    admin= json.loads(s)['naver_api']\n",
        "\n",
        "admin"
      ]
    },
    {
      "cell_type": "code",
      "execution_count": 27,
      "id": "byCIiLJBbFHh",
      "metadata": {
        "colab": {
          "base_uri": "https://localhost:8080/"
        },
        "id": "byCIiLJBbFHh",
        "outputId": "e6e47195-283e-45b4-ed41-b53afa7f5bf1"
      },
      "outputs": [
        {
          "data": {
            "text/plain": [
              "['.config',\n",
              " 'drive',\n",
              " 'NanumGothic.ttf',\n",
              " 'admin.json',\n",
              " 'html연습.html',\n",
              " 'sample_data']"
            ]
          },
          "execution_count": 27,
          "metadata": {},
          "output_type": "execute_result"
        }
      ],
      "source": [
        "# data dir\n",
        "import os\n",
        "data_dir = '/content'\n",
        "os.listdir(data_dir)"
      ]
    },
    {
      "cell_type": "code",
      "execution_count": 27,
      "id": "c_A0L_G4csmZ",
      "metadata": {
        "id": "c_A0L_G4csmZ"
      },
      "outputs": [],
      "source": []
    }
  ],
  "metadata": {
    "colab": {
      "provenance": [],
      "toc_visible": true
    },
    "kernelspec": {
      "display_name": "Python 3",
      "language": "python",
      "name": "python3"
    },
    "language_info": {
      "codemirror_mode": {
        "name": "ipython",
        "version": 3
      },
      "file_extension": ".py",
      "mimetype": "text/x-python",
      "name": "python",
      "nbconvert_exporter": "python",
      "pygments_lexer": "ipython3",
      "version": "3.6.9"
    }
  },
  "nbformat": 4,
  "nbformat_minor": 5
}
