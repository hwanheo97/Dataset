{
 "cells": [
  {
   "cell_type": "code",
   "execution_count": 14,
   "id": "5124a37a-b477-482f-bbe1-7b2aa266203e",
   "metadata": {},
   "outputs": [],
   "source": [
    "!echo print(5+5) > practice_02.py"
   ]
  },
  {
   "cell_type": "code",
   "execution_count": 15,
   "id": "2f41443b-42a5-442f-b179-ee7d6cc598ce",
   "metadata": {},
   "outputs": [
    {
     "name": "stdout",
     "output_type": "stream",
     "text": [
      "10\n"
     ]
    }
   ],
   "source": [
    "!python practice_02.py"
   ]
  },
  {
   "cell_type": "code",
   "execution_count": 3,
   "id": "85a27f00-6f70-4ddd-afdb-43223adaa0cb",
   "metadata": {},
   "outputs": [
    {
     "name": "stdout",
     "output_type": "stream",
     "text": [
      "14\n"
     ]
    }
   ],
   "source": [
    "%run practice.py"
   ]
  },
  {
   "cell_type": "code",
   "execution_count": 8,
   "id": "1b2227a5-f13a-4a90-8929-4c0f45989043",
   "metadata": {},
   "outputs": [],
   "source": [
    "import os\n",
    "Big_Data_dir='/Python/Big_Data/'"
   ]
  },
  {
   "cell_type": "code",
   "execution_count": 9,
   "id": "427079d2-dbcb-4fcd-912a-4cfab684904d",
   "metadata": {
    "collapsed": true,
    "jupyter": {
     "outputs_hidden": true
    },
    "tags": []
   },
   "outputs": [
    {
     "data": {
      "text/plain": [
       "['.ipynb_checkpoints',\n",
       " '2_파이썬환경구성과운용기초_.ipynb',\n",
       " '2주차 실습 자료-20230309.zip',\n",
       " '3_웹크롤링에의한데이터수집1_.ipynb',\n",
       " '3주차 실습 파일-20230315.zip',\n",
       " 'data',\n",
       " 'html연습.html',\n",
       " 'My_ID.py',\n",
       " 'practice.py',\n",
       " 'practice_01.py',\n",
       " 'python_study.ipynb',\n",
       " 'test.csv',\n",
       " 'test.json',\n",
       " 'test.xml',\n",
       " 'text.py',\n",
       " '__pycache__',\n",
       " '과제1_신문기사크롤링.ipynb',\n",
       " '과제1_허환.ipynb',\n",
       " '데이터분석_2차시.ipynb']"
      ]
     },
     "execution_count": 9,
     "metadata": {},
     "output_type": "execute_result"
    }
   ],
   "source": [
    "os.listdir(Big_Data_dir)"
   ]
  },
  {
   "cell_type": "code",
   "execution_count": 10,
   "id": "182fdd63-aeb5-4992-9235-e39526e1629a",
   "metadata": {},
   "outputs": [],
   "source": [
    "data_dir = os.path.join(Big_Data_dir,'data')\n",
    "if not os.path.isdir(data_dir):\n",
    "    os.makedirs(data_dir)"
   ]
  },
  {
   "cell_type": "code",
   "execution_count": 11,
   "id": "a464fd18-347f-4ea0-bc59-4403dcda70fc",
   "metadata": {},
   "outputs": [],
   "source": [
    "f= open(os.path.join(data_dir,'test.txt'),'w')\n",
    "f.write('test 실습')\n",
    "f.close()"
   ]
  },
  {
   "cell_type": "code",
   "execution_count": 12,
   "id": "0647a316-5378-461f-b205-45ceec78ba0e",
   "metadata": {},
   "outputs": [
    {
     "data": {
      "text/plain": [
       "['test.txt']"
      ]
     },
     "execution_count": 12,
     "metadata": {},
     "output_type": "execute_result"
    }
   ],
   "source": [
    "os.listdir(data_dir)"
   ]
  },
  {
   "cell_type": "code",
   "execution_count": 13,
   "id": "20298501-3248-45df-8105-289c1ea7e2f9",
   "metadata": {},
   "outputs": [
    {
     "data": {
      "text/plain": [
       "['.ipynb_checkpoints',\n",
       " '2_파이썬환경구성과운용기초_.ipynb',\n",
       " '2주차 실습 자료-20230309.zip',\n",
       " '3_웹크롤링에의한데이터수집1_.ipynb',\n",
       " '3주차 실습 파일-20230315.zip',\n",
       " 'data',\n",
       " 'html연습.html',\n",
       " 'My_ID.py',\n",
       " 'practice.py',\n",
       " 'practice_01.py',\n",
       " 'python_study.ipynb',\n",
       " 'test.csv',\n",
       " 'test.json',\n",
       " 'test.xml',\n",
       " 'text.py',\n",
       " '__pycache__',\n",
       " '과제1_신문기사크롤링.ipynb',\n",
       " '과제1_허환.ipynb',\n",
       " '데이터분석_2차시.ipynb']"
      ]
     },
     "execution_count": 13,
     "metadata": {},
     "output_type": "execute_result"
    }
   ],
   "source": [
    "os.listdir(Big_Data_dir)"
   ]
  },
  {
   "cell_type": "code",
   "execution_count": 16,
   "id": "6d4234bf-1c32-4539-ba25-a3bba44d8943",
   "metadata": {},
   "outputs": [
    {
     "name": "stdout",
     "output_type": "stream",
     "text": [
      "test 실습\n"
     ]
    }
   ],
   "source": [
    "with open('/Python/Big_Data/data/test.txt','r') as f:\n",
    "    test=f.read()\n",
    "print(test)    "
   ]
  },
  {
   "cell_type": "code",
   "execution_count": 19,
   "id": "d0f701ec-13bf-4d8a-af59-fe2b5cc55584",
   "metadata": {},
   "outputs": [
    {
     "data": {
      "text/plain": [
       "array([0.        , 0.07142857, 0.14285714, 0.21428571, 0.28571429,\n",
       "       0.35714286, 0.42857143, 0.5       , 0.57142857, 0.64285714,\n",
       "       0.71428571, 0.78571429, 0.85714286, 0.92857143, 1.        ])"
      ]
     },
     "execution_count": 19,
     "metadata": {},
     "output_type": "execute_result"
    }
   ],
   "source": [
    "import numpy as np\n",
    "x=np.linspace(0,1,15)\n",
    "x"
   ]
  },
  {
   "cell_type": "code",
   "execution_count": 20,
   "id": "3421383b-0290-483e-b98d-ccc923993229",
   "metadata": {},
   "outputs": [
    {
     "name": "stdout",
     "output_type": "stream",
     "text": [
      "[[0.39054784 0.73816419 0.24164246 0.00118107]\n",
      " [0.61448362 0.61737724 0.66713444 0.51226942]\n",
      " [0.01979565 0.53089234 0.76241375 0.62599727]]\n"
     ]
    }
   ],
   "source": [
    "from numpy.random import rand,randint,randn\n",
    "print(rand(3,4))"
   ]
  },
  {
   "cell_type": "code",
   "execution_count": 21,
   "id": "478fb00c-71db-4b8d-880c-cc9b06230f10",
   "metadata": {},
   "outputs": [
    {
     "name": "stdout",
     "output_type": "stream",
     "text": [
      "[[4 0 2 4]\n",
      " [2 1 1 0]\n",
      " [0 4 1 2]]\n"
     ]
    }
   ],
   "source": [
    "print(randint(5,size=(3,4)))"
   ]
  },
  {
   "cell_type": "code",
   "execution_count": 22,
   "id": "2db4ee64-3f00-43bb-b62a-ed61f437b52d",
   "metadata": {},
   "outputs": [
    {
     "name": "stdout",
     "output_type": "stream",
     "text": [
      "[[ 0.78174515  0.3109667   0.98075501 -0.12670639]\n",
      " [-0.65365948  0.9482927   0.29426295  0.63648566]\n",
      " [-1.00566754  0.15492384 -1.44339951 -2.07545259]]\n"
     ]
    }
   ],
   "source": [
    "print(randn(3,4))"
   ]
  },
  {
   "cell_type": "code",
   "execution_count": 24,
   "id": "a219ecc9-61eb-497a-a949-82f34ac59370",
   "metadata": {},
   "outputs": [
    {
     "data": {
      "image/png": "[encoded data removed]",
      "text/plain": [
       "<Figure size 400x400 with 1 Axes>"
      ]
     },
     "metadata": {},
     "output_type": "display_data"
    }
   ],
   "source": [
    "import matplotlib.pyplot as plt\n",
    "\n",
    "x= np.linspace(0,1,100)\n",
    "y=np.sqrt(1-np.square(x))\n",
    "plt.figure(figsize=(4,4))\n",
    "plt.plot(x,y)\n",
    "plt.grid()\n",
    "plt.show()\n",
    "           \n",
    "           "
   ]
  },
  {
   "cell_type": "code",
   "execution_count": 25,
   "id": "e2ba9fa7-3fd7-4b89-b6be-7cad9aa3a283",
   "metadata": {},
   "outputs": [
    {
     "name": "stdout",
     "output_type": "stream",
     "text": [
      "Overwriting text.py\n"
     ]
    }
   ],
   "source": [
    "%%writefile text.py\n",
    "\n",
    "def add(a,b):\n",
    "    return a+b\n",
    "\n",
    "def sub(a,b):\n",
    "    return a-b\n",
    "\n",
    "my_id='ben'\n",
    "\n",
    "if __name__==\"__main__\":\n",
    "    print(\"실행 완료\")"
   ]
  },
  {
   "cell_type": "code",
   "execution_count": 26,
   "id": "32e65460-fa5c-4ad7-97b3-836b34c8a5d6",
   "metadata": {},
   "outputs": [
    {
     "name": "stdout",
     "output_type": "stream",
     "text": [
      "실행 완료\n"
     ]
    }
   ],
   "source": [
    "!python text.py"
   ]
  },
  {
   "cell_type": "code",
   "execution_count": 27,
   "id": "df84fca3-4cbb-41b4-abf6-17730bb9c616",
   "metadata": {},
   "outputs": [
    {
     "name": "stdout",
     "output_type": "stream",
     "text": [
      "실행 완료\n"
     ]
    }
   ],
   "source": [
    "%run text.py"
   ]
  },
  {
   "cell_type": "code",
   "execution_count": 28,
   "id": "22fa1f6b-4787-422e-a13f-143e63e86ac5",
   "metadata": {},
   "outputs": [
    {
     "name": "stdout",
     "output_type": "stream",
     "text": [
      "7\n"
     ]
    }
   ],
   "source": [
    "from text import *\n",
    "print(add(3,4))"
   ]
  },
  {
   "cell_type": "code",
   "execution_count": 29,
   "id": "7ca6f70d-22cf-468c-9d87-a6d640adeb9a",
   "metadata": {},
   "outputs": [
    {
     "name": "stdout",
     "output_type": "stream",
     "text": [
      "-1\n"
     ]
    }
   ],
   "source": [
    "print(sub(3,4))"
   ]
  },
  {
   "cell_type": "code",
   "execution_count": 30,
   "id": "70860124-768d-4ca2-950d-ac9ec5a5d0a0",
   "metadata": {},
   "outputs": [
    {
     "name": "stdout",
     "output_type": "stream",
     "text": [
      "ben\n"
     ]
    }
   ],
   "source": [
    "print(my_id)"
   ]
  },
  {
   "cell_type": "code",
   "execution_count": 31,
   "id": "88aa0e0b-c581-400b-84e1-6959db15e795",
   "metadata": {},
   "outputs": [
    {
     "name": "stdout",
     "output_type": "stream",
     "text": [
      "Overwriting My_ID.py\n"
     ]
    }
   ],
   "source": [
    "%%writefile My_ID.py\n",
    "my_id ='hwanheo'\n"
   ]
  },
  {
   "cell_type": "code",
   "execution_count": 32,
   "id": "4611a0b3-e31b-422f-9580-81dbe9908f29",
   "metadata": {},
   "outputs": [
    {
     "name": "stdout",
     "output_type": "stream",
     "text": [
      "hwanheo\n"
     ]
    }
   ],
   "source": [
    "from My_ID import *\n",
    "naver_id = my_id\n",
    "print(naver_id)"
   ]
  },
  {
   "cell_type": "code",
   "execution_count": 33,
   "id": "2efbcb42-fcc2-4170-b774-7a4112b63042",
   "metadata": {},
   "outputs": [],
   "source": [
    "import csv\n",
    "with open('test.csv','w') as f:\n",
    "    data=csv.writer(f)\n",
    "    data.writerow(['김민국',15,'남자','서울시 강동구'])\n",
    "    data.writerow(['박한솔',30,'여자','서울시 송파구'])\n",
    "    "
   ]
  },
  {
   "cell_type": "code",
   "execution_count": 34,
   "id": "5de9eec7-0a9b-4dd7-900f-cc111fd17636",
   "metadata": {},
   "outputs": [
    {
     "name": "stdout",
     "output_type": "stream",
     "text": [
      "['김민국', '15', '남자', '서울시 강동구']\n",
      "[]\n",
      "['박한솔', '30', '여자', '서울시 송파구']\n",
      "[]\n"
     ]
    }
   ],
   "source": [
    "import csv\n",
    "with open('test.csv','r') as f:\n",
    "    data=csv.reader(f)\n",
    "    for i in data:\n",
    "        print(i)"
   ]
  },
  {
   "cell_type": "code",
   "execution_count": 35,
   "id": "85a9fc9c-dec0-4841-8ee8-589c2a754539",
   "metadata": {},
   "outputs": [
    {
     "data": {
      "text/plain": [
       "[['김민국', '15', '남자', '서울시 강동구'], [], ['박한솔', '30', '여자', '서울시 송파구'], []]"
      ]
     },
     "execution_count": 35,
     "metadata": {},
     "output_type": "execute_result"
    }
   ],
   "source": [
    "import csv\n",
    "with open('test.csv','r') as f:\n",
    "    data=csv.reader(f)\n",
    "    test=[]\n",
    "    for row in data:\n",
    "        test.append(row)\n",
    "test        "
   ]
  },
  {
   "cell_type": "code",
   "execution_count": 39,
   "id": "6f3ecc4b-6fa1-40e4-a6b2-47715b9ae54b",
   "metadata": {},
   "outputs": [
    {
     "data": {
      "text/html": [
       "<div>\n",
       "<style scoped>\n",
       "    .dataframe tbody tr th:only-of-type {\n",
       "        vertical-align: middle;\n",
       "    }\n",
       "\n",
       "    .dataframe tbody tr th {\n",
       "        vertical-align: top;\n",
       "    }\n",
       "\n",
       "    .dataframe thead th {\n",
       "        text-align: right;\n",
       "    }\n",
       "</style>\n",
       "<table border=\"1\" class=\"dataframe\">\n",
       "  <thead>\n",
       "    <tr style=\"text-align: right;\">\n",
       "      <th></th>\n",
       "      <th>Name</th>\n",
       "      <th>Age</th>\n",
       "      <th>Gender</th>\n",
       "      <th>Addr</th>\n",
       "    </tr>\n",
       "  </thead>\n",
       "  <tbody>\n",
       "    <tr>\n",
       "      <th>0</th>\n",
       "      <td>김민국</td>\n",
       "      <td>15</td>\n",
       "      <td>남자</td>\n",
       "      <td>서울시 강동구</td>\n",
       "    </tr>\n",
       "    <tr>\n",
       "      <th>1</th>\n",
       "      <td>박한솔</td>\n",
       "      <td>30</td>\n",
       "      <td>여자</td>\n",
       "      <td>서울시 송파구</td>\n",
       "    </tr>\n",
       "  </tbody>\n",
       "</table>\n",
       "</div>"
      ],
      "text/plain": [
       "  Name  Age Gender     Addr\n",
       "0  김민국   15     남자  서울시 강동구\n",
       "1  박한솔   30     여자  서울시 송파구"
      ]
     },
     "execution_count": 39,
     "metadata": {},
     "output_type": "execute_result"
    }
   ],
   "source": [
    "import pandas as pd\n",
    "colnames=[\"Name\",\"Age\",\"Gender\",\"Addr\"]\n",
    "df=pd.read_csv('test.csv', names=colnames,header=None,encoding='cp949' )   #\n",
    "df  "
   ]
  },
  {
   "cell_type": "code",
   "execution_count": 40,
   "id": "b2b6e56d-4557-4c82-8b84-176d1ab37f03",
   "metadata": {},
   "outputs": [],
   "source": [
    "df.to_json('test.json',orient=\"columns\")"
   ]
  },
  {
   "cell_type": "code",
   "execution_count": 41,
   "id": "dc9f9704-002e-4222-854b-da8ea4f82135",
   "metadata": {},
   "outputs": [
    {
     "data": {
      "text/html": [
       "<div>\n",
       "<style scoped>\n",
       "    .dataframe tbody tr th:only-of-type {\n",
       "        vertical-align: middle;\n",
       "    }\n",
       "\n",
       "    .dataframe tbody tr th {\n",
       "        vertical-align: top;\n",
       "    }\n",
       "\n",
       "    .dataframe thead th {\n",
       "        text-align: right;\n",
       "    }\n",
       "</style>\n",
       "<table border=\"1\" class=\"dataframe\">\n",
       "  <thead>\n",
       "    <tr style=\"text-align: right;\">\n",
       "      <th></th>\n",
       "      <th>Name</th>\n",
       "      <th>Age</th>\n",
       "      <th>Gender</th>\n",
       "      <th>Addr</th>\n",
       "    </tr>\n",
       "  </thead>\n",
       "  <tbody>\n",
       "    <tr>\n",
       "      <th>0</th>\n",
       "      <td>김민국</td>\n",
       "      <td>15</td>\n",
       "      <td>남자</td>\n",
       "      <td>서울시 강동구</td>\n",
       "    </tr>\n",
       "    <tr>\n",
       "      <th>1</th>\n",
       "      <td>박한솔</td>\n",
       "      <td>30</td>\n",
       "      <td>여자</td>\n",
       "      <td>서울시 송파구</td>\n",
       "    </tr>\n",
       "  </tbody>\n",
       "</table>\n",
       "</div>"
      ],
      "text/plain": [
       "  Name  Age Gender     Addr\n",
       "0  김민국   15     남자  서울시 강동구\n",
       "1  박한솔   30     여자  서울시 송파구"
      ]
     },
     "execution_count": 41,
     "metadata": {},
     "output_type": "execute_result"
    }
   ],
   "source": [
    "import json\n",
    "import pandas as pd\n",
    "info=open('test.json').read()\n",
    "data=json.loads(info)\n",
    "df=pd.DataFrame(data)\n",
    "df\n"
   ]
  },
  {
   "cell_type": "code",
   "execution_count": 42,
   "id": "19ddaef6-7ccf-4722-bf56-5118be0ec6a0",
   "metadata": {},
   "outputs": [
    {
     "name": "stdout",
     "output_type": "stream",
     "text": [
      "Overwriting test.xml\n"
     ]
    }
   ],
   "source": [
    "%%writefile test.xml\n",
    "<?xml version=\"1.0\" encoding=\"utf-8\"?>\n",
    "<world>\n",
    "\t<people name='김민국'>\n",
    "\t\t<age>15</age>\n",
    "\t\t<tall>183cm</tall>\n",
    "\t\t<add>'서울시 서대문구'</add>\n",
    "\t</people>\n",
    "\t<people name='박한솔' >\n",
    "\t\t<age>30</age>\n",
    "\t\t<tall>175cm</tall>\n",
    "\t\t<add>'서울시 용산구'</add>\n",
    "\t</people>\n",
    "</world>"
   ]
  },
  {
   "cell_type": "code",
   "execution_count": 43,
   "id": "e1970fca-f74b-4d00-805c-1c40dca08751",
   "metadata": {},
   "outputs": [
    {
     "data": {
      "text/html": [
       "<div>\n",
       "<style scoped>\n",
       "    .dataframe tbody tr th:only-of-type {\n",
       "        vertical-align: middle;\n",
       "    }\n",
       "\n",
       "    .dataframe tbody tr th {\n",
       "        vertical-align: top;\n",
       "    }\n",
       "\n",
       "    .dataframe thead th {\n",
       "        text-align: right;\n",
       "    }\n",
       "</style>\n",
       "<table border=\"1\" class=\"dataframe\">\n",
       "  <thead>\n",
       "    <tr style=\"text-align: right;\">\n",
       "      <th></th>\n",
       "      <th>Name</th>\n",
       "      <th>Age</th>\n",
       "      <th>Tall</th>\n",
       "      <th>Add</th>\n",
       "    </tr>\n",
       "  </thead>\n",
       "  <tbody>\n",
       "    <tr>\n",
       "      <th>0</th>\n",
       "      <td>김민국</td>\n",
       "      <td>15</td>\n",
       "      <td>183cm</td>\n",
       "      <td>'서울시 서대문구'</td>\n",
       "    </tr>\n",
       "    <tr>\n",
       "      <th>1</th>\n",
       "      <td>박한솔</td>\n",
       "      <td>30</td>\n",
       "      <td>175cm</td>\n",
       "      <td>'서울시 용산구'</td>\n",
       "    </tr>\n",
       "  </tbody>\n",
       "</table>\n",
       "</div>"
      ],
      "text/plain": [
       "  Name Age   Tall         Add\n",
       "0  김민국  15  183cm  '서울시 서대문구'\n",
       "1  박한솔  30  175cm   '서울시 용산구'"
      ]
     },
     "execution_count": 43,
     "metadata": {},
     "output_type": "execute_result"
    }
   ],
   "source": [
    "import pandas as pd \n",
    "import xml.etree.ElementTree as ET\n",
    "mytree = ET.parse('test.xml')\n",
    "root = mytree.getroot()\n",
    "# print(root.tag)\n",
    "df_cols=['Name','Age', 'Tall','Addr]\n",
    "rows=[]\n",
    "for node in root:\n",
    "   s_name=node.attrib.get(\"name\")\n",
    "   s_age=node.find(\"age\").text if node is not None else None\n",
    "   s_tall=node.find(\"tall\").text if node is not None else None\n",
    "   s_add=node.find(\"add\").text if node is not None else None\n",
    "   rows.append({\"Name\":s_name, \"Age\":s_age, 'Tall':s_tall, \"Add\" : s_add})\n",
    "\n",
    "df=pd.DataFrame(rows,columns=rows[0].keys()) \n",
    "df\n",
    "# print(rows)"
   ]
  },
  {
   "cell_type": "code",
   "execution_count": null,
   "id": "f48db605-6c54-4c81-ab86-5f04df2b350d",
   "metadata": {},
   "outputs": [],
   "source": []
  }
 ],
 "metadata": {
  "kernelspec": {
   "display_name": "Python 3 (ipykernel)",
   "language": "python",
   "name": "python3"
  },
  "language_info": {
   "codemirror_mode": {
    "name": "ipython",
    "version": 3
   },
   "file_extension": ".py",
   "mimetype": "text/x-python",
   "name": "python",
   "nbconvert_exporter": "python",
   "pygments_lexer": "ipython3",
   "version": "3.9.13"
  }
 },
 "nbformat": 4,
 "nbformat_minor": 5
}
